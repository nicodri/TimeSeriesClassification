{
 "cells": [
  {
   "cell_type": "code",
   "execution_count": 37,
   "metadata": {
    "collapsed": false
   },
   "outputs": [],
   "source": [
    "import numpy as np\n",
    "import h5py\n",
    "\n",
    "DATA_PATH = '../User Identification From Walking Activity/'\n",
    "PARTICIPANTS_PATHS = [DATA_PATH+str(i)+'.csv' for i in xrange(1,22)]"
   ]
  },
  {
   "cell_type": "code",
   "execution_count": 39,
   "metadata": {
    "collapsed": false
   },
   "outputs": [],
   "source": [
    "def split(array, chunk_number, sample_size, overlaping_size):\n",
    "    '''\n",
    "    Split the 2d arrays in samples as a 3d array with rows a sample of size\n",
    "    sample_size and overlaping with its surrounding on overlaping_size timestamps.\n",
    "    '''\n",
    "    array_split = np.zeros((chunk_number, sample_size + overlaping_size, array.shape[1]))\n",
    "    # Bounds: choice of overlaping more with consecutive TS \n",
    "    array_split[0,: , :] = array[: sample_size + overlaping_size]\n",
    "    array_split[-1,: , :] = array[- (sample_size + overlaping_size):]\n",
    "    # Body\n",
    "    for i in xrange(1, chunk_number - 1):\n",
    "        array_split[i,: , :] = array[sample_size*i - overlaping_size/2: sample_size*(i+1) + overlaping_size/2]\n",
    "    return array_split"
   ]
  },
  {
   "cell_type": "code",
   "execution_count": 51,
   "metadata": {
    "collapsed": true
   },
   "outputs": [],
   "source": [
    "# Dividing set into overlapping samples as a 3d matrix:\n",
    "# (sample_id, timestamp, coordinates)\n",
    "\n",
    "# Input parameters:\n",
    "# sample_size: number of timestamps in each sample\n",
    "# overlaping_percentage: percentage of the sample_size overlaping with surrounding timeseries\n",
    "#                        added to each sample\n",
    "sample_size = 50\n",
    "overlaping_percentage = 0.4\n",
    "\n",
    "overlaping_size = int(round(overlaping_percentage * sample_size))"
   ]
  },
  {
   "cell_type": "code",
   "execution_count": 52,
   "metadata": {
    "collapsed": false
   },
   "outputs": [],
   "source": [
    "# Routines to build chunks for each participant\n",
    "participants_train = {}\n",
    "participants_test = {}\n",
    "for i, p_path in enumerate(PARTICIPANTS_PATHS):\n",
    "    # Loading data\n",
    "    participant = np.loadtxt(p_path, delimiter=',')\n",
    "    # Test set: 10 last percent of the TS\n",
    "    test_index = int(0.9*participant.shape[0])\n",
    "    train = participant[:test_index]\n",
    "    test = participant[test_index:]\n",
    "    # Number of chunks\n",
    "    chunk_number_train = train.shape[0]/sample_size \n",
    "    chunk_number_test = test.shape[0]/sample_size \n",
    "    train_split = split(train, chunk_number_train, sample_size, overlaping_size)\n",
    "    test_split = split(test, chunk_number_test, sample_size, overlaping_size)\n",
    "    \n",
    "    participants_train[i+1] = train_split\n",
    "    participants_test[i+1] = test_split"
   ]
  },
  {
   "cell_type": "code",
   "execution_count": 55,
   "metadata": {
    "collapsed": false
   },
   "outputs": [],
   "source": [
    "# Saving the split\n",
    "with h5py.File('../data/split_{}_{}.hdf5'.format(sample_size, overlaping_percentage), \"w\") as f:\n",
    "    for k,v in participants_train.iteritems():\n",
    "        f['train_{}'.format(k)] = v\n",
    "    for k,v in participants_test.iteritems():\n",
    "        f['test_{}'.format(k)] = v"
   ]
  },
  {
   "cell_type": "code",
   "execution_count": 59,
   "metadata": {
    "collapsed": false
   },
   "outputs": [],
   "source": [
    "# Loading the split\n",
    "participants_train = {}\n",
    "participants_test = {}\n",
    "filename = '../data/split_{}_{}.hdf5'.format(sample_size, overlaping_percentage)\n",
    "with h5py.File(filename,'r') as hf:\n",
    "    for k in xrange(1,21+1):\n",
    "        participants_train[k] = np.array(hf.get('train_{}'.format(k)))\n",
    "        participants_test[k] = np.array(hf.get('test_{}'.format(k)))"
   ]
  },
  {
   "cell_type": "code",
   "execution_count": null,
   "metadata": {
    "collapsed": true
   },
   "outputs": [],
   "source": []
  }
 ],
 "metadata": {
  "kernelspec": {
   "display_name": "Python 2",
   "language": "python",
   "name": "python2"
  },
  "language_info": {
   "codemirror_mode": {
    "name": "ipython",
    "version": 2
   },
   "file_extension": ".py",
   "mimetype": "text/x-python",
   "name": "python",
   "nbconvert_exporter": "python",
   "pygments_lexer": "ipython2",
   "version": "2.7.11"
  }
 },
 "nbformat": 4,
 "nbformat_minor": 0
}
