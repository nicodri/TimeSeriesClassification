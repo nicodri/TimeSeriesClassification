{
 "cells": [
  {
   "cell_type": "code",
   "execution_count": 1,
   "metadata": {
    "collapsed": true
   },
   "outputs": [],
   "source": [
    "require 'hdf5'\n",
    "require 'nn'\n",
    "require 'nngraph'\n",
    "require 'randomkit'\n",
    "require 'distributions'\n",
    "P = require 'itorch.Plot'"
   ]
  },
  {
   "cell_type": "markdown",
   "metadata": {},
   "source": [
    "# PRELIMINARY"
   ]
  },
  {
   "cell_type": "markdown",
   "metadata": {},
   "source": [
    "The code being in Lua/Torch, we can point you to these tutorials made by Sam Wiseman in CS287 to get a good overview of how to code in Lua:\n",
    "- Basic Lua: http://nbviewer.jupyter.org/urls/cs287.github.io/Lectures/notebooks/TorchTutorial.ipynb\n",
    "- Neural Network: http://nbviewer.jupyter.org/urls/cs287.github.io/Lectures/notebooks/NNTutorial.ipynb\n"
   ]
  },
  {
   "cell_type": "markdown",
   "metadata": {},
   "source": [
    "## Max-Entropy Markov Model (MEMM)"
   ]
  },
  {
   "cell_type": "markdown",
   "metadata": {},
   "source": [
    "We first define all the necessary functions:\n",
    "- Train function\n",
    "- An accuracy function\n",
    "- A fonction that outputs the log-score for MEMM computation\n",
    "- A viterbi implementation\n",
    "- An f-score function"
   ]
  },
  {
   "cell_type": "code",
   "execution_count": 19,
   "metadata": {
    "collapsed": true
   },
   "outputs": [],
   "source": [
    "function train_model_(train_inputs, train_outputs, test_inputs, test_outputs, model, criterion, eta, nEpochs, batch)\n",
    "    -- Train the model with a SGD\n",
    "    \n",
    "    -- Define the default values of parameters, as well as allocate memory:\n",
    "    local batch = batch or 16\n",
    "    local loss = torch.zeros(nEpochs)\n",
    "    local av_L = 0\n",
    "    local f = 0\n",
    "    local df_do\n",
    "    local len = train_inputs:size(2)\n",
    "    for i = 1, nEpochs do\n",
    "        -- Display progess\n",
    "        xlua.progress(i, nEpochs)\n",
    "\n",
    "        -- timing the epoch\n",
    "        local timer = torch.Timer()\n",
    "        av_L = 0\n",
    "        \n",
    "        for ii = 1, train_inputs:size(1), batch do\n",
    "            \n",
    "            -- Batchsize:\n",
    "            current_batch_size = math.min(batch,train_inputs:size(1)-ii)\n",
    "            \n",
    "            -- reset gradients:\n",
    "            model:zeroGradParameters()\n",
    "\n",
    "            -- Forward pass (selection of inputs_batch in case the batch is not full, ie last batch)\n",
    "            -- Evaluate the outputs predicted by the model:\n",
    "            local pred = model:forward(train_inputs:narrow(1, ii, current_batch_size))\n",
    "            -- Evaluate the loss (Non Negative Likelihood):\n",
    "            f = criterion:forward(pred, train_outputs:narrow(1, ii, current_batch_size))\n",
    "            av_L = av_L + f\n",
    "            \n",
    "            -- Evaluate gradients wrt to the loss\n",
    "            df_do = criterion:backward(pred, train_outputs:narrow(1, ii, current_batch_size))\n",
    "            -- Propagate backwards the gradients\n",
    "            model:backward(train_inputs:narrow(1, ii, current_batch_size), df_do)\n",
    "            -- Stochastic gradient descent update\n",
    "            model:updateParameters(eta)\n",
    "            \n",
    "        end\n",
    "\n",
    "        loss[i] = av_L/math.floor(train_inputs:size(1)/batch)\n",
    "        acc_test = accuracy_(test_inputs, test_outputs, model)\n",
    "        print('Epoch '..i..': '..timer:time().real)\n",
    "        print('\\n')\n",
    "        print('Average Loss on Train: '.. loss[i])\n",
    "        print('\\n')\n",
    "        print('Accucary on Validation: '.. acc_test)\n",
    "        print('***************************************************')\n",
    "        if acc_test > 0.99 then\n",
    "            break\n",
    "        end\n",
    "    end\n",
    "\n",
    "    return loss\n",
    "end\n",
    "\n",
    "-- Evaluate accuracy:\n",
    "function accuracy_(input, output, model)\n",
    "\n",
    "    local acc = 0.\n",
    "\n",
    "    for i = 1, input:size(1) do\n",
    "        -- Predict a distribution given input\n",
    "        pred = model:forward(input[i])\n",
    "        m, a = pred:view(6,1):max(1)\n",
    "\n",
    "        if a[1][1] == output[i] then\n",
    "            acc = acc + 1.\n",
    "        end\n",
    "    end\n",
    "\n",
    "    return acc/input:size(1)\n",
    "\n",
    "end\n",
    "\n",
    "-- Computes logscore at timestep i i.e. log probabilities given all classes at previous step:\n",
    "function compute_logscore_(inputs, i, model, C)\n",
    "    local y = torch.zeros(C,C)\n",
    "    local hot_1 = torch.zeros(C)\n",
    "    for j = 1, C do\n",
    "        -- Previous Class\n",
    "        hot_1:zero()\n",
    "        hot_1[j] = 1\n",
    "        -- Store Score\n",
    "        y:narrow(1,j,1):copy(model:forward(torch.cat(hot_1,inputs[i],1)))\n",
    "    end\n",
    "    return y\n",
    "end\n",
    "\n",
    "-- Evaluates the highest scoring sequence:\n",
    "function viterbi_(inputs, init, compute_logscore, model, C)\n",
    "    \n",
    "    local y = torch.zeros(C,C)\n",
    "    -- Formating tensors\n",
    "    local initial = torch.zeros(C, 1)\n",
    "    -- initial started with a start of sentence: <t>\n",
    "\n",
    "    initial[{init,1}] = 1\n",
    "    initial:log()\n",
    "\n",
    "    -- number of classes\n",
    "    local n = inputs:size(1)\n",
    "    local max_table = torch.Tensor(n, C)\n",
    "    local backpointer_table = torch.Tensor(n, C)\n",
    "    -- first timestep\n",
    "    -- the initial most likely paths are the initial state distribution\n",
    "    local maxes, backpointers = (initial + compute_logscore_(inputs, 1, model, C)[init]):max(2)\n",
    "    max_table[1] = maxes\n",
    "    -- remaining timesteps (\"forwarding\" the maxes)\n",
    "    for i=2,n do\n",
    "        -- precompute edge scores\n",
    "       \n",
    "        y:copy(compute_logscore_(inputs, i, model, C))\n",
    "        scores = y:transpose(1,2) + maxes:view(1, C):expand(C, C)\n",
    "\n",
    "        -- compute new maxes \n",
    "        maxes, backpointers = scores:max(2)\n",
    "\n",
    "        -- record\n",
    "        max_table[i] = maxes\n",
    "        backpointer_table[i] = backpointers\n",
    "    end\n",
    "    -- follow backpointers to recover max path\n",
    "    local classes = torch.Tensor(n)\n",
    "    maxes, classes[n] = maxes:max(1)\n",
    "    for i=n,2,-1 do\n",
    "        classes[i-1] = backpointer_table[{i, classes[i]}]\n",
    "    end\n",
    "\n",
    "    return classes\n",
    "end\n",
    "\n",
    "-- Evaluate accuracy of the path\n",
    "function path_accuracy(pred_path, true_path)\n",
    "\n",
    "    local acc = 0.\n",
    "    local path_length = pred_path:size(1)\n",
    "    \n",
    "    for i = 1, path_length do\n",
    "        if pred_path[i] == true_path[i] then\n",
    "            acc = acc + 1.\n",
    "        end\n",
    "    end\n",
    "\n",
    "    return acc/path_length\n",
    "\n",
    "end"
   ]
  },
  {
   "cell_type": "markdown",
   "metadata": {},
   "source": [
    "We now load the data:"
   ]
  },
  {
   "cell_type": "code",
   "execution_count": 30,
   "metadata": {
    "collapsed": false
   },
   "outputs": [],
   "source": [
    "myFile = hdf5.open('../HAR/preprocessed_1.hdf5','r')\n",
    "f = myFile:all()\n",
    "myFile:close()"
   ]
  },
  {
   "cell_type": "code",
   "execution_count": 31,
   "metadata": {
    "collapsed": false
   },
   "outputs": [],
   "source": [
    "x = f['x_train_with_past']\n",
    "y = f['y_train_with_past']\n",
    "x_test = f['x_test_with_past']\n",
    "y_test = f['y_test_with_past']\n",
    "x_test_withoutpast = f['x_test']\n",
    "y_test_withoutpast = f['y_test']\n",
    "\n",
    "n = x:size(1)\n",
    "torch.manualSeed(1)\n",
    "perm = torch.randperm(n):long()\n",
    "x_train = x:index(1,perm):narrow(1,1,math.floor(0.9*n))\n",
    "y_train = y:index(1,perm):narrow(1,1,math.floor(0.9*n))\n",
    "x_val = x:index(1,perm):narrow(1,math.floor(0.9*n)+1, n-math.floor(0.9*n))\n",
    "y_val = y:index(1,perm):narrow(1,math.floor(0.9*n)+1, n-math.floor(0.9*n))"
   ]
  },
  {
   "cell_type": "markdown",
   "metadata": {},
   "source": [
    "We now define a simple Multi-Layer Perceptron using the nn model:"
   ]
  },
  {
   "cell_type": "code",
   "execution_count": 37,
   "metadata": {
    "collapsed": false
   },
   "outputs": [],
   "source": [
    "model = nn.Sequential()\n",
    "model:add(nn.Linear(567,600))\n",
    "model:add(nn.Tanh())\n",
    "model:add(nn.Linear(600,300))\n",
    "model:add(nn.Tanh())\n",
    "model:add(nn.Linear(300,6))\n",
    "model:add(nn.LogSoftMax())"
   ]
  },
  {
   "cell_type": "markdown",
   "metadata": {},
   "source": [
    "We initialise the weigths uniformly between -0.05 and 0.05:"
   ]
  },
  {
   "cell_type": "code",
   "execution_count": 38,
   "metadata": {
    "collapsed": true
   },
   "outputs": [],
   "source": [
    "parameters, gradParameters = model:getParameters()\n",
    "torch.manualSeed(0)\n",
    "randomkit.uniform(parameters,-0.05,0.05)"
   ]
  },
  {
   "cell_type": "markdown",
   "metadata": {},
   "source": [
    "We define the loss function, i.e. negative log-likelihood:"
   ]
  },
  {
   "cell_type": "code",
   "execution_count": 39,
   "metadata": {
    "collapsed": false
   },
   "outputs": [],
   "source": [
    "criterion = nn.ClassNLLCriterion()"
   ]
  },
  {
   "cell_type": "markdown",
   "metadata": {},
   "source": [
    "We train the model, and stop when performance on validation/test is aborve 99%:"
   ]
  },
  {
   "cell_type": "code",
   "execution_count": 40,
   "metadata": {
    "collapsed": false
   },
   "outputs": [
    {
     "data": {
      "text/plain": [
       "Epoch 1: 1.6464028358459\t\n",
       "\n",
       "\t\n",
       "Average Loss on Train: 0.86671255328499\t\n",
       "\n",
       "\t\n",
       "Accucary on Validation: 0.90625\t\n",
       "***************************************************\t\n"
      ]
     },
     "execution_count": 40,
     "metadata": {},
     "output_type": "execute_result"
    },
    {
     "data": {
      "text/plain": [
       "Epoch 2: 1.6089570522308\t\n",
       "\n",
       "\t\n",
       "Average Loss on Train: 0.28936687498716\t\n",
       "\n",
       "\t\n",
       "Accucary on Validation: 0.95652173913043\t\n",
       "***************************************************\t\n"
      ]
     },
     "execution_count": 40,
     "metadata": {},
     "output_type": "execute_result"
    },
    {
     "data": {
      "text/plain": [
       "Epoch 3: 1.6274170875549\t\n",
       "\n",
       "\t\n",
       "Average Loss on Train: 0.12721662849995\t\n",
       "\n",
       "\t\n",
       "Accucary on Validation: 0.98233695652174\t\n",
       "***************************************************\t\n"
      ]
     },
     "execution_count": 40,
     "metadata": {},
     "output_type": "execute_result"
    },
    {
     "data": {
      "text/plain": [
       "Epoch 4: 1.5920560359955\t\n",
       "\n",
       "\t\n",
       "Average Loss on Train: 0.070152062749231\t\n",
       "\n",
       "\t\n",
       "Accucary on Validation: 0.98641304347826\t\n",
       "***************************************************\t\n",
       "Progress: 5 / 20\t\n"
      ]
     },
     "execution_count": 40,
     "metadata": {},
     "output_type": "execute_result"
    },
    {
     "data": {
      "text/plain": [
       "Epoch 5: 1.8362309932709\t\n",
       "\n",
       "\t\n",
       "Average Loss on Train: 0.04656034099656\t\n",
       "\n",
       "\t\n",
       "Accucary on Validation: 0.98913043478261\t\n",
       "***************************************************\t\n"
      ]
     },
     "execution_count": 40,
     "metadata": {},
     "output_type": "execute_result"
    },
    {
     "data": {
      "text/plain": [
       "Epoch 6: 1.6208820343018\t\n",
       "\n",
       "\t\n",
       "Average Loss on Train: 0.034651948400027\t\n",
       "\n",
       "\t\n",
       "Accucary on Validation: 0.9945652173913\t\n",
       "***************************************************\t\n"
      ]
     },
     "execution_count": 40,
     "metadata": {},
     "output_type": "execute_result"
    }
   ],
   "source": [
    "loss = train_model_(x_train, y_train, x_val, y_val, model, criterion, 0.01, 20, 16)"
   ]
  },
  {
   "cell_type": "markdown",
   "metadata": {
    "collapsed": true
   },
   "source": [
    "We predict a path on the test set:"
   ]
  },
  {
   "cell_type": "code",
   "execution_count": 41,
   "metadata": {
    "collapsed": true
   },
   "outputs": [],
   "source": [
    "input_test = x_test_withoutpast:narrow(1,2,x_test_withoutpast:size(1)-1)\n",
    "predicted_path = viterbi_(input_test, y_test_withoutpast[1], compute_logscore, model, 6)"
   ]
  },
  {
   "cell_type": "markdown",
   "metadata": {},
   "source": [
    "And evaluate accuracy:"
   ]
  },
  {
   "cell_type": "code",
   "execution_count": 42,
   "metadata": {
    "collapsed": false
   },
   "outputs": [
    {
     "data": {
      "text/plain": [
       "0.91989137813985\t\n"
      ]
     },
     "execution_count": 42,
     "metadata": {},
     "output_type": "execute_result"
    }
   ],
   "source": [
    "print(path_accuracy(predicted_path, y_test))"
   ]
  },
  {
   "cell_type": "markdown",
   "metadata": {},
   "source": [
    "## Simulated Annealing for Optimal MLP architecture"
   ]
  },
  {
   "cell_type": "markdown",
   "metadata": {},
   "source": [
    "Building the right architecture for an MLP is more of an art than a science. How many layers? How dense or sparse features? What type of activation layer, how many of these? We now present a simulated annealing algorithm that can help discover the optimal architecture. The goal is to maximise accuracy on the validation set by sampling a new architecture at every iteration. This new architecture is accepted with probability depending on the difference between the current accuracy and the accuracy of the new sampled model."
   ]
  },
  {
   "cell_type": "markdown",
   "metadata": {},
   "source": [
    "The algorithm is not yet capable of inventing a random architecture, it is more a question of pruning, altering a a general, \"maximal\" architecture. Given a current architecture, we generate a new architecture by perturbing one layer other than the final layer. By perturbing we mean:\n",
    "- activating a layer of the \"maximal\" architecture\n",
    "- deleting a layer\n",
    "- modifying the hidden dimensions\n",
    "- adding an activation function between layer\n",
    "- concatenating part of the inputs at various places in the architecture"
   ]
  },
  {
   "cell_type": "code",
   "execution_count": 2,
   "metadata": {
    "collapsed": true
   },
   "outputs": [],
   "source": [
    "-- HELPER (taken from https://gist.github.com/MihailJP/3931841)\n",
    "function table_copy (t) \n",
    "    if type(t) ~= \"table\" then return t end\n",
    "    local meta = getmetatable(t)\n",
    "    local target = {}\n",
    "    for k, v in pairs(t) do target[k] = v end\n",
    "    setmetatable(target, meta)\n",
    "    return target\n",
    "end"
   ]
  },
  {
   "cell_type": "code",
   "execution_count": 3,
   "metadata": {
    "collapsed": true
   },
   "outputs": [],
   "source": [
    "-- Define a model given a parametrisation\n",
    "-- We used the 'nngraph' module for this task. The main advantage of the nngraph module over the regular nn\n",
    "-- Is that it allows us to be more flexible on how you use inner layers and how to connect them\n",
    "-- The basic idea is that every nn module is transformed into a node in a network by adding a () to its call:\n",
    "-- e.g. nn.Linear(4,4)()\n",
    "function buildmodel(lookup, lt_hid, link1, hid1, activ1, link2, hid2, activ2, link3, activ3)\n",
    "    \n",
    "    -- Define default variables\n",
    "    local lookup = lookup or false\n",
    "    local lt_hid = lt_hid or 6\n",
    "    local link1 = link1 or true\n",
    "    local hid1 = hid1 or 600\n",
    "    local activ1 = activ1 or true\n",
    "    local link2 = link2 or false\n",
    "    local hid2 = hid2 or 300\n",
    "    local activ2 = activ2 or true\n",
    "    local link3 = link3 or false\n",
    "    local activ3 = activ3 or false\n",
    "\n",
    "    -- Define inputs\n",
    "    prev_class = nn.Identity()()\n",
    "    obs = nn.Identity()()\n",
    "\n",
    "    -- Embed the classes using a lookup table\n",
    "    if lookup == true then\n",
    "        prev_ = nn.Narrow(2,1,1)(prev_class)\n",
    "        prev = nn.View(-1,lt_hid)(nn.LookupTable(6,lt_hid)(prev_))\n",
    "        len_prev = lt_hid\n",
    "    else\n",
    "        prev = nn.Narrow(2,2,6)(prev_class)\n",
    "        len_prev = 6\n",
    "    end\n",
    "\n",
    "    -- Concat the prev class or not ?\n",
    "    -- Apply a first linear transformation\n",
    "    if link1 == true then\n",
    "        layer1 = nn.Linear(561 + len_prev, hid1)(nn.JoinTable(2)({prev,obs}))\n",
    "    else\n",
    "        layer1 = nn.Linear(561, hid1)(obs)\n",
    "    end\n",
    "\n",
    "    -- Activate output of previous layer using Tanh\n",
    "    if activ1 == true then\n",
    "        layer2 = nn.Tanh()(layer1)\n",
    "    else\n",
    "        layer2 = layer1\n",
    "    end\n",
    "\n",
    "    -- Concat the prev class or not ?\n",
    "    -- Apply a second linear transformation\n",
    "    if link2 == true then\n",
    "        layer3 = nn.Linear(hid1+len_prev, hid2)(nn.JoinTable(2)({prev,layer2}))\n",
    "    else\n",
    "        layer3 = nn.Linear(hid1, hid2)(layer2)\n",
    "    end\n",
    "    \n",
    "    -- Activate output of previous layer using Tanh\n",
    "    if activ2 == true then\n",
    "        layer4 = nn.Tanh()(layer3)\n",
    "    else\n",
    "        layer4 = layer3\n",
    "    end\n",
    "\n",
    "    -- Concat the prev class or not ?\n",
    "    -- Apply a third linear transformation\n",
    "    if link3 == true then\n",
    "        layer5 = nn.Linear(hid2+len_prev, 6)(nn.JoinTable(2)({prev,layer4}))\n",
    "    else\n",
    "        layer5 = nn.Linear(hid2, 6)(layer4)\n",
    "    end\n",
    "    -- Activate output of previous layer using Tanh\n",
    "    if activ3 == true then\n",
    "        layer6 = nn.Tanh()(layer5)\n",
    "    else\n",
    "        layer6 = layer5\n",
    "    end\n",
    "\n",
    "    -- Define output, by taking a logsoftmax on previous output (distribution over the 6 classes)\n",
    "    out = nn.LogSoftMax()(layer6)\n",
    "\n",
    "    return nn.gModule({prev_class, obs}, {out})\n",
    "end\n",
    "\n",
    "function buildmodel_fromtable(tab)\n",
    "    return buildmodel(tab[1], tab[2], tab[3], tab[4], tab[5], tab[6], tab[7], tab[8], tab[9], tab[10])\n",
    "end"
   ]
  },
  {
   "cell_type": "code",
   "execution_count": 4,
   "metadata": {
    "collapsed": true
   },
   "outputs": [],
   "source": [
    "-- Assess accuracy of a model input by input\n",
    "function accuracy(input_1, input_2, output, model)\n",
    "    local acc = 0.\n",
    "    for i = 1, input_1:size(1) do\n",
    "        pred = model:forward({input_1:narrow(1,i,1),input_2:narrow(1,i,1)})\n",
    "        m, a = pred:max(2)\n",
    "        if a[1][1] == output[i] then\n",
    "            acc = acc + 1.\n",
    "        end\n",
    "    end\n",
    "    return acc/input_1:size(1)\n",
    "end\n",
    "\n",
    "-- Assess acccuracy on a predicted path\n",
    "function path_accuracy(pred_path, true_path)\n",
    "    local acc = 0.\n",
    "    local path_length = pred_path:size(1)\n",
    "    for i = 1, path_length do\n",
    "        if pred_path[i] == true_path[i] then\n",
    "            acc = acc + 1.\n",
    "        end\n",
    "    end\n",
    "    return acc/path_length\n",
    "end"
   ]
  },
  {
   "cell_type": "code",
   "execution_count": 51,
   "metadata": {
    "collapsed": true
   },
   "outputs": [],
   "source": [
    " -- Train the model with a SGD\n",
    "function train_model(train_inputs_1, train_inputs_2, train_outputs, val_inputs_1, val_inputs_2, val_outputs, model, criterion, eta, batch, nEpochs, val_stop)\n",
    "    -- Define default variables:\n",
    "    local batch = batch or 16\n",
    "    local loss = torch.zeros(nEpochs)\n",
    "    local av_L = 0\n",
    "    local f = 0\n",
    "    local df_do\n",
    "    local len = train_inputs_1:size(2)\n",
    "    local ntrain = train_inputs_1:size(1)\n",
    "    \n",
    "    local val_stop = val_stop or True\n",
    "\n",
    "    for i = 1, nEpochs do\n",
    "        -- timing the epoch\n",
    "        local timer = torch.Timer()\n",
    "        av_L = 0\n",
    "        \n",
    "        for ii = 1, ntrain, batch do\n",
    "            \n",
    "            current_batch_size = math.min(batch,ntrain-ii)\n",
    "            -- reset gradients\n",
    "            model:zeroGradParameters()\n",
    "\n",
    "            -- Forward pass (selection of inputs_batch in case the batch is not full, ie last batch)\n",
    "            local pred = model:forward({train_inputs_1:narrow(1, ii, current_batch_size),train_inputs_2:narrow(1, ii, current_batch_size)})\n",
    "            -- Average loss computation\n",
    "            f = criterion:forward(pred, train_outputs:narrow(1, ii, current_batch_size))\n",
    "            av_L = av_L + f\n",
    "            \n",
    "            -- Backward pass\n",
    "            df_do = criterion:backward(pred, train_outputs:narrow(1, ii, current_batch_size))\n",
    "            model:backward({train_inputs_1:narrow(1, ii, current_batch_size),train_inputs_2:narrow(1, ii, current_batch_size)}, df_do)\n",
    "            model:updateParameters(eta)\n",
    "            \n",
    "        end\n",
    "\n",
    "        loss[i] = av_L/math.floor(ntrain/batch)\n",
    "        acc_val = accuracy(val_inputs_1, val_inputs_2, val_outputs, model)\n",
    "        if acc_val > 0.99 and val_stop then\n",
    "            return loss[i], acc_val, loss\n",
    "        end\n",
    "    end\n",
    "    return loss[nEpochs], acc_val, loss\n",
    "    \n",
    "end"
   ]
  },
  {
   "cell_type": "code",
   "execution_count": 6,
   "metadata": {
    "collapsed": true
   },
   "outputs": [],
   "source": [
    "-- Generate new architecture, that is different from the current with probability p\n",
    "function generate_archi(current, p)\n",
    "    local archi = table_copy(current)\n",
    "    local tochange = math.random(10)\n",
    "    if torch.uniform()<p then\n",
    "        if type(archi[tochange]) == 'boolean' then\n",
    "            archi[tochange] = not archi[tochange]\n",
    "        elseif type(archi[tochange]) == 'number' then\n",
    "            sgn = math.random(0,1)\n",
    "            if sgn == 0 then\n",
    "                sgn = -1\n",
    "            end\n",
    "            temp = archi[tochange]+ sgn* math.random(20)\n",
    "            if temp>6 then\n",
    "                archi[tochange] = temp\n",
    "            else\n",
    "                archi[tochange] = 6\n",
    "            end\n",
    "        end\n",
    "    end\n",
    "    return archi\n",
    "end"
   ]
  },
  {
   "cell_type": "code",
   "execution_count": 7,
   "metadata": {
    "collapsed": true
   },
   "outputs": [],
   "source": [
    "-- Evalaute cost\n",
    "function cost(val_acc)\n",
    "    return 1-val_acc\n",
    "end"
   ]
  },
  {
   "cell_type": "code",
   "execution_count": 8,
   "metadata": {
    "collapsed": true
   },
   "outputs": [],
   "source": [
    "-- Finds optimal architecture using Simulated Annealing:\n",
    "function SA(initial_archi, train_inputs_1, train_inputs_2, train_outputs, val_inputs_1, val_inputs_2, val_outputs, eta, batch, nEpochs, nIt, T, annealing)\n",
    "    -- Memory allocation\n",
    "    local model_table = {}\n",
    "    local archi = {}\n",
    "    local costs = {}\n",
    "    local train_acc\n",
    "    local val_acc\n",
    "    local archi_prev\n",
    "    local archi_new\n",
    "    local cost_prev = 0\n",
    "    local cost_new = 0\n",
    "    local train_acc_new = 0 \n",
    "    local acc_val_new = 0\n",
    "    local criterion = nn.ClassNLLCriterion()\n",
    "    local model_prev\n",
    "    local ct = 0\n",
    "    \n",
    "    -- Initialisation\n",
    "    model_table[1] = buildmodel_fromtable(initial_archi)\n",
    "    archi[1] = initial_archi\n",
    "    \n",
    "    -- Train the first model and save cost:\n",
    "    train_acc, val_acc = train_model(train_inputs_1, train_inputs_2, train_outputs, val_inputs_1, val_inputs_2, val_outputs, model_table[1], criterion, 0.01, batch, nEpochs)\n",
    "    costs[1] = cost(val_acc)\n",
    "\n",
    "    archi_prev = table_copy(initial_archi)\n",
    "    model_prev = model_table[1]:clone()\n",
    "    cost_prev = costs[1]\n",
    "    \n",
    "    for i = 2,nIt do\n",
    "        print(i..'/'..nIt)\n",
    "        -- Generate new architecture\n",
    "        archi_new = generate_archi(archi_prev, 0.5)\n",
    "        -- Create model associated with this architecture\n",
    "        model_new = buildmodel_fromtable(archi_new) \n",
    "        -- Train the new model\n",
    "        train_acc_new, val_acc_new = train_model(train_inputs_1, train_inputs_2, train_outputs, val_inputs_1, val_inputs_2, val_outputs, model_new, criterion, eta, batch, nEpochs)\n",
    "        -- Evaluate cost\n",
    "        cost_new = cost(val_acc_new)\n",
    "        \n",
    "        -- Accept new architecture with probability equal to torch.exp(-(cost_new-cost_prev)/T)\n",
    "        if torch.uniform() < torch.exp(-(cost_new-cost_prev)/T) then\n",
    "            archi_prev = table_copy(archi_new)\n",
    "            model_prev = model_new:clone()\n",
    "            cost_prev = cost_new\n",
    "            ct = ct + 1\n",
    "            -- Update temperature:\n",
    "            if ct == 3 then\n",
    "                T = T * annealing\n",
    "                ct = 0\n",
    "            end\n",
    "        end\n",
    "        model_table[i] = model_prev:clone()\n",
    "        costs[i] = cost_prev\n",
    "        archi[i] = table_copy(archi_prev)\n",
    "    end\n",
    "\n",
    "    return model_table[nIt-1], archi, costs, model_table\n",
    "end"
   ]
  },
  {
   "cell_type": "code",
   "execution_count": 9,
   "metadata": {
    "collapsed": true
   },
   "outputs": [],
   "source": [
    "-- Load Data:\n",
    "myFile = hdf5.open('../HAR/preprocessed_1.hdf5','r')\n",
    "f = myFile:all()\n",
    "myFile:close()\n",
    "\n",
    "x = f['x_train_with_past2']\n",
    "y = f['y_train_with_past']\n",
    "x_test = f['x_test_with_past2']\n",
    "y_test = f['y_test_with_past']\n",
    "x_test_withoutpast = f['x_test']\n",
    "y_test_withoutpast = f['y_test']\n",
    "\n",
    "n = x:size(1)\n",
    "torch.manualSeed(1)\n",
    "perm = torch.randperm(n):long()\n",
    "x_train = x:index(1,perm):narrow(1,1,math.floor(0.9*n))\n",
    "y_train = y:index(1,perm):narrow(1,1,math.floor(0.9*n))\n",
    "x_train_1 = x_train:narrow(2,1,7)\n",
    "x_train_2 = x_train:narrow(2,8,561)\n",
    "x_val = x:index(1,perm):narrow(1,math.floor(0.9*n)+1, n-math.floor(0.9*n))\n",
    "y_val = y:index(1,perm):narrow(1,math.floor(0.9*n)+1, n-math.floor(0.9*n))\n",
    "x_val_1 = x_val:narrow(2,1,7)\n",
    "x_val_2 = x_val:narrow(2,8,561)"
   ]
  },
  {
   "cell_type": "code",
   "execution_count": 10,
   "metadata": {
    "collapsed": true
   },
   "outputs": [],
   "source": [
    "criterion = nn.ClassNLLCriterion()"
   ]
  },
  {
   "cell_type": "code",
   "execution_count": 11,
   "metadata": {
    "collapsed": true
   },
   "outputs": [],
   "source": [
    "T = 1\n",
    "annealing = 0.8\n",
    "nIt = 20\n",
    "nEpochs = 10\n",
    "batch = 16\n",
    "eta = 0.01\n",
    "initial_archi = {true, 10, true, 300, true, true, 300, true, true, true}"
   ]
  },
  {
   "cell_type": "code",
   "execution_count": 42,
   "metadata": {
    "collapsed": false
   },
   "outputs": [
    {
     "data": {
      "text/plain": [
       " 1  1  0  0  0  0  0\n",
       "[torch.DoubleTensor of size 1x7]\n",
       "\n"
      ]
     },
     "execution_count": 42,
     "metadata": {},
     "output_type": "execute_result"
    }
   ],
   "source": [
    "x_train_1:narrow(1, 1, 1)"
   ]
  },
  {
   "cell_type": "markdown",
   "metadata": {},
   "source": [
    "We start with the following architecture:"
   ]
  },
  {
   "cell_type": "markdown",
   "metadata": {},
   "source": [
    "##### include pic"
   ]
  },
  {
   "cell_type": "code",
   "execution_count": 15,
   "metadata": {
    "collapsed": false
   },
   "outputs": [
    {
     "data": {
      "text/plain": [
       "2/20\t\n"
      ]
     },
     "execution_count": 15,
     "metadata": {},
     "output_type": "execute_result"
    },
    {
     "data": {
      "text/plain": [
       "3/20\t\n"
      ]
     },
     "execution_count": 15,
     "metadata": {},
     "output_type": "execute_result"
    },
    {
     "data": {
      "text/plain": [
       "4/20\t\n"
      ]
     },
     "execution_count": 15,
     "metadata": {},
     "output_type": "execute_result"
    },
    {
     "data": {
      "text/plain": [
       "5/20\t\n"
      ]
     },
     "execution_count": 15,
     "metadata": {},
     "output_type": "execute_result"
    },
    {
     "data": {
      "text/plain": [
       "6/20\t\n"
      ]
     },
     "execution_count": 15,
     "metadata": {},
     "output_type": "execute_result"
    },
    {
     "data": {
      "text/plain": [
       "7/20\t\n"
      ]
     },
     "execution_count": 15,
     "metadata": {},
     "output_type": "execute_result"
    },
    {
     "data": {
      "text/plain": [
       "8/20\t\n"
      ]
     },
     "execution_count": 15,
     "metadata": {},
     "output_type": "execute_result"
    },
    {
     "data": {
      "text/plain": [
       "9/20\t\n"
      ]
     },
     "execution_count": 15,
     "metadata": {},
     "output_type": "execute_result"
    },
    {
     "data": {
      "text/plain": [
       "10/20\t\n"
      ]
     },
     "execution_count": 15,
     "metadata": {},
     "output_type": "execute_result"
    },
    {
     "data": {
      "text/plain": [
       "11/20\t\n"
      ]
     },
     "execution_count": 15,
     "metadata": {},
     "output_type": "execute_result"
    },
    {
     "data": {
      "text/plain": [
       "12/20\t\n"
      ]
     },
     "execution_count": 15,
     "metadata": {},
     "output_type": "execute_result"
    },
    {
     "data": {
      "text/plain": [
       "13/20\t\n"
      ]
     },
     "execution_count": 15,
     "metadata": {},
     "output_type": "execute_result"
    },
    {
     "data": {
      "text/plain": [
       "14/20\t\n"
      ]
     },
     "execution_count": 15,
     "metadata": {},
     "output_type": "execute_result"
    },
    {
     "data": {
      "text/plain": [
       "15/20\t\n"
      ]
     },
     "execution_count": 15,
     "metadata": {},
     "output_type": "execute_result"
    },
    {
     "data": {
      "text/plain": [
       "16/20\t\n"
      ]
     },
     "execution_count": 15,
     "metadata": {},
     "output_type": "execute_result"
    },
    {
     "data": {
      "text/plain": [
       "17/20\t\n"
      ]
     },
     "execution_count": 15,
     "metadata": {},
     "output_type": "execute_result"
    },
    {
     "data": {
      "text/plain": [
       "18/20\t\n"
      ]
     },
     "execution_count": 15,
     "metadata": {},
     "output_type": "execute_result"
    },
    {
     "data": {
      "text/plain": [
       "19/20\t\n"
      ]
     },
     "execution_count": 15,
     "metadata": {},
     "output_type": "execute_result"
    },
    {
     "data": {
      "text/plain": [
       "20/20\t\n"
      ]
     },
     "execution_count": 15,
     "metadata": {},
     "output_type": "execute_result"
    }
   ],
   "source": [
    "opt_model, archi, costs, model_table = SA(initial_archi, x_train_1, x_train_2, y_train, x_val_1, x_val_2, y_val, eta, batch, nEpochs, nIt, T, annealing)"
   ]
  },
  {
   "cell_type": "code",
   "execution_count": 16,
   "metadata": {
    "collapsed": true
   },
   "outputs": [],
   "source": [
    "toprint = torch.zeros(20)\n",
    "for key,value in pairs(costs) do\n",
    "    toprint[key] = value\n",
    "end"
   ]
  },
  {
   "cell_type": "code",
   "execution_count": 18,
   "metadata": {
    "collapsed": true
   },
   "outputs": [],
   "source": [
    "myFile = hdf5.open('toplot_1.hdf5', 'w')\n",
    "myFile:write('toplot_1', toprint)\n",
    "myFile:close()"
   ]
  },
  {
   "cell_type": "code",
   "execution_count": 17,
   "metadata": {
    "collapsed": false
   },
   "outputs": [
    {
     "data": {
      "text/html": [
       "<script type=\"text/javascript\">\n",
       "$(function() {\n",
       "    if (typeof (window._bokeh_onload_callbacks) === \"undefined\"){\n",
       "  window._bokeh_onload_callbacks = [];\n",
       "    }\n",
       "    function load_lib(url, callback){\n",
       "  window._bokeh_onload_callbacks.push(callback);\n",
       "  if (window._bokeh_is_loading){\n",
       "      console.log(\"Bokeh: BokehJS is being loaded, scheduling callback at\", new Date());\n",
       "      return null;\n",
       "  }\n",
       "  console.log(\"Bokeh: BokehJS not loaded, scheduling load and callback at\", new Date());\n",
       "  window._bokeh_is_loading = true;\n",
       "  var s = document.createElement('script');\n",
       "  s.src = url;\n",
       "  s.async = true;\n",
       "  s.onreadystatechange = s.onload = function(){\n",
       "      Bokeh.embed.inject_css(\"https://cdn.pydata.org/bokeh-0.7.0.min.css\");\n",
       "      window._bokeh_onload_callbacks.forEach(function(callback){callback()});\n",
       "  };\n",
       "  s.onerror = function(){\n",
       "      console.warn(\"failed to load library \" + url);\n",
       "  };\n",
       "  document.getElementsByTagName(\"head\")[0].appendChild(s);\n",
       "    }\n",
       "\n",
       "    bokehjs_url = \"https://cdn.pydata.org/bokeh-0.7.0.min.js\"\n",
       "\n",
       "    var elt = document.getElementById(\"c3e338b3-6705-46a9-c67d-b37158e63e27\");\n",
       "    if(elt==null) {\n",
       "  console.log(\"Bokeh: ERROR: autoload.js configured with elementid 'c3e338b3-6705-46a9-c67d-b37158e63e27'\"\n",
       "        + \"but no matching script tag was found. \")\n",
       "  return false;\n",
       "    }\n",
       "\n",
       "    if(typeof(Bokeh) !== \"undefined\") {\n",
       "  console.log(\"Bokeh: BokehJS loaded, going straight to plotting\");\n",
       "  var modelid = \"f4cb1888-616c-45a0-c59e-109620a30fc8\";\n",
       "  var modeltype = \"Plot\";\n",
       "  var all_models = [{\"id\":\"3dd3c44c-19a3-495b-c93f-c480dbfd62f0\",\"type\":\"ColumnDataSource\",\"attributes\":{\"data\":{\"y\":[0.030797101449275,0.030797101449275,0.030797101449275,0.030797101449275,0.02445652173913,0.030797101449275,0.028985507246377,0.023550724637681,0.023550724637681,0.020833333333333,0.028079710144928,0.022644927536232,0.017210144927536,0.023550724637681,0.01268115942029,0.01268115942029,0.011775362318841,0.0072463768115942,0.0072463768115942,0.0072463768115942],\"x\":[1,2,3,4,5,6,7,8,9,10,11,12,13,14,15,16,17,18,19,20]},\"column_names\":[\"y\",\"x\"],\"cont_ranges\":{},\"discrete_ranges\":{},\"selected\":[],\"id\":\"3dd3c44c-19a3-495b-c93f-c480dbfd62f0\",\"doc\":null,\"tags\":[]}},{\"id\":\"aa79834e-62fe-4931-c97a-215505fb245f\",\"type\":\"Line\",\"attributes\":{\"fill_alpha\":{\"units\":\"data\",\"value\":0.2},\"line_alpha\":{\"units\":\"data\",\"value\":1},\"doc\":null,\"size\":{\"units\":\"screen\",\"value\":10},\"fill_color\":{\"value\":\"red\"},\"line_color\":{\"value\":\"red\"},\"x\":{\"units\":\"data\",\"field\":\"x\"},\"id\":\"aa79834e-62fe-4931-c97a-215505fb245f\",\"y\":{\"units\":\"data\",\"field\":\"y\"},\"tags\":[]}},{\"id\":\"305b746c-3634-4deb-cd6a-06ee12c7e68c\",\"type\":\"Line\",\"attributes\":{\"fill_alpha\":{\"units\":\"data\",\"value\":0.2},\"line_alpha\":{\"units\":\"data\",\"value\":1},\"doc\":null,\"size\":{\"units\":\"screen\",\"value\":10},\"fill_color\":{\"value\":\"red\"},\"line_color\":{\"value\":\"red\"},\"x\":{\"units\":\"data\",\"field\":\"x\"},\"id\":\"305b746c-3634-4deb-cd6a-06ee12c7e68c\",\"y\":{\"units\":\"data\",\"field\":\"y\"},\"tags\":[]}},{\"id\":\"0e95a6a2-8d86-410c-c12b-7da8a7372f42\",\"type\":\"GlyphRenderer\",\"attributes\":{\"name\":null,\"nonselection_glyph\":{\"type\":\"Line\",\"id\":\"305b746c-3634-4deb-cd6a-06ee12c7e68c\"},\"doc\":null,\"server_data_source\":null,\"data_source\":{\"type\":\"ColumnDataSource\",\"id\":\"3dd3c44c-19a3-495b-c93f-c480dbfd62f0\"},\"glyph\":{\"type\":\"Line\",\"id\":\"aa79834e-62fe-4931-c97a-215505fb245f\"},\"selection_glyph\":null,\"id\":\"0e95a6a2-8d86-410c-c12b-7da8a7372f42\",\"tags\":[]}},{\"id\":\"646beeb2-f4a7-41fc-c111-cf6af0eff6d8\",\"type\":\"DataRange1d\",\"attributes\":{\"sources\":[{\"columns\":[\"x\"],\"source\":{\"type\":\"ColumnDataSource\",\"id\":\"3dd3c44c-19a3-495b-c93f-c480dbfd62f0\"}}],\"id\":\"646beeb2-f4a7-41fc-c111-cf6af0eff6d8\",\"tags\":[],\"doc\":null}},{\"id\":\"4f4d10f5-e388-4b9b-cbf9-c9449d93716f\",\"type\":\"DataRange1d\",\"attributes\":{\"sources\":[{\"columns\":[\"y\"],\"source\":{\"type\":\"ColumnDataSource\",\"id\":\"3dd3c44c-19a3-495b-c93f-c480dbfd62f0\"}}],\"id\":\"4f4d10f5-e388-4b9b-cbf9-c9449d93716f\",\"tags\":[],\"doc\":null}},{\"id\":\"640a6289-e4fe-4237-c22a-04d575afa26a\",\"type\":\"ToolEvents\",\"attributes\":{\"tags\":[],\"id\":\"640a6289-e4fe-4237-c22a-04d575afa26a\",\"geometries\":[],\"doc\":null}},{\"id\":\"23a6007e-c94b-4abe-ca14-4511e4e7105c\",\"type\":\"BasicTickFormatter\",\"attributes\":{\"id\":\"23a6007e-c94b-4abe-ca14-4511e4e7105c\",\"tags\":[],\"doc\":null}},{\"id\":\"6df259df-00d6-4c1d-cc95-9a45b54cc3c1\",\"type\":\"BasicTicker\",\"attributes\":{\"num_minor_ticks\":5,\"id\":\"6df259df-00d6-4c1d-cc95-9a45b54cc3c1\",\"tags\":[],\"doc\":null}},{\"id\":\"859ec279-368f-4bd5-cbfe-edc6559df4c5\",\"type\":\"LinearAxis\",\"attributes\":{\"formatter\":{\"type\":\"BasicTickFormatter\",\"id\":\"23a6007e-c94b-4abe-ca14-4511e4e7105c\"},\"ticker\":{\"type\":\"BasicTicker\",\"id\":\"6df259df-00d6-4c1d-cc95-9a45b54cc3c1\"},\"plot\":{\"id\":\"f4cb1888-616c-45a0-c59e-109620a30fc8\",\"type\":\"Plot\",\"subtype\":\"Figure\"},\"axis_label\":null,\"id\":\"859ec279-368f-4bd5-cbfe-edc6559df4c5\",\"doc\":null,\"tags\":[]}},{\"id\":\"3efc495f-e3c2-448d-c46e-43fafc3c538e\",\"type\":\"Grid\",\"attributes\":{\"dimension\":0,\"plot\":{\"id\":\"f4cb1888-616c-45a0-c59e-109620a30fc8\",\"type\":\"Plot\",\"subtype\":\"Figure\"},\"ticker\":{\"type\":\"BasicTicker\",\"id\":\"6df259df-00d6-4c1d-cc95-9a45b54cc3c1\"},\"id\":\"3efc495f-e3c2-448d-c46e-43fafc3c538e\",\"doc\":null,\"tags\":[]}},{\"id\":\"a2845367-8bc9-4a0d-cab4-c2a59b2b0972\",\"type\":\"BasicTickFormatter\",\"attributes\":{\"id\":\"a2845367-8bc9-4a0d-cab4-c2a59b2b0972\",\"tags\":[],\"doc\":null}},{\"id\":\"a04ed1b4-3c62-4b65-cbb4-c3d180329b66\",\"type\":\"BasicTicker\",\"attributes\":{\"num_minor_ticks\":5,\"id\":\"a04ed1b4-3c62-4b65-cbb4-c3d180329b66\",\"tags\":[],\"doc\":null}},{\"id\":\"77eec186-0054-431c-c372-a14b085461d5\",\"type\":\"LinearAxis\",\"attributes\":{\"formatter\":{\"type\":\"BasicTickFormatter\",\"id\":\"a2845367-8bc9-4a0d-cab4-c2a59b2b0972\"},\"ticker\":{\"type\":\"BasicTicker\",\"id\":\"a04ed1b4-3c62-4b65-cbb4-c3d180329b66\"},\"plot\":{\"id\":\"f4cb1888-616c-45a0-c59e-109620a30fc8\",\"type\":\"Plot\",\"subtype\":\"Figure\"},\"axis_label\":null,\"id\":\"77eec186-0054-431c-c372-a14b085461d5\",\"doc\":null,\"tags\":[]}},{\"id\":\"5a5b9abf-c699-4165-c113-4182642f97d5\",\"type\":\"Grid\",\"attributes\":{\"dimension\":1,\"plot\":{\"id\":\"f4cb1888-616c-45a0-c59e-109620a30fc8\",\"type\":\"Plot\",\"subtype\":\"Figure\"},\"ticker\":{\"type\":\"BasicTicker\",\"id\":\"a04ed1b4-3c62-4b65-cbb4-c3d180329b66\"},\"id\":\"5a5b9abf-c699-4165-c113-4182642f97d5\",\"doc\":null,\"tags\":[]}},{\"id\":\"595acf0b-a9ae-4013-c05d-28642b4958df\",\"type\":\"PanTool\",\"attributes\":{\"plot\":{\"id\":\"f4cb1888-616c-45a0-c59e-109620a30fc8\",\"type\":\"Plot\",\"subtype\":\"Figure\"},\"dimensions\":[\"width\",\"height\"],\"id\":\"595acf0b-a9ae-4013-c05d-28642b4958df\",\"doc\":null,\"tags\":[]}},{\"id\":\"e9c556fc-44be-4b94-cb22-6242330a5b29\",\"type\":\"WheelZoomTool\",\"attributes\":{\"plot\":{\"id\":\"f4cb1888-616c-45a0-c59e-109620a30fc8\",\"type\":\"Plot\",\"subtype\":\"Figure\"},\"dimensions\":[\"width\",\"height\"],\"id\":\"e9c556fc-44be-4b94-cb22-6242330a5b29\",\"doc\":null,\"tags\":[]}},{\"id\":\"63cdae29-d8e5-4d25-cd6f-c002c1bdd632\",\"type\":\"BoxZoomTool\",\"attributes\":{\"plot\":{\"id\":\"f4cb1888-616c-45a0-c59e-109620a30fc8\",\"type\":\"Plot\",\"subtype\":\"Figure\"},\"id\":\"63cdae29-d8e5-4d25-cd6f-c002c1bdd632\",\"tags\":[],\"doc\":null}},{\"id\":\"879eedd4-3204-4e47-ce4f-e4eee7874098\",\"type\":\"PreviewSaveTool\",\"attributes\":{\"plot\":{\"id\":\"f4cb1888-616c-45a0-c59e-109620a30fc8\",\"type\":\"Plot\",\"subtype\":\"Figure\"},\"id\":\"879eedd4-3204-4e47-ce4f-e4eee7874098\",\"tags\":[],\"doc\":null}},{\"id\":\"d912b050-9b49-47dd-c708-a95a55d6bb2b\",\"type\":\"ResizeTool\",\"attributes\":{\"plot\":{\"id\":\"f4cb1888-616c-45a0-c59e-109620a30fc8\",\"type\":\"Plot\",\"subtype\":\"Figure\"},\"id\":\"d912b050-9b49-47dd-c708-a95a55d6bb2b\",\"tags\":[],\"doc\":null}},{\"id\":\"83cf6174-83d8-4560-c54d-eeb4c0590d89\",\"type\":\"ResetTool\",\"attributes\":{\"plot\":{\"id\":\"f4cb1888-616c-45a0-c59e-109620a30fc8\",\"type\":\"Plot\",\"subtype\":\"Figure\"},\"id\":\"83cf6174-83d8-4560-c54d-eeb4c0590d89\",\"tags\":[],\"doc\":null}},{\"id\":\"f4cb1888-616c-45a0-c59e-109620a30fc8\",\"type\":\"Plot\",\"attributes\":{\"x_range\":{\"type\":\"DataRange1d\",\"id\":\"646beeb2-f4a7-41fc-c111-cf6af0eff6d8\"},\"tool_events\":{\"type\":\"ToolEvents\",\"id\":\"640a6289-e4fe-4237-c22a-04d575afa26a\"},\"below\":[{\"type\":\"LinearAxis\",\"id\":\"859ec279-368f-4bd5-cbfe-edc6559df4c5\"}],\"renderers\":[{\"type\":\"GlyphRenderer\",\"id\":\"0e95a6a2-8d86-410c-c12b-7da8a7372f42\"},{\"type\":\"LinearAxis\",\"id\":\"859ec279-368f-4bd5-cbfe-edc6559df4c5\"},{\"type\":\"Grid\",\"id\":\"3efc495f-e3c2-448d-c46e-43fafc3c538e\"},{\"type\":\"LinearAxis\",\"id\":\"77eec186-0054-431c-c372-a14b085461d5\"},{\"type\":\"Grid\",\"id\":\"5a5b9abf-c699-4165-c113-4182642f97d5\"}],\"above\":[],\"tools\":[{\"type\":\"PanTool\",\"id\":\"595acf0b-a9ae-4013-c05d-28642b4958df\"},{\"type\":\"WheelZoomTool\",\"id\":\"e9c556fc-44be-4b94-cb22-6242330a5b29\"},{\"type\":\"BoxZoomTool\",\"id\":\"63cdae29-d8e5-4d25-cd6f-c002c1bdd632\"},{\"type\":\"PreviewSaveTool\",\"id\":\"879eedd4-3204-4e47-ce4f-e4eee7874098\"},{\"type\":\"ResizeTool\",\"id\":\"d912b050-9b49-47dd-c708-a95a55d6bb2b\"},{\"type\":\"ResetTool\",\"id\":\"83cf6174-83d8-4560-c54d-eeb4c0590d89\"}],\"doc\":null,\"right\":[],\"title\":\"Optimal Architecture using Simulated Annealing\",\"extra_x_ranges\":{},\"left\":[{\"type\":\"LinearAxis\",\"id\":\"77eec186-0054-431c-c372-a14b085461d5\"}],\"y_range\":{\"type\":\"DataRange1d\",\"id\":\"4f4d10f5-e388-4b9b-cbf9-c9449d93716f\"},\"id\":\"f4cb1888-616c-45a0-c59e-109620a30fc8\",\"extra_y_ranges\":{},\"tags\":[]}}];\n",
       "  Bokeh.load_models(all_models);\n",
       "  var model = Bokeh.Collections(modeltype).get(modelid);\n",
       "  $(\"#c3e338b3-6705-46a9-c67d-b37158e63e27\").html(''); // clear any previous plot in window_id\n",
       "  var view = new model.default_view({model: model, el: \"#c3e338b3-6705-46a9-c67d-b37158e63e27\"});\n",
       "    } else {\n",
       "  load_lib(bokehjs_url, function() {\n",
       "      console.log(\"Bokeh: BokehJS plotting callback run at\", new Date())\n",
       "      var modelid = \"f4cb1888-616c-45a0-c59e-109620a30fc8\";\n",
       "      var modeltype = \"Plot\";\n",
       "      var all_models = [{\"id\":\"3dd3c44c-19a3-495b-c93f-c480dbfd62f0\",\"type\":\"ColumnDataSource\",\"attributes\":{\"data\":{\"y\":[0.030797101449275,0.030797101449275,0.030797101449275,0.030797101449275,0.02445652173913,0.030797101449275,0.028985507246377,0.023550724637681,0.023550724637681,0.020833333333333,0.028079710144928,0.022644927536232,0.017210144927536,0.023550724637681,0.01268115942029,0.01268115942029,0.011775362318841,0.0072463768115942,0.0072463768115942,0.0072463768115942],\"x\":[1,2,3,4,5,6,7,8,9,10,11,12,13,14,15,16,17,18,19,20]},\"column_names\":[\"y\",\"x\"],\"cont_ranges\":{},\"discrete_ranges\":{},\"selected\":[],\"id\":\"3dd3c44c-19a3-495b-c93f-c480dbfd62f0\",\"doc\":null,\"tags\":[]}},{\"id\":\"aa79834e-62fe-4931-c97a-215505fb245f\",\"type\":\"Line\",\"attributes\":{\"fill_alpha\":{\"units\":\"data\",\"value\":0.2},\"line_alpha\":{\"units\":\"data\",\"value\":1},\"doc\":null,\"size\":{\"units\":\"screen\",\"value\":10},\"fill_color\":{\"value\":\"red\"},\"line_color\":{\"value\":\"red\"},\"x\":{\"units\":\"data\",\"field\":\"x\"},\"id\":\"aa79834e-62fe-4931-c97a-215505fb245f\",\"y\":{\"units\":\"data\",\"field\":\"y\"},\"tags\":[]}},{\"id\":\"305b746c-3634-4deb-cd6a-06ee12c7e68c\",\"type\":\"Line\",\"attributes\":{\"fill_alpha\":{\"units\":\"data\",\"value\":0.2},\"line_alpha\":{\"units\":\"data\",\"value\":1},\"doc\":null,\"size\":{\"units\":\"screen\",\"value\":10},\"fill_color\":{\"value\":\"red\"},\"line_color\":{\"value\":\"red\"},\"x\":{\"units\":\"data\",\"field\":\"x\"},\"id\":\"305b746c-3634-4deb-cd6a-06ee12c7e68c\",\"y\":{\"units\":\"data\",\"field\":\"y\"},\"tags\":[]}},{\"id\":\"0e95a6a2-8d86-410c-c12b-7da8a7372f42\",\"type\":\"GlyphRenderer\",\"attributes\":{\"name\":null,\"nonselection_glyph\":{\"type\":\"Line\",\"id\":\"305b746c-3634-4deb-cd6a-06ee12c7e68c\"},\"doc\":null,\"server_data_source\":null,\"data_source\":{\"type\":\"ColumnDataSource\",\"id\":\"3dd3c44c-19a3-495b-c93f-c480dbfd62f0\"},\"glyph\":{\"type\":\"Line\",\"id\":\"aa79834e-62fe-4931-c97a-215505fb245f\"},\"selection_glyph\":null,\"id\":\"0e95a6a2-8d86-410c-c12b-7da8a7372f42\",\"tags\":[]}},{\"id\":\"646beeb2-f4a7-41fc-c111-cf6af0eff6d8\",\"type\":\"DataRange1d\",\"attributes\":{\"sources\":[{\"columns\":[\"x\"],\"source\":{\"type\":\"ColumnDataSource\",\"id\":\"3dd3c44c-19a3-495b-c93f-c480dbfd62f0\"}}],\"id\":\"646beeb2-f4a7-41fc-c111-cf6af0eff6d8\",\"tags\":[],\"doc\":null}},{\"id\":\"4f4d10f5-e388-4b9b-cbf9-c9449d93716f\",\"type\":\"DataRange1d\",\"attributes\":{\"sources\":[{\"columns\":[\"y\"],\"source\":{\"type\":\"ColumnDataSource\",\"id\":\"3dd3c44c-19a3-495b-c93f-c480dbfd62f0\"}}],\"id\":\"4f4d10f5-e388-4b9b-cbf9-c9449d93716f\",\"tags\":[],\"doc\":null}},{\"id\":\"640a6289-e4fe-4237-c22a-04d575afa26a\",\"type\":\"ToolEvents\",\"attributes\":{\"tags\":[],\"id\":\"640a6289-e4fe-4237-c22a-04d575afa26a\",\"geometries\":[],\"doc\":null}},{\"id\":\"23a6007e-c94b-4abe-ca14-4511e4e7105c\",\"type\":\"BasicTickFormatter\",\"attributes\":{\"id\":\"23a6007e-c94b-4abe-ca14-4511e4e7105c\",\"tags\":[],\"doc\":null}},{\"id\":\"6df259df-00d6-4c1d-cc95-9a45b54cc3c1\",\"type\":\"BasicTicker\",\"attributes\":{\"num_minor_ticks\":5,\"id\":\"6df259df-00d6-4c1d-cc95-9a45b54cc3c1\",\"tags\":[],\"doc\":null}},{\"id\":\"859ec279-368f-4bd5-cbfe-edc6559df4c5\",\"type\":\"LinearAxis\",\"attributes\":{\"formatter\":{\"type\":\"BasicTickFormatter\",\"id\":\"23a6007e-c94b-4abe-ca14-4511e4e7105c\"},\"ticker\":{\"type\":\"BasicTicker\",\"id\":\"6df259df-00d6-4c1d-cc95-9a45b54cc3c1\"},\"plot\":{\"id\":\"f4cb1888-616c-45a0-c59e-109620a30fc8\",\"type\":\"Plot\",\"subtype\":\"Figure\"},\"axis_label\":null,\"id\":\"859ec279-368f-4bd5-cbfe-edc6559df4c5\",\"doc\":null,\"tags\":[]}},{\"id\":\"3efc495f-e3c2-448d-c46e-43fafc3c538e\",\"type\":\"Grid\",\"attributes\":{\"dimension\":0,\"plot\":{\"id\":\"f4cb1888-616c-45a0-c59e-109620a30fc8\",\"type\":\"Plot\",\"subtype\":\"Figure\"},\"ticker\":{\"type\":\"BasicTicker\",\"id\":\"6df259df-00d6-4c1d-cc95-9a45b54cc3c1\"},\"id\":\"3efc495f-e3c2-448d-c46e-43fafc3c538e\",\"doc\":null,\"tags\":[]}},{\"id\":\"a2845367-8bc9-4a0d-cab4-c2a59b2b0972\",\"type\":\"BasicTickFormatter\",\"attributes\":{\"id\":\"a2845367-8bc9-4a0d-cab4-c2a59b2b0972\",\"tags\":[],\"doc\":null}},{\"id\":\"a04ed1b4-3c62-4b65-cbb4-c3d180329b66\",\"type\":\"BasicTicker\",\"attributes\":{\"num_minor_ticks\":5,\"id\":\"a04ed1b4-3c62-4b65-cbb4-c3d180329b66\",\"tags\":[],\"doc\":null}},{\"id\":\"77eec186-0054-431c-c372-a14b085461d5\",\"type\":\"LinearAxis\",\"attributes\":{\"formatter\":{\"type\":\"BasicTickFormatter\",\"id\":\"a2845367-8bc9-4a0d-cab4-c2a59b2b0972\"},\"ticker\":{\"type\":\"BasicTicker\",\"id\":\"a04ed1b4-3c62-4b65-cbb4-c3d180329b66\"},\"plot\":{\"id\":\"f4cb1888-616c-45a0-c59e-109620a30fc8\",\"type\":\"Plot\",\"subtype\":\"Figure\"},\"axis_label\":null,\"id\":\"77eec186-0054-431c-c372-a14b085461d5\",\"doc\":null,\"tags\":[]}},{\"id\":\"5a5b9abf-c699-4165-c113-4182642f97d5\",\"type\":\"Grid\",\"attributes\":{\"dimension\":1,\"plot\":{\"id\":\"f4cb1888-616c-45a0-c59e-109620a30fc8\",\"type\":\"Plot\",\"subtype\":\"Figure\"},\"ticker\":{\"type\":\"BasicTicker\",\"id\":\"a04ed1b4-3c62-4b65-cbb4-c3d180329b66\"},\"id\":\"5a5b9abf-c699-4165-c113-4182642f97d5\",\"doc\":null,\"tags\":[]}},{\"id\":\"595acf0b-a9ae-4013-c05d-28642b4958df\",\"type\":\"PanTool\",\"attributes\":{\"plot\":{\"id\":\"f4cb1888-616c-45a0-c59e-109620a30fc8\",\"type\":\"Plot\",\"subtype\":\"Figure\"},\"dimensions\":[\"width\",\"height\"],\"id\":\"595acf0b-a9ae-4013-c05d-28642b4958df\",\"doc\":null,\"tags\":[]}},{\"id\":\"e9c556fc-44be-4b94-cb22-6242330a5b29\",\"type\":\"WheelZoomTool\",\"attributes\":{\"plot\":{\"id\":\"f4cb1888-616c-45a0-c59e-109620a30fc8\",\"type\":\"Plot\",\"subtype\":\"Figure\"},\"dimensions\":[\"width\",\"height\"],\"id\":\"e9c556fc-44be-4b94-cb22-6242330a5b29\",\"doc\":null,\"tags\":[]}},{\"id\":\"63cdae29-d8e5-4d25-cd6f-c002c1bdd632\",\"type\":\"BoxZoomTool\",\"attributes\":{\"plot\":{\"id\":\"f4cb1888-616c-45a0-c59e-109620a30fc8\",\"type\":\"Plot\",\"subtype\":\"Figure\"},\"id\":\"63cdae29-d8e5-4d25-cd6f-c002c1bdd632\",\"tags\":[],\"doc\":null}},{\"id\":\"879eedd4-3204-4e47-ce4f-e4eee7874098\",\"type\":\"PreviewSaveTool\",\"attributes\":{\"plot\":{\"id\":\"f4cb1888-616c-45a0-c59e-109620a30fc8\",\"type\":\"Plot\",\"subtype\":\"Figure\"},\"id\":\"879eedd4-3204-4e47-ce4f-e4eee7874098\",\"tags\":[],\"doc\":null}},{\"id\":\"d912b050-9b49-47dd-c708-a95a55d6bb2b\",\"type\":\"ResizeTool\",\"attributes\":{\"plot\":{\"id\":\"f4cb1888-616c-45a0-c59e-109620a30fc8\",\"type\":\"Plot\",\"subtype\":\"Figure\"},\"id\":\"d912b050-9b49-47dd-c708-a95a55d6bb2b\",\"tags\":[],\"doc\":null}},{\"id\":\"83cf6174-83d8-4560-c54d-eeb4c0590d89\",\"type\":\"ResetTool\",\"attributes\":{\"plot\":{\"id\":\"f4cb1888-616c-45a0-c59e-109620a30fc8\",\"type\":\"Plot\",\"subtype\":\"Figure\"},\"id\":\"83cf6174-83d8-4560-c54d-eeb4c0590d89\",\"tags\":[],\"doc\":null}},{\"id\":\"f4cb1888-616c-45a0-c59e-109620a30fc8\",\"type\":\"Plot\",\"attributes\":{\"x_range\":{\"type\":\"DataRange1d\",\"id\":\"646beeb2-f4a7-41fc-c111-cf6af0eff6d8\"},\"tool_events\":{\"type\":\"ToolEvents\",\"id\":\"640a6289-e4fe-4237-c22a-04d575afa26a\"},\"below\":[{\"type\":\"LinearAxis\",\"id\":\"859ec279-368f-4bd5-cbfe-edc6559df4c5\"}],\"renderers\":[{\"type\":\"GlyphRenderer\",\"id\":\"0e95a6a2-8d86-410c-c12b-7da8a7372f42\"},{\"type\":\"LinearAxis\",\"id\":\"859ec279-368f-4bd5-cbfe-edc6559df4c5\"},{\"type\":\"Grid\",\"id\":\"3efc495f-e3c2-448d-c46e-43fafc3c538e\"},{\"type\":\"LinearAxis\",\"id\":\"77eec186-0054-431c-c372-a14b085461d5\"},{\"type\":\"Grid\",\"id\":\"5a5b9abf-c699-4165-c113-4182642f97d5\"}],\"above\":[],\"tools\":[{\"type\":\"PanTool\",\"id\":\"595acf0b-a9ae-4013-c05d-28642b4958df\"},{\"type\":\"WheelZoomTool\",\"id\":\"e9c556fc-44be-4b94-cb22-6242330a5b29\"},{\"type\":\"BoxZoomTool\",\"id\":\"63cdae29-d8e5-4d25-cd6f-c002c1bdd632\"},{\"type\":\"PreviewSaveTool\",\"id\":\"879eedd4-3204-4e47-ce4f-e4eee7874098\"},{\"type\":\"ResizeTool\",\"id\":\"d912b050-9b49-47dd-c708-a95a55d6bb2b\"},{\"type\":\"ResetTool\",\"id\":\"83cf6174-83d8-4560-c54d-eeb4c0590d89\"}],\"doc\":null,\"right\":[],\"title\":\"Optimal Architecture using Simulated Annealing\",\"extra_x_ranges\":{},\"left\":[{\"type\":\"LinearAxis\",\"id\":\"77eec186-0054-431c-c372-a14b085461d5\"}],\"y_range\":{\"type\":\"DataRange1d\",\"id\":\"4f4d10f5-e388-4b9b-cbf9-c9449d93716f\"},\"id\":\"f4cb1888-616c-45a0-c59e-109620a30fc8\",\"extra_y_ranges\":{},\"tags\":[]}}];\n",
       "      Bokeh.load_models(all_models);\n",
       "      var model = Bokeh.Collections(modeltype).get(modelid);\n",
       "      $(\"#c3e338b3-6705-46a9-c67d-b37158e63e27\").html(''); // clear any previous plot in window_id\n",
       "      var view = new model.default_view({model: model, el: \"#c3e338b3-6705-46a9-c67d-b37158e63e27\"});\n",
       "  });\n",
       "    }\n",
       "});\n",
       "</script>\n",
       "<div class=\"plotdiv\" id=\"c3e338b3-6705-46a9-c67d-b37158e63e27\"></div>\n"
      ]
     },
     "metadata": {},
     "output_type": "display_data"
    },
    {
     "data": {
      "text/html": [
       "<script type=\"text/javascript\">\n",
       "$(function() {\n",
       "    if (typeof (window._bokeh_onload_callbacks) === \"undefined\"){\n",
       "  window._bokeh_onload_callbacks = [];\n",
       "    }\n",
       "    function load_lib(url, callback){\n",
       "  window._bokeh_onload_callbacks.push(callback);\n",
       "  if (window._bokeh_is_loading){\n",
       "      console.log(\"Bokeh: BokehJS is being loaded, scheduling callback at\", new Date());\n",
       "      return null;\n",
       "  }\n",
       "  console.log(\"Bokeh: BokehJS not loaded, scheduling load and callback at\", new Date());\n",
       "  window._bokeh_is_loading = true;\n",
       "  var s = document.createElement('script');\n",
       "  s.src = url;\n",
       "  s.async = true;\n",
       "  s.onreadystatechange = s.onload = function(){\n",
       "      Bokeh.embed.inject_css(\"https://cdn.pydata.org/bokeh-0.7.0.min.css\");\n",
       "      window._bokeh_onload_callbacks.forEach(function(callback){callback()});\n",
       "  };\n",
       "  s.onerror = function(){\n",
       "      console.warn(\"failed to load library \" + url);\n",
       "  };\n",
       "  document.getElementsByTagName(\"head\")[0].appendChild(s);\n",
       "    }\n",
       "\n",
       "    bokehjs_url = \"https://cdn.pydata.org/bokeh-0.7.0.min.js\"\n",
       "\n",
       "    var elt = document.getElementById(\"c3e338b3-6705-46a9-c67d-b37158e63e27\");\n",
       "    if(elt==null) {\n",
       "  console.log(\"Bokeh: ERROR: autoload.js configured with elementid 'c3e338b3-6705-46a9-c67d-b37158e63e27'\"\n",
       "        + \"but no matching script tag was found. \")\n",
       "  return false;\n",
       "    }\n",
       "\n",
       "    if(typeof(Bokeh) !== \"undefined\") {\n",
       "  console.log(\"Bokeh: BokehJS loaded, going straight to plotting\");\n",
       "  var modelid = \"3b2ab9be-6086-4d96-cd0b-29e168a85086\";\n",
       "  var modeltype = \"Plot\";\n",
       "  var all_models = [{\"id\":\"d5b747fd-daeb-4556-c591-a030e515e25b\",\"type\":\"ColumnDataSource\",\"attributes\":{\"data\":{\"y\":[0.030797101449275,0.030797101449275,0.030797101449275,0.030797101449275,0.02445652173913,0.030797101449275,0.028985507246377,0.023550724637681,0.023550724637681,0.020833333333333,0.028079710144928,0.022644927536232,0.017210144927536,0.023550724637681,0.01268115942029,0.01268115942029,0.011775362318841,0.0072463768115942,0.0072463768115942,0.0072463768115942],\"x\":[1,2,3,4,5,6,7,8,9,10,11,12,13,14,15,16,17,18,19,20]},\"column_names\":[\"y\",\"x\"],\"cont_ranges\":{},\"discrete_ranges\":{},\"selected\":[],\"id\":\"d5b747fd-daeb-4556-c591-a030e515e25b\",\"doc\":null,\"tags\":[]}},{\"id\":\"69164ef6-6c17-4715-c721-37c02b62bef0\",\"type\":\"Line\",\"attributes\":{\"fill_alpha\":{\"units\":\"data\",\"value\":0.2},\"line_alpha\":{\"units\":\"data\",\"value\":1},\"doc\":null,\"size\":{\"units\":\"screen\",\"value\":10},\"fill_color\":{\"value\":\"red\"},\"line_color\":{\"value\":\"red\"},\"x\":{\"units\":\"data\",\"field\":\"x\"},\"id\":\"69164ef6-6c17-4715-c721-37c02b62bef0\",\"y\":{\"units\":\"data\",\"field\":\"y\"},\"tags\":[]}},{\"id\":\"5ca795bb-e696-4f46-cf25-a9f5564f16c4\",\"type\":\"Line\",\"attributes\":{\"fill_alpha\":{\"units\":\"data\",\"value\":0.2},\"line_alpha\":{\"units\":\"data\",\"value\":1},\"doc\":null,\"size\":{\"units\":\"screen\",\"value\":10},\"fill_color\":{\"value\":\"red\"},\"line_color\":{\"value\":\"red\"},\"x\":{\"units\":\"data\",\"field\":\"x\"},\"id\":\"5ca795bb-e696-4f46-cf25-a9f5564f16c4\",\"y\":{\"units\":\"data\",\"field\":\"y\"},\"tags\":[]}},{\"id\":\"dead1311-a44a-466b-c6df-2e448c3ddfb8\",\"type\":\"GlyphRenderer\",\"attributes\":{\"name\":null,\"nonselection_glyph\":{\"type\":\"Line\",\"id\":\"5ca795bb-e696-4f46-cf25-a9f5564f16c4\"},\"doc\":null,\"server_data_source\":null,\"data_source\":{\"type\":\"ColumnDataSource\",\"id\":\"d5b747fd-daeb-4556-c591-a030e515e25b\"},\"glyph\":{\"type\":\"Line\",\"id\":\"69164ef6-6c17-4715-c721-37c02b62bef0\"},\"selection_glyph\":null,\"id\":\"dead1311-a44a-466b-c6df-2e448c3ddfb8\",\"tags\":[]}},{\"id\":\"68f2fcf8-32da-40e7-c0d0-7a2a27313279\",\"type\":\"DataRange1d\",\"attributes\":{\"sources\":[{\"columns\":[\"x\"],\"source\":{\"type\":\"ColumnDataSource\",\"id\":\"d5b747fd-daeb-4556-c591-a030e515e25b\"}}],\"id\":\"68f2fcf8-32da-40e7-c0d0-7a2a27313279\",\"tags\":[],\"doc\":null}},{\"id\":\"5a378944-7b3c-4520-c586-07b43985377b\",\"type\":\"DataRange1d\",\"attributes\":{\"sources\":[{\"columns\":[\"y\"],\"source\":{\"type\":\"ColumnDataSource\",\"id\":\"d5b747fd-daeb-4556-c591-a030e515e25b\"}}],\"id\":\"5a378944-7b3c-4520-c586-07b43985377b\",\"tags\":[],\"doc\":null}},{\"id\":\"374867bb-f5ed-4c03-cc94-c879f6a8e7fd\",\"type\":\"ToolEvents\",\"attributes\":{\"tags\":[],\"id\":\"374867bb-f5ed-4c03-cc94-c879f6a8e7fd\",\"geometries\":[],\"doc\":null}},{\"id\":\"e25517cd-3e4d-4ec9-ce13-b140731388c2\",\"type\":\"BasicTickFormatter\",\"attributes\":{\"id\":\"e25517cd-3e4d-4ec9-ce13-b140731388c2\",\"tags\":[],\"doc\":null}},{\"id\":\"621fe168-14ef-4273-c28b-8b87a11b42a0\",\"type\":\"BasicTicker\",\"attributes\":{\"num_minor_ticks\":5,\"id\":\"621fe168-14ef-4273-c28b-8b87a11b42a0\",\"tags\":[],\"doc\":null}},{\"id\":\"38328263-8a7c-46bb-c6f9-c44451eaef01\",\"type\":\"LinearAxis\",\"attributes\":{\"formatter\":{\"type\":\"BasicTickFormatter\",\"id\":\"e25517cd-3e4d-4ec9-ce13-b140731388c2\"},\"ticker\":{\"type\":\"BasicTicker\",\"id\":\"621fe168-14ef-4273-c28b-8b87a11b42a0\"},\"plot\":{\"id\":\"3b2ab9be-6086-4d96-cd0b-29e168a85086\",\"type\":\"Plot\",\"subtype\":\"Figure\"},\"axis_label\":\"Iteration\",\"id\":\"38328263-8a7c-46bb-c6f9-c44451eaef01\",\"doc\":null,\"tags\":[]}},{\"id\":\"77dff367-a034-4c70-cc05-f6348dfc3182\",\"type\":\"Grid\",\"attributes\":{\"dimension\":0,\"plot\":{\"id\":\"3b2ab9be-6086-4d96-cd0b-29e168a85086\",\"type\":\"Plot\",\"subtype\":\"Figure\"},\"ticker\":{\"type\":\"BasicTicker\",\"id\":\"621fe168-14ef-4273-c28b-8b87a11b42a0\"},\"id\":\"77dff367-a034-4c70-cc05-f6348dfc3182\",\"doc\":null,\"tags\":[]}},{\"id\":\"720ce3f4-adbd-4759-c74d-6d1c03a579fa\",\"type\":\"BasicTickFormatter\",\"attributes\":{\"id\":\"720ce3f4-adbd-4759-c74d-6d1c03a579fa\",\"tags\":[],\"doc\":null}},{\"id\":\"1ca17190-8551-4779-c7cb-80a9f4e2a7df\",\"type\":\"BasicTicker\",\"attributes\":{\"num_minor_ticks\":5,\"id\":\"1ca17190-8551-4779-c7cb-80a9f4e2a7df\",\"tags\":[],\"doc\":null}},{\"id\":\"2f86fe8e-949c-4a13-caa9-3e5857977ae1\",\"type\":\"LinearAxis\",\"attributes\":{\"formatter\":{\"type\":\"BasicTickFormatter\",\"id\":\"720ce3f4-adbd-4759-c74d-6d1c03a579fa\"},\"ticker\":{\"type\":\"BasicTicker\",\"id\":\"1ca17190-8551-4779-c7cb-80a9f4e2a7df\"},\"plot\":{\"id\":\"3b2ab9be-6086-4d96-cd0b-29e168a85086\",\"type\":\"Plot\",\"subtype\":\"Figure\"},\"axis_label\":\"1-accuracy\",\"id\":\"2f86fe8e-949c-4a13-caa9-3e5857977ae1\",\"doc\":null,\"tags\":[]}},{\"id\":\"09dfa364-055c-4f2d-cfeb-3c05cb99a532\",\"type\":\"Grid\",\"attributes\":{\"dimension\":1,\"plot\":{\"id\":\"3b2ab9be-6086-4d96-cd0b-29e168a85086\",\"type\":\"Plot\",\"subtype\":\"Figure\"},\"ticker\":{\"type\":\"BasicTicker\",\"id\":\"1ca17190-8551-4779-c7cb-80a9f4e2a7df\"},\"id\":\"09dfa364-055c-4f2d-cfeb-3c05cb99a532\",\"doc\":null,\"tags\":[]}},{\"id\":\"852ef399-86af-4f40-cff6-91572f09d876\",\"type\":\"PanTool\",\"attributes\":{\"plot\":{\"id\":\"3b2ab9be-6086-4d96-cd0b-29e168a85086\",\"type\":\"Plot\",\"subtype\":\"Figure\"},\"dimensions\":[\"width\",\"height\"],\"id\":\"852ef399-86af-4f40-cff6-91572f09d876\",\"doc\":null,\"tags\":[]}},{\"id\":\"c7484057-4e31-4147-c105-8a831a95b851\",\"type\":\"WheelZoomTool\",\"attributes\":{\"plot\":{\"id\":\"3b2ab9be-6086-4d96-cd0b-29e168a85086\",\"type\":\"Plot\",\"subtype\":\"Figure\"},\"dimensions\":[\"width\",\"height\"],\"id\":\"c7484057-4e31-4147-c105-8a831a95b851\",\"doc\":null,\"tags\":[]}},{\"id\":\"7ca36d43-9f1c-4602-c6f8-e30d7fb8cc4f\",\"type\":\"BoxZoomTool\",\"attributes\":{\"plot\":{\"id\":\"3b2ab9be-6086-4d96-cd0b-29e168a85086\",\"type\":\"Plot\",\"subtype\":\"Figure\"},\"id\":\"7ca36d43-9f1c-4602-c6f8-e30d7fb8cc4f\",\"tags\":[],\"doc\":null}},{\"id\":\"f6d71c74-7cfb-4362-c349-3a585482f586\",\"type\":\"PreviewSaveTool\",\"attributes\":{\"plot\":{\"id\":\"3b2ab9be-6086-4d96-cd0b-29e168a85086\",\"type\":\"Plot\",\"subtype\":\"Figure\"},\"id\":\"f6d71c74-7cfb-4362-c349-3a585482f586\",\"tags\":[],\"doc\":null}},{\"id\":\"351ac447-c818-4f0b-cf4b-2ef056d2039a\",\"type\":\"ResizeTool\",\"attributes\":{\"plot\":{\"id\":\"3b2ab9be-6086-4d96-cd0b-29e168a85086\",\"type\":\"Plot\",\"subtype\":\"Figure\"},\"id\":\"351ac447-c818-4f0b-cf4b-2ef056d2039a\",\"tags\":[],\"doc\":null}},{\"id\":\"68469f62-13e4-4d27-cda5-3d3e095dc96f\",\"type\":\"ResetTool\",\"attributes\":{\"plot\":{\"id\":\"3b2ab9be-6086-4d96-cd0b-29e168a85086\",\"type\":\"Plot\",\"subtype\":\"Figure\"},\"id\":\"68469f62-13e4-4d27-cda5-3d3e095dc96f\",\"tags\":[],\"doc\":null}},{\"id\":\"3b2ab9be-6086-4d96-cd0b-29e168a85086\",\"type\":\"Plot\",\"attributes\":{\"x_range\":{\"type\":\"DataRange1d\",\"id\":\"68f2fcf8-32da-40e7-c0d0-7a2a27313279\"},\"tool_events\":{\"type\":\"ToolEvents\",\"id\":\"374867bb-f5ed-4c03-cc94-c879f6a8e7fd\"},\"below\":[{\"type\":\"LinearAxis\",\"id\":\"38328263-8a7c-46bb-c6f9-c44451eaef01\"}],\"renderers\":[{\"type\":\"GlyphRenderer\",\"id\":\"dead1311-a44a-466b-c6df-2e448c3ddfb8\"},{\"type\":\"LinearAxis\",\"id\":\"38328263-8a7c-46bb-c6f9-c44451eaef01\"},{\"type\":\"Grid\",\"id\":\"77dff367-a034-4c70-cc05-f6348dfc3182\"},{\"type\":\"LinearAxis\",\"id\":\"2f86fe8e-949c-4a13-caa9-3e5857977ae1\"},{\"type\":\"Grid\",\"id\":\"09dfa364-055c-4f2d-cfeb-3c05cb99a532\"}],\"above\":[],\"tools\":[{\"type\":\"PanTool\",\"id\":\"852ef399-86af-4f40-cff6-91572f09d876\"},{\"type\":\"WheelZoomTool\",\"id\":\"c7484057-4e31-4147-c105-8a831a95b851\"},{\"type\":\"BoxZoomTool\",\"id\":\"7ca36d43-9f1c-4602-c6f8-e30d7fb8cc4f\"},{\"type\":\"PreviewSaveTool\",\"id\":\"f6d71c74-7cfb-4362-c349-3a585482f586\"},{\"type\":\"ResizeTool\",\"id\":\"351ac447-c818-4f0b-cf4b-2ef056d2039a\"},{\"type\":\"ResetTool\",\"id\":\"68469f62-13e4-4d27-cda5-3d3e095dc96f\"}],\"doc\":null,\"right\":[],\"title\":\"Optimal Architecture using Simulated Annealing\",\"extra_x_ranges\":{},\"left\":[{\"type\":\"LinearAxis\",\"id\":\"2f86fe8e-949c-4a13-caa9-3e5857977ae1\"}],\"y_range\":{\"type\":\"DataRange1d\",\"id\":\"5a378944-7b3c-4520-c586-07b43985377b\"},\"id\":\"3b2ab9be-6086-4d96-cd0b-29e168a85086\",\"extra_y_ranges\":{},\"tags\":[]}}];\n",
       "  Bokeh.load_models(all_models);\n",
       "  var model = Bokeh.Collections(modeltype).get(modelid);\n",
       "  $(\"#c3e338b3-6705-46a9-c67d-b37158e63e27\").html(''); // clear any previous plot in window_id\n",
       "  var view = new model.default_view({model: model, el: \"#c3e338b3-6705-46a9-c67d-b37158e63e27\"});\n",
       "    } else {\n",
       "  load_lib(bokehjs_url, function() {\n",
       "      console.log(\"Bokeh: BokehJS plotting callback run at\", new Date())\n",
       "      var modelid = \"3b2ab9be-6086-4d96-cd0b-29e168a85086\";\n",
       "      var modeltype = \"Plot\";\n",
       "      var all_models = [{\"id\":\"d5b747fd-daeb-4556-c591-a030e515e25b\",\"type\":\"ColumnDataSource\",\"attributes\":{\"data\":{\"y\":[0.030797101449275,0.030797101449275,0.030797101449275,0.030797101449275,0.02445652173913,0.030797101449275,0.028985507246377,0.023550724637681,0.023550724637681,0.020833333333333,0.028079710144928,0.022644927536232,0.017210144927536,0.023550724637681,0.01268115942029,0.01268115942029,0.011775362318841,0.0072463768115942,0.0072463768115942,0.0072463768115942],\"x\":[1,2,3,4,5,6,7,8,9,10,11,12,13,14,15,16,17,18,19,20]},\"column_names\":[\"y\",\"x\"],\"cont_ranges\":{},\"discrete_ranges\":{},\"selected\":[],\"id\":\"d5b747fd-daeb-4556-c591-a030e515e25b\",\"doc\":null,\"tags\":[]}},{\"id\":\"69164ef6-6c17-4715-c721-37c02b62bef0\",\"type\":\"Line\",\"attributes\":{\"fill_alpha\":{\"units\":\"data\",\"value\":0.2},\"line_alpha\":{\"units\":\"data\",\"value\":1},\"doc\":null,\"size\":{\"units\":\"screen\",\"value\":10},\"fill_color\":{\"value\":\"red\"},\"line_color\":{\"value\":\"red\"},\"x\":{\"units\":\"data\",\"field\":\"x\"},\"id\":\"69164ef6-6c17-4715-c721-37c02b62bef0\",\"y\":{\"units\":\"data\",\"field\":\"y\"},\"tags\":[]}},{\"id\":\"5ca795bb-e696-4f46-cf25-a9f5564f16c4\",\"type\":\"Line\",\"attributes\":{\"fill_alpha\":{\"units\":\"data\",\"value\":0.2},\"line_alpha\":{\"units\":\"data\",\"value\":1},\"doc\":null,\"size\":{\"units\":\"screen\",\"value\":10},\"fill_color\":{\"value\":\"red\"},\"line_color\":{\"value\":\"red\"},\"x\":{\"units\":\"data\",\"field\":\"x\"},\"id\":\"5ca795bb-e696-4f46-cf25-a9f5564f16c4\",\"y\":{\"units\":\"data\",\"field\":\"y\"},\"tags\":[]}},{\"id\":\"dead1311-a44a-466b-c6df-2e448c3ddfb8\",\"type\":\"GlyphRenderer\",\"attributes\":{\"name\":null,\"nonselection_glyph\":{\"type\":\"Line\",\"id\":\"5ca795bb-e696-4f46-cf25-a9f5564f16c4\"},\"doc\":null,\"server_data_source\":null,\"data_source\":{\"type\":\"ColumnDataSource\",\"id\":\"d5b747fd-daeb-4556-c591-a030e515e25b\"},\"glyph\":{\"type\":\"Line\",\"id\":\"69164ef6-6c17-4715-c721-37c02b62bef0\"},\"selection_glyph\":null,\"id\":\"dead1311-a44a-466b-c6df-2e448c3ddfb8\",\"tags\":[]}},{\"id\":\"68f2fcf8-32da-40e7-c0d0-7a2a27313279\",\"type\":\"DataRange1d\",\"attributes\":{\"sources\":[{\"columns\":[\"x\"],\"source\":{\"type\":\"ColumnDataSource\",\"id\":\"d5b747fd-daeb-4556-c591-a030e515e25b\"}}],\"id\":\"68f2fcf8-32da-40e7-c0d0-7a2a27313279\",\"tags\":[],\"doc\":null}},{\"id\":\"5a378944-7b3c-4520-c586-07b43985377b\",\"type\":\"DataRange1d\",\"attributes\":{\"sources\":[{\"columns\":[\"y\"],\"source\":{\"type\":\"ColumnDataSource\",\"id\":\"d5b747fd-daeb-4556-c591-a030e515e25b\"}}],\"id\":\"5a378944-7b3c-4520-c586-07b43985377b\",\"tags\":[],\"doc\":null}},{\"id\":\"374867bb-f5ed-4c03-cc94-c879f6a8e7fd\",\"type\":\"ToolEvents\",\"attributes\":{\"tags\":[],\"id\":\"374867bb-f5ed-4c03-cc94-c879f6a8e7fd\",\"geometries\":[],\"doc\":null}},{\"id\":\"e25517cd-3e4d-4ec9-ce13-b140731388c2\",\"type\":\"BasicTickFormatter\",\"attributes\":{\"id\":\"e25517cd-3e4d-4ec9-ce13-b140731388c2\",\"tags\":[],\"doc\":null}},{\"id\":\"621fe168-14ef-4273-c28b-8b87a11b42a0\",\"type\":\"BasicTicker\",\"attributes\":{\"num_minor_ticks\":5,\"id\":\"621fe168-14ef-4273-c28b-8b87a11b42a0\",\"tags\":[],\"doc\":null}},{\"id\":\"38328263-8a7c-46bb-c6f9-c44451eaef01\",\"type\":\"LinearAxis\",\"attributes\":{\"formatter\":{\"type\":\"BasicTickFormatter\",\"id\":\"e25517cd-3e4d-4ec9-ce13-b140731388c2\"},\"ticker\":{\"type\":\"BasicTicker\",\"id\":\"621fe168-14ef-4273-c28b-8b87a11b42a0\"},\"plot\":{\"id\":\"3b2ab9be-6086-4d96-cd0b-29e168a85086\",\"type\":\"Plot\",\"subtype\":\"Figure\"},\"axis_label\":\"Iteration\",\"id\":\"38328263-8a7c-46bb-c6f9-c44451eaef01\",\"doc\":null,\"tags\":[]}},{\"id\":\"77dff367-a034-4c70-cc05-f6348dfc3182\",\"type\":\"Grid\",\"attributes\":{\"dimension\":0,\"plot\":{\"id\":\"3b2ab9be-6086-4d96-cd0b-29e168a85086\",\"type\":\"Plot\",\"subtype\":\"Figure\"},\"ticker\":{\"type\":\"BasicTicker\",\"id\":\"621fe168-14ef-4273-c28b-8b87a11b42a0\"},\"id\":\"77dff367-a034-4c70-cc05-f6348dfc3182\",\"doc\":null,\"tags\":[]}},{\"id\":\"720ce3f4-adbd-4759-c74d-6d1c03a579fa\",\"type\":\"BasicTickFormatter\",\"attributes\":{\"id\":\"720ce3f4-adbd-4759-c74d-6d1c03a579fa\",\"tags\":[],\"doc\":null}},{\"id\":\"1ca17190-8551-4779-c7cb-80a9f4e2a7df\",\"type\":\"BasicTicker\",\"attributes\":{\"num_minor_ticks\":5,\"id\":\"1ca17190-8551-4779-c7cb-80a9f4e2a7df\",\"tags\":[],\"doc\":null}},{\"id\":\"2f86fe8e-949c-4a13-caa9-3e5857977ae1\",\"type\":\"LinearAxis\",\"attributes\":{\"formatter\":{\"type\":\"BasicTickFormatter\",\"id\":\"720ce3f4-adbd-4759-c74d-6d1c03a579fa\"},\"ticker\":{\"type\":\"BasicTicker\",\"id\":\"1ca17190-8551-4779-c7cb-80a9f4e2a7df\"},\"plot\":{\"id\":\"3b2ab9be-6086-4d96-cd0b-29e168a85086\",\"type\":\"Plot\",\"subtype\":\"Figure\"},\"axis_label\":\"1-accuracy\",\"id\":\"2f86fe8e-949c-4a13-caa9-3e5857977ae1\",\"doc\":null,\"tags\":[]}},{\"id\":\"09dfa364-055c-4f2d-cfeb-3c05cb99a532\",\"type\":\"Grid\",\"attributes\":{\"dimension\":1,\"plot\":{\"id\":\"3b2ab9be-6086-4d96-cd0b-29e168a85086\",\"type\":\"Plot\",\"subtype\":\"Figure\"},\"ticker\":{\"type\":\"BasicTicker\",\"id\":\"1ca17190-8551-4779-c7cb-80a9f4e2a7df\"},\"id\":\"09dfa364-055c-4f2d-cfeb-3c05cb99a532\",\"doc\":null,\"tags\":[]}},{\"id\":\"852ef399-86af-4f40-cff6-91572f09d876\",\"type\":\"PanTool\",\"attributes\":{\"plot\":{\"id\":\"3b2ab9be-6086-4d96-cd0b-29e168a85086\",\"type\":\"Plot\",\"subtype\":\"Figure\"},\"dimensions\":[\"width\",\"height\"],\"id\":\"852ef399-86af-4f40-cff6-91572f09d876\",\"doc\":null,\"tags\":[]}},{\"id\":\"c7484057-4e31-4147-c105-8a831a95b851\",\"type\":\"WheelZoomTool\",\"attributes\":{\"plot\":{\"id\":\"3b2ab9be-6086-4d96-cd0b-29e168a85086\",\"type\":\"Plot\",\"subtype\":\"Figure\"},\"dimensions\":[\"width\",\"height\"],\"id\":\"c7484057-4e31-4147-c105-8a831a95b851\",\"doc\":null,\"tags\":[]}},{\"id\":\"7ca36d43-9f1c-4602-c6f8-e30d7fb8cc4f\",\"type\":\"BoxZoomTool\",\"attributes\":{\"plot\":{\"id\":\"3b2ab9be-6086-4d96-cd0b-29e168a85086\",\"type\":\"Plot\",\"subtype\":\"Figure\"},\"id\":\"7ca36d43-9f1c-4602-c6f8-e30d7fb8cc4f\",\"tags\":[],\"doc\":null}},{\"id\":\"f6d71c74-7cfb-4362-c349-3a585482f586\",\"type\":\"PreviewSaveTool\",\"attributes\":{\"plot\":{\"id\":\"3b2ab9be-6086-4d96-cd0b-29e168a85086\",\"type\":\"Plot\",\"subtype\":\"Figure\"},\"id\":\"f6d71c74-7cfb-4362-c349-3a585482f586\",\"tags\":[],\"doc\":null}},{\"id\":\"351ac447-c818-4f0b-cf4b-2ef056d2039a\",\"type\":\"ResizeTool\",\"attributes\":{\"plot\":{\"id\":\"3b2ab9be-6086-4d96-cd0b-29e168a85086\",\"type\":\"Plot\",\"subtype\":\"Figure\"},\"id\":\"351ac447-c818-4f0b-cf4b-2ef056d2039a\",\"tags\":[],\"doc\":null}},{\"id\":\"68469f62-13e4-4d27-cda5-3d3e095dc96f\",\"type\":\"ResetTool\",\"attributes\":{\"plot\":{\"id\":\"3b2ab9be-6086-4d96-cd0b-29e168a85086\",\"type\":\"Plot\",\"subtype\":\"Figure\"},\"id\":\"68469f62-13e4-4d27-cda5-3d3e095dc96f\",\"tags\":[],\"doc\":null}},{\"id\":\"3b2ab9be-6086-4d96-cd0b-29e168a85086\",\"type\":\"Plot\",\"attributes\":{\"x_range\":{\"type\":\"DataRange1d\",\"id\":\"68f2fcf8-32da-40e7-c0d0-7a2a27313279\"},\"tool_events\":{\"type\":\"ToolEvents\",\"id\":\"374867bb-f5ed-4c03-cc94-c879f6a8e7fd\"},\"below\":[{\"type\":\"LinearAxis\",\"id\":\"38328263-8a7c-46bb-c6f9-c44451eaef01\"}],\"renderers\":[{\"type\":\"GlyphRenderer\",\"id\":\"dead1311-a44a-466b-c6df-2e448c3ddfb8\"},{\"type\":\"LinearAxis\",\"id\":\"38328263-8a7c-46bb-c6f9-c44451eaef01\"},{\"type\":\"Grid\",\"id\":\"77dff367-a034-4c70-cc05-f6348dfc3182\"},{\"type\":\"LinearAxis\",\"id\":\"2f86fe8e-949c-4a13-caa9-3e5857977ae1\"},{\"type\":\"Grid\",\"id\":\"09dfa364-055c-4f2d-cfeb-3c05cb99a532\"}],\"above\":[],\"tools\":[{\"type\":\"PanTool\",\"id\":\"852ef399-86af-4f40-cff6-91572f09d876\"},{\"type\":\"WheelZoomTool\",\"id\":\"c7484057-4e31-4147-c105-8a831a95b851\"},{\"type\":\"BoxZoomTool\",\"id\":\"7ca36d43-9f1c-4602-c6f8-e30d7fb8cc4f\"},{\"type\":\"PreviewSaveTool\",\"id\":\"f6d71c74-7cfb-4362-c349-3a585482f586\"},{\"type\":\"ResizeTool\",\"id\":\"351ac447-c818-4f0b-cf4b-2ef056d2039a\"},{\"type\":\"ResetTool\",\"id\":\"68469f62-13e4-4d27-cda5-3d3e095dc96f\"}],\"doc\":null,\"right\":[],\"title\":\"Optimal Architecture using Simulated Annealing\",\"extra_x_ranges\":{},\"left\":[{\"type\":\"LinearAxis\",\"id\":\"2f86fe8e-949c-4a13-caa9-3e5857977ae1\"}],\"y_range\":{\"type\":\"DataRange1d\",\"id\":\"5a378944-7b3c-4520-c586-07b43985377b\"},\"id\":\"3b2ab9be-6086-4d96-cd0b-29e168a85086\",\"extra_y_ranges\":{},\"tags\":[]}}];\n",
       "      Bokeh.load_models(all_models);\n",
       "      var model = Bokeh.Collections(modeltype).get(modelid);\n",
       "      $(\"#c3e338b3-6705-46a9-c67d-b37158e63e27\").html(''); // clear any previous plot in window_id\n",
       "      var view = new model.default_view({model: model, el: \"#c3e338b3-6705-46a9-c67d-b37158e63e27\"});\n",
       "  });\n",
       "    }\n",
       "});\n",
       "</script>\n",
       "<div class=\"plotdiv\" id=\"5555784c-21ae-4b1e-cbe6-692d6625e94c\"></div>\n"
      ]
     },
     "metadata": {},
     "output_type": "display_data"
    }
   ],
   "source": [
    "plot = P():line(torch.linspace(1,20,20), toprint,'red'):title('Optimal Architecture using Simulated Annealing'):draw()\n",
    "plot:yaxis('1-accuracy'):xaxis('Iteration'):redraw()"
   ]
  },
  {
   "cell_type": "markdown",
   "metadata": {},
   "source": [
    "In case the pluggin doesn't show on github:\n",
    "\n",
    "<img src=\"one.png\">"
   ]
  },
  {
   "cell_type": "markdown",
   "metadata": {},
   "source": [
    "We train the model with optimal architecture on full training:"
   ]
  },
  {
   "cell_type": "code",
   "execution_count": 22,
   "metadata": {
    "collapsed": false
   },
   "outputs": [],
   "source": [
    "opt_model = buildmodel_fromtable(archi[20])\n",
    "criterion = nn.ClassNLLCriterion()"
   ]
  },
  {
   "cell_type": "code",
   "execution_count": 50,
   "metadata": {
    "collapsed": false
   },
   "outputs": [
    {
     "data": {
      "text/plain": [
       "\n"
      ]
     },
     "execution_count": 50,
     "metadata": {},
     "output_type": "execute_result"
    }
   ],
   "source": [
    "torch.save(\"opt_model\", opt_model)"
   ]
  },
  {
   "cell_type": "code",
   "execution_count": 24,
   "metadata": {
    "collapsed": true
   },
   "outputs": [],
   "source": [
    "x_1 = x:narrow(2,1,7)\n",
    "x_2 = x:narrow(2,8,561)"
   ]
  },
  {
   "cell_type": "code",
   "execution_count": 52,
   "metadata": {
    "collapsed": false
   },
   "outputs": [],
   "source": [
    "-- train_model(train_inputs_1, train_inputs_2, train_outputs, val_inputs_1, val_inputs_2, val_outputs, model, criterion, eta, batch, nEpochs)\n",
    "loss = train_model(x_1, x_2, y, x_val_1, x_val_2, y_val, opt_model, criterion, 0.01, 20, 16, False)"
   ]
  },
  {
   "cell_type": "code",
   "execution_count": 46,
   "metadata": {
    "collapsed": true
   },
   "outputs": [],
   "source": [
    "function compute_logscore(inputs, i, model, C)\n",
    "    local y = torch.zeros(C,C)\n",
    "    local hot_1 = torch.zeros(C+1)\n",
    "    for j = 1, C do\n",
    "        hot_1:zero()\n",
    "        hot_1[1] = j\n",
    "        hot_1[j+1] = 1\n",
    "        y:narrow(1,j,1):copy(model:forward({hot_1:view(1,7),inputs:narrow(1,i,1)}))\n",
    "    end\n",
    "    return y\n",
    "end\n",
    "\n",
    "-- Evaluates the highest scoring sequence:\n",
    "function viterbi(inputs, init, compute_logscore, model, C)\n",
    "    \n",
    "    local y = torch.zeros(C,C)\n",
    "    -- Formating tensors\n",
    "    local initial = torch.zeros(C, 1)\n",
    "    -- initial started with a start of sentence: <t>\n",
    "\n",
    "    initial[{init,1}] = 1\n",
    "    initial:log()\n",
    "\n",
    "    -- number of classes\n",
    "    local n = inputs:size(1)\n",
    "    local max_table = torch.Tensor(n, C)\n",
    "    local backpointer_table = torch.Tensor(n, C)\n",
    "    -- first timestep\n",
    "    -- the initial most likely paths are the initial state distribution\n",
    "    local maxes, backpointers = (initial + compute_logscore(inputs, 1, model, C)[init]):max(2)\n",
    "    max_table[1] = maxes\n",
    "    -- remaining timesteps (\"forwarding\" the maxes)\n",
    "    for i=2,n do\n",
    "        -- precompute edge scores\n",
    "       \n",
    "        y:copy(compute_logscore(inputs, i, model, C))\n",
    "        scores = y:transpose(1,2) + maxes:view(1, C):expand(C, C)\n",
    "\n",
    "        -- compute new maxes \n",
    "        maxes, backpointers = scores:max(2)\n",
    "\n",
    "        -- record\n",
    "        max_table[i] = maxes\n",
    "        backpointer_table[i] = backpointers\n",
    "    end\n",
    "    -- follow backpointers to recover max path\n",
    "    local classes = torch.Tensor(n)\n",
    "    maxes, classes[n] = maxes:max(1)\n",
    "    for i=n,2,-1 do\n",
    "        classes[i-1] = backpointer_table[{i, classes[i]}]\n",
    "    end\n",
    "\n",
    "    return classes\n",
    "end"
   ]
  },
  {
   "cell_type": "code",
   "execution_count": 48,
   "metadata": {
    "collapsed": false
   },
   "outputs": [],
   "source": [
    "input_test = x_test_withoutpast:narrow(1,2,x_test_withoutpast:size(1)-1)\n",
    "predicted_path = viterbi(input_test, y_test_withoutpast[1], compute_logscore, opt_model, 6)"
   ]
  },
  {
   "cell_type": "code",
   "execution_count": 49,
   "metadata": {
    "collapsed": false
   },
   "outputs": [
    {
     "data": {
      "text/plain": [
       "0.92837746096402\t\n"
      ]
     },
     "execution_count": 49,
     "metadata": {},
     "output_type": "execute_result"
    }
   ],
   "source": [
    "print(path_accuracy(predicted_path, y_test))"
   ]
  },
  {
   "cell_type": "markdown",
   "metadata": {},
   "source": [
    "We now compare with another starting architecture:"
   ]
  },
  {
   "cell_type": "code",
   "execution_count": 70,
   "metadata": {
    "collapsed": true
   },
   "outputs": [],
   "source": [
    "initial_archi2 = {false, 10, true, 700, true, true, 300, true, false, false}"
   ]
  },
  {
   "cell_type": "code",
   "execution_count": 71,
   "metadata": {
    "collapsed": false
   },
   "outputs": [
    {
     "data": {
      "text/plain": [
       "2/20\t\n"
      ]
     },
     "execution_count": 71,
     "metadata": {},
     "output_type": "execute_result"
    },
    {
     "data": {
      "text/plain": [
       "3/20\t\n"
      ]
     },
     "execution_count": 71,
     "metadata": {},
     "output_type": "execute_result"
    },
    {
     "data": {
      "text/plain": [
       "4/20\t\n"
      ]
     },
     "execution_count": 71,
     "metadata": {},
     "output_type": "execute_result"
    },
    {
     "data": {
      "text/plain": [
       "5/20\t\n"
      ]
     },
     "execution_count": 71,
     "metadata": {},
     "output_type": "execute_result"
    },
    {
     "data": {
      "text/plain": [
       "6/20\t\n"
      ]
     },
     "execution_count": 71,
     "metadata": {},
     "output_type": "execute_result"
    },
    {
     "data": {
      "text/plain": [
       "7/20\t\n"
      ]
     },
     "execution_count": 71,
     "metadata": {},
     "output_type": "execute_result"
    },
    {
     "data": {
      "text/plain": [
       "8/20\t\n"
      ]
     },
     "execution_count": 71,
     "metadata": {},
     "output_type": "execute_result"
    },
    {
     "data": {
      "text/plain": [
       "9/20\t\n"
      ]
     },
     "execution_count": 71,
     "metadata": {},
     "output_type": "execute_result"
    },
    {
     "data": {
      "text/plain": [
       "10/20\t\n"
      ]
     },
     "execution_count": 71,
     "metadata": {},
     "output_type": "execute_result"
    },
    {
     "data": {
      "text/plain": [
       "11/20\t\n"
      ]
     },
     "execution_count": 71,
     "metadata": {},
     "output_type": "execute_result"
    },
    {
     "data": {
      "text/plain": [
       "12/20\t\n"
      ]
     },
     "execution_count": 71,
     "metadata": {},
     "output_type": "execute_result"
    },
    {
     "data": {
      "text/plain": [
       "13/20\t\n"
      ]
     },
     "execution_count": 71,
     "metadata": {},
     "output_type": "execute_result"
    },
    {
     "data": {
      "text/plain": [
       "14/20\t\n"
      ]
     },
     "execution_count": 71,
     "metadata": {},
     "output_type": "execute_result"
    },
    {
     "data": {
      "text/plain": [
       "15/20\t\n"
      ]
     },
     "execution_count": 71,
     "metadata": {},
     "output_type": "execute_result"
    },
    {
     "data": {
      "text/plain": [
       "16/20\t\n"
      ]
     },
     "execution_count": 71,
     "metadata": {},
     "output_type": "execute_result"
    },
    {
     "data": {
      "text/plain": [
       "17/20\t\n"
      ]
     },
     "execution_count": 71,
     "metadata": {},
     "output_type": "execute_result"
    },
    {
     "data": {
      "text/plain": [
       "18/20\t\n"
      ]
     },
     "execution_count": 71,
     "metadata": {},
     "output_type": "execute_result"
    },
    {
     "data": {
      "text/plain": [
       "19/20\t\n"
      ]
     },
     "execution_count": 71,
     "metadata": {},
     "output_type": "execute_result"
    },
    {
     "data": {
      "text/plain": [
       "20/20\t\n"
      ]
     },
     "execution_count": 71,
     "metadata": {},
     "output_type": "execute_result"
    }
   ],
   "source": [
    "opt_model2, archi2, costs2, model_table2 = SA(initial_archi2, x_train_1, x_train_2, y_train, x_val_1, x_val_2, y_val, eta, batch, nEpochs, nIt, T, annealing)"
   ]
  },
  {
   "cell_type": "code",
   "execution_count": 72,
   "metadata": {
    "collapsed": true
   },
   "outputs": [],
   "source": [
    "toprint2 = torch.zeros(20)\n",
    "for key,value in pairs(costs2) do\n",
    "    toprint2[key] = value\n",
    "end"
   ]
  },
  {
   "cell_type": "code",
   "execution_count": 73,
   "metadata": {
    "collapsed": false
   },
   "outputs": [
    {
     "data": {
      "text/html": [
       "<script type=\"text/javascript\">\n",
       "$(function() {\n",
       "    if (typeof (window._bokeh_onload_callbacks) === \"undefined\"){\n",
       "  window._bokeh_onload_callbacks = [];\n",
       "    }\n",
       "    function load_lib(url, callback){\n",
       "  window._bokeh_onload_callbacks.push(callback);\n",
       "  if (window._bokeh_is_loading){\n",
       "      console.log(\"Bokeh: BokehJS is being loaded, scheduling callback at\", new Date());\n",
       "      return null;\n",
       "  }\n",
       "  console.log(\"Bokeh: BokehJS not loaded, scheduling load and callback at\", new Date());\n",
       "  window._bokeh_is_loading = true;\n",
       "  var s = document.createElement('script');\n",
       "  s.src = url;\n",
       "  s.async = true;\n",
       "  s.onreadystatechange = s.onload = function(){\n",
       "      Bokeh.embed.inject_css(\"https://cdn.pydata.org/bokeh-0.7.0.min.css\");\n",
       "      window._bokeh_onload_callbacks.forEach(function(callback){callback()});\n",
       "  };\n",
       "  s.onerror = function(){\n",
       "      console.warn(\"failed to load library \" + url);\n",
       "  };\n",
       "  document.getElementsByTagName(\"head\")[0].appendChild(s);\n",
       "    }\n",
       "\n",
       "    bokehjs_url = \"https://cdn.pydata.org/bokeh-0.7.0.min.js\"\n",
       "\n",
       "    var elt = document.getElementById(\"aae3103d-54fc-4201-c2d6-6cafe264ba88\");\n",
       "    if(elt==null) {\n",
       "  console.log(\"Bokeh: ERROR: autoload.js configured with elementid 'aae3103d-54fc-4201-c2d6-6cafe264ba88'\"\n",
       "        + \"but no matching script tag was found. \")\n",
       "  return false;\n",
       "    }\n",
       "\n",
       "    if(typeof(Bokeh) !== \"undefined\") {\n",
       "  console.log(\"Bokeh: BokehJS loaded, going straight to plotting\");\n",
       "  var modelid = \"cdfe3e2b-5374-4521-c556-8e06dc06382c\";\n",
       "  var modeltype = \"Plot\";\n",
       "  var all_models = [{\"id\":\"b003441c-a1d5-4a77-cadb-dfa3dd564dc1\",\"type\":\"ColumnDataSource\",\"attributes\":{\"data\":{\"y\":[0.0072463768115942,0.0072463768115942,0.0063405797101449,0.0063405797101449,0.0072463768115942,0.0072463768115942,0.0072463768115942,0.0072463768115942,0.0072463768115942,0.0072463768115942,0.0063405797101449,0.0072463768115942,0.0072463768115942,0.0063405797101449,0.0072463768115942,0.0063405797101449,0.0063405797101449,0.0054347826086956,0.0054347826086956,0.0045289855072463],\"x\":[1,2,3,4,5,6,7,8,9,10,11,12,13,14,15,16,17,18,19,20]},\"column_names\":[\"y\",\"x\"],\"cont_ranges\":{},\"discrete_ranges\":{},\"selected\":[],\"id\":\"b003441c-a1d5-4a77-cadb-dfa3dd564dc1\",\"doc\":null,\"tags\":[]}},{\"id\":\"3d2bceef-1739-4595-c5ee-fa650722a188\",\"type\":\"Line\",\"attributes\":{\"fill_alpha\":{\"units\":\"data\",\"value\":0.2},\"line_alpha\":{\"units\":\"data\",\"value\":1},\"doc\":null,\"size\":{\"units\":\"screen\",\"value\":10},\"fill_color\":{\"value\":\"red\"},\"line_color\":{\"value\":\"red\"},\"x\":{\"units\":\"data\",\"field\":\"x\"},\"id\":\"3d2bceef-1739-4595-c5ee-fa650722a188\",\"y\":{\"units\":\"data\",\"field\":\"y\"},\"tags\":[]}},{\"id\":\"7881678a-c64a-4177-c187-728dba1cea18\",\"type\":\"Line\",\"attributes\":{\"fill_alpha\":{\"units\":\"data\",\"value\":0.2},\"line_alpha\":{\"units\":\"data\",\"value\":1},\"doc\":null,\"size\":{\"units\":\"screen\",\"value\":10},\"fill_color\":{\"value\":\"red\"},\"line_color\":{\"value\":\"red\"},\"x\":{\"units\":\"data\",\"field\":\"x\"},\"id\":\"7881678a-c64a-4177-c187-728dba1cea18\",\"y\":{\"units\":\"data\",\"field\":\"y\"},\"tags\":[]}},{\"id\":\"ed2ba749-ac47-4522-c5fa-0c0b012028be\",\"type\":\"GlyphRenderer\",\"attributes\":{\"name\":null,\"nonselection_glyph\":{\"type\":\"Line\",\"id\":\"7881678a-c64a-4177-c187-728dba1cea18\"},\"doc\":null,\"server_data_source\":null,\"data_source\":{\"type\":\"ColumnDataSource\",\"id\":\"b003441c-a1d5-4a77-cadb-dfa3dd564dc1\"},\"glyph\":{\"type\":\"Line\",\"id\":\"3d2bceef-1739-4595-c5ee-fa650722a188\"},\"selection_glyph\":null,\"id\":\"ed2ba749-ac47-4522-c5fa-0c0b012028be\",\"tags\":[]}},{\"id\":\"cc0c167e-29be-4300-c3b0-f38f7cb4f0fc\",\"type\":\"DataRange1d\",\"attributes\":{\"sources\":[{\"columns\":[\"x\"],\"source\":{\"type\":\"ColumnDataSource\",\"id\":\"b003441c-a1d5-4a77-cadb-dfa3dd564dc1\"}}],\"id\":\"cc0c167e-29be-4300-c3b0-f38f7cb4f0fc\",\"tags\":[],\"doc\":null}},{\"id\":\"08d5b1b5-4594-4594-c518-d786a3c4ef2d\",\"type\":\"DataRange1d\",\"attributes\":{\"sources\":[{\"columns\":[\"y\"],\"source\":{\"type\":\"ColumnDataSource\",\"id\":\"b003441c-a1d5-4a77-cadb-dfa3dd564dc1\"}}],\"id\":\"08d5b1b5-4594-4594-c518-d786a3c4ef2d\",\"tags\":[],\"doc\":null}},{\"id\":\"f7b91da9-ce85-4a01-ca19-fe54735b7308\",\"type\":\"ToolEvents\",\"attributes\":{\"tags\":[],\"id\":\"f7b91da9-ce85-4a01-ca19-fe54735b7308\",\"geometries\":[],\"doc\":null}},{\"id\":\"1c8b2664-fb6e-4856-c866-0e0da1e727b9\",\"type\":\"BasicTickFormatter\",\"attributes\":{\"id\":\"1c8b2664-fb6e-4856-c866-0e0da1e727b9\",\"tags\":[],\"doc\":null}},{\"id\":\"e0a9a2f7-9d4b-45e9-c5aa-9c0766523eca\",\"type\":\"BasicTicker\",\"attributes\":{\"num_minor_ticks\":5,\"id\":\"e0a9a2f7-9d4b-45e9-c5aa-9c0766523eca\",\"tags\":[],\"doc\":null}},{\"id\":\"45b8539c-cb87-42c4-c2fc-391edb62ebb9\",\"type\":\"LinearAxis\",\"attributes\":{\"formatter\":{\"type\":\"BasicTickFormatter\",\"id\":\"1c8b2664-fb6e-4856-c866-0e0da1e727b9\"},\"ticker\":{\"type\":\"BasicTicker\",\"id\":\"e0a9a2f7-9d4b-45e9-c5aa-9c0766523eca\"},\"plot\":{\"id\":\"cdfe3e2b-5374-4521-c556-8e06dc06382c\",\"type\":\"Plot\",\"subtype\":\"Figure\"},\"axis_label\":null,\"id\":\"45b8539c-cb87-42c4-c2fc-391edb62ebb9\",\"doc\":null,\"tags\":[]}},{\"id\":\"7398a015-5cd5-428f-c22d-1cc4b94173a2\",\"type\":\"Grid\",\"attributes\":{\"dimension\":0,\"plot\":{\"id\":\"cdfe3e2b-5374-4521-c556-8e06dc06382c\",\"type\":\"Plot\",\"subtype\":\"Figure\"},\"ticker\":{\"type\":\"BasicTicker\",\"id\":\"e0a9a2f7-9d4b-45e9-c5aa-9c0766523eca\"},\"id\":\"7398a015-5cd5-428f-c22d-1cc4b94173a2\",\"doc\":null,\"tags\":[]}},{\"id\":\"8f59d8c4-9ca4-4871-c8db-7b52d8da0b59\",\"type\":\"BasicTickFormatter\",\"attributes\":{\"id\":\"8f59d8c4-9ca4-4871-c8db-7b52d8da0b59\",\"tags\":[],\"doc\":null}},{\"id\":\"a9ec7d92-0a4c-47a1-c7ec-659c3efd9212\",\"type\":\"BasicTicker\",\"attributes\":{\"num_minor_ticks\":5,\"id\":\"a9ec7d92-0a4c-47a1-c7ec-659c3efd9212\",\"tags\":[],\"doc\":null}},{\"id\":\"bf17a9c2-6a9f-43b8-c3e4-3974f8412eb4\",\"type\":\"LinearAxis\",\"attributes\":{\"formatter\":{\"type\":\"BasicTickFormatter\",\"id\":\"8f59d8c4-9ca4-4871-c8db-7b52d8da0b59\"},\"ticker\":{\"type\":\"BasicTicker\",\"id\":\"a9ec7d92-0a4c-47a1-c7ec-659c3efd9212\"},\"plot\":{\"id\":\"cdfe3e2b-5374-4521-c556-8e06dc06382c\",\"type\":\"Plot\",\"subtype\":\"Figure\"},\"axis_label\":null,\"id\":\"bf17a9c2-6a9f-43b8-c3e4-3974f8412eb4\",\"doc\":null,\"tags\":[]}},{\"id\":\"663a3fd6-2807-4009-c06c-ad8e3e2eae2a\",\"type\":\"Grid\",\"attributes\":{\"dimension\":1,\"plot\":{\"id\":\"cdfe3e2b-5374-4521-c556-8e06dc06382c\",\"type\":\"Plot\",\"subtype\":\"Figure\"},\"ticker\":{\"type\":\"BasicTicker\",\"id\":\"a9ec7d92-0a4c-47a1-c7ec-659c3efd9212\"},\"id\":\"663a3fd6-2807-4009-c06c-ad8e3e2eae2a\",\"doc\":null,\"tags\":[]}},{\"id\":\"05422549-8a72-4bc5-cbad-79787bd317f3\",\"type\":\"PanTool\",\"attributes\":{\"plot\":{\"id\":\"cdfe3e2b-5374-4521-c556-8e06dc06382c\",\"type\":\"Plot\",\"subtype\":\"Figure\"},\"dimensions\":[\"width\",\"height\"],\"id\":\"05422549-8a72-4bc5-cbad-79787bd317f3\",\"doc\":null,\"tags\":[]}},{\"id\":\"2641f270-de4c-48c8-c856-1ffa91d2516e\",\"type\":\"WheelZoomTool\",\"attributes\":{\"plot\":{\"id\":\"cdfe3e2b-5374-4521-c556-8e06dc06382c\",\"type\":\"Plot\",\"subtype\":\"Figure\"},\"dimensions\":[\"width\",\"height\"],\"id\":\"2641f270-de4c-48c8-c856-1ffa91d2516e\",\"doc\":null,\"tags\":[]}},{\"id\":\"8a06b232-c486-43fa-c325-c0e3d8496c4d\",\"type\":\"BoxZoomTool\",\"attributes\":{\"plot\":{\"id\":\"cdfe3e2b-5374-4521-c556-8e06dc06382c\",\"type\":\"Plot\",\"subtype\":\"Figure\"},\"id\":\"8a06b232-c486-43fa-c325-c0e3d8496c4d\",\"tags\":[],\"doc\":null}},{\"id\":\"2cb87353-8110-4c65-cca8-5a820b8a521e\",\"type\":\"PreviewSaveTool\",\"attributes\":{\"plot\":{\"id\":\"cdfe3e2b-5374-4521-c556-8e06dc06382c\",\"type\":\"Plot\",\"subtype\":\"Figure\"},\"id\":\"2cb87353-8110-4c65-cca8-5a820b8a521e\",\"tags\":[],\"doc\":null}},{\"id\":\"3de1c9db-3fd2-4de6-cd72-a994c6e88c88\",\"type\":\"ResizeTool\",\"attributes\":{\"plot\":{\"id\":\"cdfe3e2b-5374-4521-c556-8e06dc06382c\",\"type\":\"Plot\",\"subtype\":\"Figure\"},\"id\":\"3de1c9db-3fd2-4de6-cd72-a994c6e88c88\",\"tags\":[],\"doc\":null}},{\"id\":\"004dbcb8-ab55-434c-c34f-00751d6ccd96\",\"type\":\"ResetTool\",\"attributes\":{\"plot\":{\"id\":\"cdfe3e2b-5374-4521-c556-8e06dc06382c\",\"type\":\"Plot\",\"subtype\":\"Figure\"},\"id\":\"004dbcb8-ab55-434c-c34f-00751d6ccd96\",\"tags\":[],\"doc\":null}},{\"id\":\"cdfe3e2b-5374-4521-c556-8e06dc06382c\",\"type\":\"Plot\",\"attributes\":{\"x_range\":{\"type\":\"DataRange1d\",\"id\":\"cc0c167e-29be-4300-c3b0-f38f7cb4f0fc\"},\"tool_events\":{\"type\":\"ToolEvents\",\"id\":\"f7b91da9-ce85-4a01-ca19-fe54735b7308\"},\"below\":[{\"type\":\"LinearAxis\",\"id\":\"45b8539c-cb87-42c4-c2fc-391edb62ebb9\"}],\"renderers\":[{\"type\":\"GlyphRenderer\",\"id\":\"ed2ba749-ac47-4522-c5fa-0c0b012028be\"},{\"type\":\"LinearAxis\",\"id\":\"45b8539c-cb87-42c4-c2fc-391edb62ebb9\"},{\"type\":\"Grid\",\"id\":\"7398a015-5cd5-428f-c22d-1cc4b94173a2\"},{\"type\":\"LinearAxis\",\"id\":\"bf17a9c2-6a9f-43b8-c3e4-3974f8412eb4\"},{\"type\":\"Grid\",\"id\":\"663a3fd6-2807-4009-c06c-ad8e3e2eae2a\"}],\"above\":[],\"tools\":[{\"type\":\"PanTool\",\"id\":\"05422549-8a72-4bc5-cbad-79787bd317f3\"},{\"type\":\"WheelZoomTool\",\"id\":\"2641f270-de4c-48c8-c856-1ffa91d2516e\"},{\"type\":\"BoxZoomTool\",\"id\":\"8a06b232-c486-43fa-c325-c0e3d8496c4d\"},{\"type\":\"PreviewSaveTool\",\"id\":\"2cb87353-8110-4c65-cca8-5a820b8a521e\"},{\"type\":\"ResizeTool\",\"id\":\"3de1c9db-3fd2-4de6-cd72-a994c6e88c88\"},{\"type\":\"ResetTool\",\"id\":\"004dbcb8-ab55-434c-c34f-00751d6ccd96\"}],\"doc\":null,\"right\":[],\"title\":\"Optimal Architecture using Simulated Annealing\",\"extra_x_ranges\":{},\"left\":[{\"type\":\"LinearAxis\",\"id\":\"bf17a9c2-6a9f-43b8-c3e4-3974f8412eb4\"}],\"y_range\":{\"type\":\"DataRange1d\",\"id\":\"08d5b1b5-4594-4594-c518-d786a3c4ef2d\"},\"id\":\"cdfe3e2b-5374-4521-c556-8e06dc06382c\",\"extra_y_ranges\":{},\"tags\":[]}}];\n",
       "  Bokeh.load_models(all_models);\n",
       "  var model = Bokeh.Collections(modeltype).get(modelid);\n",
       "  $(\"#aae3103d-54fc-4201-c2d6-6cafe264ba88\").html(''); // clear any previous plot in window_id\n",
       "  var view = new model.default_view({model: model, el: \"#aae3103d-54fc-4201-c2d6-6cafe264ba88\"});\n",
       "    } else {\n",
       "  load_lib(bokehjs_url, function() {\n",
       "      console.log(\"Bokeh: BokehJS plotting callback run at\", new Date())\n",
       "      var modelid = \"cdfe3e2b-5374-4521-c556-8e06dc06382c\";\n",
       "      var modeltype = \"Plot\";\n",
       "      var all_models = [{\"id\":\"b003441c-a1d5-4a77-cadb-dfa3dd564dc1\",\"type\":\"ColumnDataSource\",\"attributes\":{\"data\":{\"y\":[0.0072463768115942,0.0072463768115942,0.0063405797101449,0.0063405797101449,0.0072463768115942,0.0072463768115942,0.0072463768115942,0.0072463768115942,0.0072463768115942,0.0072463768115942,0.0063405797101449,0.0072463768115942,0.0072463768115942,0.0063405797101449,0.0072463768115942,0.0063405797101449,0.0063405797101449,0.0054347826086956,0.0054347826086956,0.0045289855072463],\"x\":[1,2,3,4,5,6,7,8,9,10,11,12,13,14,15,16,17,18,19,20]},\"column_names\":[\"y\",\"x\"],\"cont_ranges\":{},\"discrete_ranges\":{},\"selected\":[],\"id\":\"b003441c-a1d5-4a77-cadb-dfa3dd564dc1\",\"doc\":null,\"tags\":[]}},{\"id\":\"3d2bceef-1739-4595-c5ee-fa650722a188\",\"type\":\"Line\",\"attributes\":{\"fill_alpha\":{\"units\":\"data\",\"value\":0.2},\"line_alpha\":{\"units\":\"data\",\"value\":1},\"doc\":null,\"size\":{\"units\":\"screen\",\"value\":10},\"fill_color\":{\"value\":\"red\"},\"line_color\":{\"value\":\"red\"},\"x\":{\"units\":\"data\",\"field\":\"x\"},\"id\":\"3d2bceef-1739-4595-c5ee-fa650722a188\",\"y\":{\"units\":\"data\",\"field\":\"y\"},\"tags\":[]}},{\"id\":\"7881678a-c64a-4177-c187-728dba1cea18\",\"type\":\"Line\",\"attributes\":{\"fill_alpha\":{\"units\":\"data\",\"value\":0.2},\"line_alpha\":{\"units\":\"data\",\"value\":1},\"doc\":null,\"size\":{\"units\":\"screen\",\"value\":10},\"fill_color\":{\"value\":\"red\"},\"line_color\":{\"value\":\"red\"},\"x\":{\"units\":\"data\",\"field\":\"x\"},\"id\":\"7881678a-c64a-4177-c187-728dba1cea18\",\"y\":{\"units\":\"data\",\"field\":\"y\"},\"tags\":[]}},{\"id\":\"ed2ba749-ac47-4522-c5fa-0c0b012028be\",\"type\":\"GlyphRenderer\",\"attributes\":{\"name\":null,\"nonselection_glyph\":{\"type\":\"Line\",\"id\":\"7881678a-c64a-4177-c187-728dba1cea18\"},\"doc\":null,\"server_data_source\":null,\"data_source\":{\"type\":\"ColumnDataSource\",\"id\":\"b003441c-a1d5-4a77-cadb-dfa3dd564dc1\"},\"glyph\":{\"type\":\"Line\",\"id\":\"3d2bceef-1739-4595-c5ee-fa650722a188\"},\"selection_glyph\":null,\"id\":\"ed2ba749-ac47-4522-c5fa-0c0b012028be\",\"tags\":[]}},{\"id\":\"cc0c167e-29be-4300-c3b0-f38f7cb4f0fc\",\"type\":\"DataRange1d\",\"attributes\":{\"sources\":[{\"columns\":[\"x\"],\"source\":{\"type\":\"ColumnDataSource\",\"id\":\"b003441c-a1d5-4a77-cadb-dfa3dd564dc1\"}}],\"id\":\"cc0c167e-29be-4300-c3b0-f38f7cb4f0fc\",\"tags\":[],\"doc\":null}},{\"id\":\"08d5b1b5-4594-4594-c518-d786a3c4ef2d\",\"type\":\"DataRange1d\",\"attributes\":{\"sources\":[{\"columns\":[\"y\"],\"source\":{\"type\":\"ColumnDataSource\",\"id\":\"b003441c-a1d5-4a77-cadb-dfa3dd564dc1\"}}],\"id\":\"08d5b1b5-4594-4594-c518-d786a3c4ef2d\",\"tags\":[],\"doc\":null}},{\"id\":\"f7b91da9-ce85-4a01-ca19-fe54735b7308\",\"type\":\"ToolEvents\",\"attributes\":{\"tags\":[],\"id\":\"f7b91da9-ce85-4a01-ca19-fe54735b7308\",\"geometries\":[],\"doc\":null}},{\"id\":\"1c8b2664-fb6e-4856-c866-0e0da1e727b9\",\"type\":\"BasicTickFormatter\",\"attributes\":{\"id\":\"1c8b2664-fb6e-4856-c866-0e0da1e727b9\",\"tags\":[],\"doc\":null}},{\"id\":\"e0a9a2f7-9d4b-45e9-c5aa-9c0766523eca\",\"type\":\"BasicTicker\",\"attributes\":{\"num_minor_ticks\":5,\"id\":\"e0a9a2f7-9d4b-45e9-c5aa-9c0766523eca\",\"tags\":[],\"doc\":null}},{\"id\":\"45b8539c-cb87-42c4-c2fc-391edb62ebb9\",\"type\":\"LinearAxis\",\"attributes\":{\"formatter\":{\"type\":\"BasicTickFormatter\",\"id\":\"1c8b2664-fb6e-4856-c866-0e0da1e727b9\"},\"ticker\":{\"type\":\"BasicTicker\",\"id\":\"e0a9a2f7-9d4b-45e9-c5aa-9c0766523eca\"},\"plot\":{\"id\":\"cdfe3e2b-5374-4521-c556-8e06dc06382c\",\"type\":\"Plot\",\"subtype\":\"Figure\"},\"axis_label\":null,\"id\":\"45b8539c-cb87-42c4-c2fc-391edb62ebb9\",\"doc\":null,\"tags\":[]}},{\"id\":\"7398a015-5cd5-428f-c22d-1cc4b94173a2\",\"type\":\"Grid\",\"attributes\":{\"dimension\":0,\"plot\":{\"id\":\"cdfe3e2b-5374-4521-c556-8e06dc06382c\",\"type\":\"Plot\",\"subtype\":\"Figure\"},\"ticker\":{\"type\":\"BasicTicker\",\"id\":\"e0a9a2f7-9d4b-45e9-c5aa-9c0766523eca\"},\"id\":\"7398a015-5cd5-428f-c22d-1cc4b94173a2\",\"doc\":null,\"tags\":[]}},{\"id\":\"8f59d8c4-9ca4-4871-c8db-7b52d8da0b59\",\"type\":\"BasicTickFormatter\",\"attributes\":{\"id\":\"8f59d8c4-9ca4-4871-c8db-7b52d8da0b59\",\"tags\":[],\"doc\":null}},{\"id\":\"a9ec7d92-0a4c-47a1-c7ec-659c3efd9212\",\"type\":\"BasicTicker\",\"attributes\":{\"num_minor_ticks\":5,\"id\":\"a9ec7d92-0a4c-47a1-c7ec-659c3efd9212\",\"tags\":[],\"doc\":null}},{\"id\":\"bf17a9c2-6a9f-43b8-c3e4-3974f8412eb4\",\"type\":\"LinearAxis\",\"attributes\":{\"formatter\":{\"type\":\"BasicTickFormatter\",\"id\":\"8f59d8c4-9ca4-4871-c8db-7b52d8da0b59\"},\"ticker\":{\"type\":\"BasicTicker\",\"id\":\"a9ec7d92-0a4c-47a1-c7ec-659c3efd9212\"},\"plot\":{\"id\":\"cdfe3e2b-5374-4521-c556-8e06dc06382c\",\"type\":\"Plot\",\"subtype\":\"Figure\"},\"axis_label\":null,\"id\":\"bf17a9c2-6a9f-43b8-c3e4-3974f8412eb4\",\"doc\":null,\"tags\":[]}},{\"id\":\"663a3fd6-2807-4009-c06c-ad8e3e2eae2a\",\"type\":\"Grid\",\"attributes\":{\"dimension\":1,\"plot\":{\"id\":\"cdfe3e2b-5374-4521-c556-8e06dc06382c\",\"type\":\"Plot\",\"subtype\":\"Figure\"},\"ticker\":{\"type\":\"BasicTicker\",\"id\":\"a9ec7d92-0a4c-47a1-c7ec-659c3efd9212\"},\"id\":\"663a3fd6-2807-4009-c06c-ad8e3e2eae2a\",\"doc\":null,\"tags\":[]}},{\"id\":\"05422549-8a72-4bc5-cbad-79787bd317f3\",\"type\":\"PanTool\",\"attributes\":{\"plot\":{\"id\":\"cdfe3e2b-5374-4521-c556-8e06dc06382c\",\"type\":\"Plot\",\"subtype\":\"Figure\"},\"dimensions\":[\"width\",\"height\"],\"id\":\"05422549-8a72-4bc5-cbad-79787bd317f3\",\"doc\":null,\"tags\":[]}},{\"id\":\"2641f270-de4c-48c8-c856-1ffa91d2516e\",\"type\":\"WheelZoomTool\",\"attributes\":{\"plot\":{\"id\":\"cdfe3e2b-5374-4521-c556-8e06dc06382c\",\"type\":\"Plot\",\"subtype\":\"Figure\"},\"dimensions\":[\"width\",\"height\"],\"id\":\"2641f270-de4c-48c8-c856-1ffa91d2516e\",\"doc\":null,\"tags\":[]}},{\"id\":\"8a06b232-c486-43fa-c325-c0e3d8496c4d\",\"type\":\"BoxZoomTool\",\"attributes\":{\"plot\":{\"id\":\"cdfe3e2b-5374-4521-c556-8e06dc06382c\",\"type\":\"Plot\",\"subtype\":\"Figure\"},\"id\":\"8a06b232-c486-43fa-c325-c0e3d8496c4d\",\"tags\":[],\"doc\":null}},{\"id\":\"2cb87353-8110-4c65-cca8-5a820b8a521e\",\"type\":\"PreviewSaveTool\",\"attributes\":{\"plot\":{\"id\":\"cdfe3e2b-5374-4521-c556-8e06dc06382c\",\"type\":\"Plot\",\"subtype\":\"Figure\"},\"id\":\"2cb87353-8110-4c65-cca8-5a820b8a521e\",\"tags\":[],\"doc\":null}},{\"id\":\"3de1c9db-3fd2-4de6-cd72-a994c6e88c88\",\"type\":\"ResizeTool\",\"attributes\":{\"plot\":{\"id\":\"cdfe3e2b-5374-4521-c556-8e06dc06382c\",\"type\":\"Plot\",\"subtype\":\"Figure\"},\"id\":\"3de1c9db-3fd2-4de6-cd72-a994c6e88c88\",\"tags\":[],\"doc\":null}},{\"id\":\"004dbcb8-ab55-434c-c34f-00751d6ccd96\",\"type\":\"ResetTool\",\"attributes\":{\"plot\":{\"id\":\"cdfe3e2b-5374-4521-c556-8e06dc06382c\",\"type\":\"Plot\",\"subtype\":\"Figure\"},\"id\":\"004dbcb8-ab55-434c-c34f-00751d6ccd96\",\"tags\":[],\"doc\":null}},{\"id\":\"cdfe3e2b-5374-4521-c556-8e06dc06382c\",\"type\":\"Plot\",\"attributes\":{\"x_range\":{\"type\":\"DataRange1d\",\"id\":\"cc0c167e-29be-4300-c3b0-f38f7cb4f0fc\"},\"tool_events\":{\"type\":\"ToolEvents\",\"id\":\"f7b91da9-ce85-4a01-ca19-fe54735b7308\"},\"below\":[{\"type\":\"LinearAxis\",\"id\":\"45b8539c-cb87-42c4-c2fc-391edb62ebb9\"}],\"renderers\":[{\"type\":\"GlyphRenderer\",\"id\":\"ed2ba749-ac47-4522-c5fa-0c0b012028be\"},{\"type\":\"LinearAxis\",\"id\":\"45b8539c-cb87-42c4-c2fc-391edb62ebb9\"},{\"type\":\"Grid\",\"id\":\"7398a015-5cd5-428f-c22d-1cc4b94173a2\"},{\"type\":\"LinearAxis\",\"id\":\"bf17a9c2-6a9f-43b8-c3e4-3974f8412eb4\"},{\"type\":\"Grid\",\"id\":\"663a3fd6-2807-4009-c06c-ad8e3e2eae2a\"}],\"above\":[],\"tools\":[{\"type\":\"PanTool\",\"id\":\"05422549-8a72-4bc5-cbad-79787bd317f3\"},{\"type\":\"WheelZoomTool\",\"id\":\"2641f270-de4c-48c8-c856-1ffa91d2516e\"},{\"type\":\"BoxZoomTool\",\"id\":\"8a06b232-c486-43fa-c325-c0e3d8496c4d\"},{\"type\":\"PreviewSaveTool\",\"id\":\"2cb87353-8110-4c65-cca8-5a820b8a521e\"},{\"type\":\"ResizeTool\",\"id\":\"3de1c9db-3fd2-4de6-cd72-a994c6e88c88\"},{\"type\":\"ResetTool\",\"id\":\"004dbcb8-ab55-434c-c34f-00751d6ccd96\"}],\"doc\":null,\"right\":[],\"title\":\"Optimal Architecture using Simulated Annealing\",\"extra_x_ranges\":{},\"left\":[{\"type\":\"LinearAxis\",\"id\":\"bf17a9c2-6a9f-43b8-c3e4-3974f8412eb4\"}],\"y_range\":{\"type\":\"DataRange1d\",\"id\":\"08d5b1b5-4594-4594-c518-d786a3c4ef2d\"},\"id\":\"cdfe3e2b-5374-4521-c556-8e06dc06382c\",\"extra_y_ranges\":{},\"tags\":[]}}];\n",
       "      Bokeh.load_models(all_models);\n",
       "      var model = Bokeh.Collections(modeltype).get(modelid);\n",
       "      $(\"#aae3103d-54fc-4201-c2d6-6cafe264ba88\").html(''); // clear any previous plot in window_id\n",
       "      var view = new model.default_view({model: model, el: \"#aae3103d-54fc-4201-c2d6-6cafe264ba88\"});\n",
       "  });\n",
       "    }\n",
       "});\n",
       "</script>\n",
       "<div class=\"plotdiv\" id=\"aae3103d-54fc-4201-c2d6-6cafe264ba88\"></div>\n"
      ]
     },
     "metadata": {},
     "output_type": "display_data"
    },
    {
     "data": {
      "text/html": [
       "<script type=\"text/javascript\">\n",
       "$(function() {\n",
       "    if (typeof (window._bokeh_onload_callbacks) === \"undefined\"){\n",
       "  window._bokeh_onload_callbacks = [];\n",
       "    }\n",
       "    function load_lib(url, callback){\n",
       "  window._bokeh_onload_callbacks.push(callback);\n",
       "  if (window._bokeh_is_loading){\n",
       "      console.log(\"Bokeh: BokehJS is being loaded, scheduling callback at\", new Date());\n",
       "      return null;\n",
       "  }\n",
       "  console.log(\"Bokeh: BokehJS not loaded, scheduling load and callback at\", new Date());\n",
       "  window._bokeh_is_loading = true;\n",
       "  var s = document.createElement('script');\n",
       "  s.src = url;\n",
       "  s.async = true;\n",
       "  s.onreadystatechange = s.onload = function(){\n",
       "      Bokeh.embed.inject_css(\"https://cdn.pydata.org/bokeh-0.7.0.min.css\");\n",
       "      window._bokeh_onload_callbacks.forEach(function(callback){callback()});\n",
       "  };\n",
       "  s.onerror = function(){\n",
       "      console.warn(\"failed to load library \" + url);\n",
       "  };\n",
       "  document.getElementsByTagName(\"head\")[0].appendChild(s);\n",
       "    }\n",
       "\n",
       "    bokehjs_url = \"https://cdn.pydata.org/bokeh-0.7.0.min.js\"\n",
       "\n",
       "    var elt = document.getElementById(\"aae3103d-54fc-4201-c2d6-6cafe264ba88\");\n",
       "    if(elt==null) {\n",
       "  console.log(\"Bokeh: ERROR: autoload.js configured with elementid 'aae3103d-54fc-4201-c2d6-6cafe264ba88'\"\n",
       "        + \"but no matching script tag was found. \")\n",
       "  return false;\n",
       "    }\n",
       "\n",
       "    if(typeof(Bokeh) !== \"undefined\") {\n",
       "  console.log(\"Bokeh: BokehJS loaded, going straight to plotting\");\n",
       "  var modelid = \"371a0cae-9382-4d5c-cd99-1a1cfb73c369\";\n",
       "  var modeltype = \"Plot\";\n",
       "  var all_models = [{\"id\":\"5698debd-3c25-4313-c306-5cf2fb5eaffa\",\"type\":\"ColumnDataSource\",\"attributes\":{\"data\":{\"y\":[0.0072463768115942,0.0072463768115942,0.0063405797101449,0.0063405797101449,0.0072463768115942,0.0072463768115942,0.0072463768115942,0.0072463768115942,0.0072463768115942,0.0072463768115942,0.0063405797101449,0.0072463768115942,0.0072463768115942,0.0063405797101449,0.0072463768115942,0.0063405797101449,0.0063405797101449,0.0054347826086956,0.0054347826086956,0.0045289855072463],\"x\":[1,2,3,4,5,6,7,8,9,10,11,12,13,14,15,16,17,18,19,20]},\"column_names\":[\"y\",\"x\"],\"cont_ranges\":{},\"discrete_ranges\":{},\"selected\":[],\"id\":\"5698debd-3c25-4313-c306-5cf2fb5eaffa\",\"doc\":null,\"tags\":[]}},{\"id\":\"e9af3900-b608-4ffd-cf0a-37da5dbd038c\",\"type\":\"Line\",\"attributes\":{\"fill_alpha\":{\"units\":\"data\",\"value\":0.2},\"line_alpha\":{\"units\":\"data\",\"value\":1},\"doc\":null,\"size\":{\"units\":\"screen\",\"value\":10},\"fill_color\":{\"value\":\"red\"},\"line_color\":{\"value\":\"red\"},\"x\":{\"units\":\"data\",\"field\":\"x\"},\"id\":\"e9af3900-b608-4ffd-cf0a-37da5dbd038c\",\"y\":{\"units\":\"data\",\"field\":\"y\"},\"tags\":[]}},{\"id\":\"f6ff2ba8-714c-4d35-cd13-53e807a84229\",\"type\":\"Line\",\"attributes\":{\"fill_alpha\":{\"units\":\"data\",\"value\":0.2},\"line_alpha\":{\"units\":\"data\",\"value\":1},\"doc\":null,\"size\":{\"units\":\"screen\",\"value\":10},\"fill_color\":{\"value\":\"red\"},\"line_color\":{\"value\":\"red\"},\"x\":{\"units\":\"data\",\"field\":\"x\"},\"id\":\"f6ff2ba8-714c-4d35-cd13-53e807a84229\",\"y\":{\"units\":\"data\",\"field\":\"y\"},\"tags\":[]}},{\"id\":\"ca6901e8-d9d5-4aec-ca7a-ae772468b281\",\"type\":\"GlyphRenderer\",\"attributes\":{\"name\":null,\"nonselection_glyph\":{\"type\":\"Line\",\"id\":\"f6ff2ba8-714c-4d35-cd13-53e807a84229\"},\"doc\":null,\"server_data_source\":null,\"data_source\":{\"type\":\"ColumnDataSource\",\"id\":\"5698debd-3c25-4313-c306-5cf2fb5eaffa\"},\"glyph\":{\"type\":\"Line\",\"id\":\"e9af3900-b608-4ffd-cf0a-37da5dbd038c\"},\"selection_glyph\":null,\"id\":\"ca6901e8-d9d5-4aec-ca7a-ae772468b281\",\"tags\":[]}},{\"id\":\"00136307-5818-4311-c301-971cdd96d679\",\"type\":\"ColumnDataSource\",\"attributes\":{\"data\":{\"y\":[0.028985507246377,0.023550724637681,0.032608695652174,0.027173913043478,0.032608695652174,0.030797101449275,0.028079710144928,0.021739130434783,0.027173913043478,0.0072463768115942,0.0072463768115942,0.0072463768115942,0.0081521739130435,0.0090579710144928,0.0072463768115942,0.0072463768115942,0.0072463768115942,0.0072463768115942,0.0072463768115942,0.0072463768115942],\"x\":[1,2,3,4,5,6,7,8,9,10,11,12,13,14,15,16,17,18,19,20]},\"column_names\":[\"y\",\"x\"],\"cont_ranges\":{},\"discrete_ranges\":{},\"selected\":[],\"id\":\"00136307-5818-4311-c301-971cdd96d679\",\"doc\":null,\"tags\":[]}},{\"id\":\"3c57f34b-ea09-4d35-cd64-fad174d995f8\",\"type\":\"Line\",\"attributes\":{\"fill_alpha\":{\"units\":\"data\",\"value\":0.2},\"line_alpha\":{\"units\":\"data\",\"value\":1},\"doc\":null,\"size\":{\"units\":\"screen\",\"value\":10},\"fill_color\":{\"value\":\"blue\"},\"line_color\":{\"value\":\"blue\"},\"x\":{\"units\":\"data\",\"field\":\"x\"},\"id\":\"3c57f34b-ea09-4d35-cd64-fad174d995f8\",\"y\":{\"units\":\"data\",\"field\":\"y\"},\"tags\":[]}},{\"id\":\"c9b86f4f-a452-4801-c88c-46466dddd2c9\",\"type\":\"Line\",\"attributes\":{\"fill_alpha\":{\"units\":\"data\",\"value\":0.2},\"line_alpha\":{\"units\":\"data\",\"value\":1},\"doc\":null,\"size\":{\"units\":\"screen\",\"value\":10},\"fill_color\":{\"value\":\"blue\"},\"line_color\":{\"value\":\"blue\"},\"x\":{\"units\":\"data\",\"field\":\"x\"},\"id\":\"c9b86f4f-a452-4801-c88c-46466dddd2c9\",\"y\":{\"units\":\"data\",\"field\":\"y\"},\"tags\":[]}},{\"id\":\"6562e781-1fb3-430c-c3b3-ab10fd3b41f7\",\"type\":\"GlyphRenderer\",\"attributes\":{\"name\":null,\"nonselection_glyph\":{\"type\":\"Line\",\"id\":\"c9b86f4f-a452-4801-c88c-46466dddd2c9\"},\"doc\":null,\"server_data_source\":null,\"data_source\":{\"type\":\"ColumnDataSource\",\"id\":\"00136307-5818-4311-c301-971cdd96d679\"},\"glyph\":{\"type\":\"Line\",\"id\":\"3c57f34b-ea09-4d35-cd64-fad174d995f8\"},\"selection_glyph\":null,\"id\":\"6562e781-1fb3-430c-c3b3-ab10fd3b41f7\",\"tags\":[]}},{\"id\":\"443f7a38-dd11-426c-c20d-9f43b95d9a83\",\"type\":\"DataRange1d\",\"attributes\":{\"sources\":[{\"columns\":[\"x\"],\"source\":{\"type\":\"ColumnDataSource\",\"id\":\"5698debd-3c25-4313-c306-5cf2fb5eaffa\"}},{\"columns\":[\"x\"],\"source\":{\"type\":\"ColumnDataSource\",\"id\":\"00136307-5818-4311-c301-971cdd96d679\"}}],\"id\":\"443f7a38-dd11-426c-c20d-9f43b95d9a83\",\"tags\":[],\"doc\":null}},{\"id\":\"d2e27a8d-bf32-4d58-cdac-dba2e19ea8a3\",\"type\":\"DataRange1d\",\"attributes\":{\"sources\":[{\"columns\":[\"y\"],\"source\":{\"type\":\"ColumnDataSource\",\"id\":\"5698debd-3c25-4313-c306-5cf2fb5eaffa\"}},{\"columns\":[\"y\"],\"source\":{\"type\":\"ColumnDataSource\",\"id\":\"00136307-5818-4311-c301-971cdd96d679\"}}],\"id\":\"d2e27a8d-bf32-4d58-cdac-dba2e19ea8a3\",\"tags\":[],\"doc\":null}},{\"id\":\"0ef47caf-7795-41ad-c196-a2b3027ca1b0\",\"type\":\"ToolEvents\",\"attributes\":{\"tags\":[],\"id\":\"0ef47caf-7795-41ad-c196-a2b3027ca1b0\",\"geometries\":[],\"doc\":null}},{\"id\":\"1d92d3d4-5525-4d56-cd77-0152a0d5f77b\",\"type\":\"BasicTickFormatter\",\"attributes\":{\"id\":\"1d92d3d4-5525-4d56-cd77-0152a0d5f77b\",\"tags\":[],\"doc\":null}},{\"id\":\"899858b3-9761-458b-c51b-561606a7d6bd\",\"type\":\"BasicTicker\",\"attributes\":{\"num_minor_ticks\":5,\"id\":\"899858b3-9761-458b-c51b-561606a7d6bd\",\"tags\":[],\"doc\":null}},{\"id\":\"2f106429-8f2e-482f-c834-f45564db2e0e\",\"type\":\"LinearAxis\",\"attributes\":{\"formatter\":{\"type\":\"BasicTickFormatter\",\"id\":\"1d92d3d4-5525-4d56-cd77-0152a0d5f77b\"},\"ticker\":{\"type\":\"BasicTicker\",\"id\":\"899858b3-9761-458b-c51b-561606a7d6bd\"},\"plot\":{\"id\":\"371a0cae-9382-4d5c-cd99-1a1cfb73c369\",\"type\":\"Plot\",\"subtype\":\"Figure\"},\"axis_label\":null,\"id\":\"2f106429-8f2e-482f-c834-f45564db2e0e\",\"doc\":null,\"tags\":[]}},{\"id\":\"d964c4d1-299c-4bb6-cba6-62a22cb65fe8\",\"type\":\"Grid\",\"attributes\":{\"dimension\":0,\"plot\":{\"id\":\"371a0cae-9382-4d5c-cd99-1a1cfb73c369\",\"type\":\"Plot\",\"subtype\":\"Figure\"},\"ticker\":{\"type\":\"BasicTicker\",\"id\":\"899858b3-9761-458b-c51b-561606a7d6bd\"},\"id\":\"d964c4d1-299c-4bb6-cba6-62a22cb65fe8\",\"doc\":null,\"tags\":[]}},{\"id\":\"4d0e69dd-6310-434e-c327-7bc11087f8fb\",\"type\":\"BasicTickFormatter\",\"attributes\":{\"id\":\"4d0e69dd-6310-434e-c327-7bc11087f8fb\",\"tags\":[],\"doc\":null}},{\"id\":\"441e3b73-27da-44e2-c4fa-b99ced77620d\",\"type\":\"BasicTicker\",\"attributes\":{\"num_minor_ticks\":5,\"id\":\"441e3b73-27da-44e2-c4fa-b99ced77620d\",\"tags\":[],\"doc\":null}},{\"id\":\"3be22d2b-af45-4e76-ce95-f7c2608aa1ef\",\"type\":\"LinearAxis\",\"attributes\":{\"formatter\":{\"type\":\"BasicTickFormatter\",\"id\":\"4d0e69dd-6310-434e-c327-7bc11087f8fb\"},\"ticker\":{\"type\":\"BasicTicker\",\"id\":\"441e3b73-27da-44e2-c4fa-b99ced77620d\"},\"plot\":{\"id\":\"371a0cae-9382-4d5c-cd99-1a1cfb73c369\",\"type\":\"Plot\",\"subtype\":\"Figure\"},\"axis_label\":null,\"id\":\"3be22d2b-af45-4e76-ce95-f7c2608aa1ef\",\"doc\":null,\"tags\":[]}},{\"id\":\"a20407e2-2912-44ff-c4fc-f2b6e6948b74\",\"type\":\"Grid\",\"attributes\":{\"dimension\":1,\"plot\":{\"id\":\"371a0cae-9382-4d5c-cd99-1a1cfb73c369\",\"type\":\"Plot\",\"subtype\":\"Figure\"},\"ticker\":{\"type\":\"BasicTicker\",\"id\":\"441e3b73-27da-44e2-c4fa-b99ced77620d\"},\"id\":\"a20407e2-2912-44ff-c4fc-f2b6e6948b74\",\"doc\":null,\"tags\":[]}},{\"id\":\"6a830d4e-6060-477f-c7a6-d516a1ff5a65\",\"type\":\"PanTool\",\"attributes\":{\"plot\":{\"id\":\"371a0cae-9382-4d5c-cd99-1a1cfb73c369\",\"type\":\"Plot\",\"subtype\":\"Figure\"},\"dimensions\":[\"width\",\"height\"],\"id\":\"6a830d4e-6060-477f-c7a6-d516a1ff5a65\",\"doc\":null,\"tags\":[]}},{\"id\":\"05d1955d-352e-4853-c8bb-e05ca68944ef\",\"type\":\"WheelZoomTool\",\"attributes\":{\"plot\":{\"id\":\"371a0cae-9382-4d5c-cd99-1a1cfb73c369\",\"type\":\"Plot\",\"subtype\":\"Figure\"},\"dimensions\":[\"width\",\"height\"],\"id\":\"05d1955d-352e-4853-c8bb-e05ca68944ef\",\"doc\":null,\"tags\":[]}},{\"id\":\"4bafdfee-1b59-481a-c80f-17c89f0fb302\",\"type\":\"BoxZoomTool\",\"attributes\":{\"plot\":{\"id\":\"371a0cae-9382-4d5c-cd99-1a1cfb73c369\",\"type\":\"Plot\",\"subtype\":\"Figure\"},\"id\":\"4bafdfee-1b59-481a-c80f-17c89f0fb302\",\"tags\":[],\"doc\":null}},{\"id\":\"7bd64513-1a3f-4227-c2c9-698de598574c\",\"type\":\"PreviewSaveTool\",\"attributes\":{\"plot\":{\"id\":\"371a0cae-9382-4d5c-cd99-1a1cfb73c369\",\"type\":\"Plot\",\"subtype\":\"Figure\"},\"id\":\"7bd64513-1a3f-4227-c2c9-698de598574c\",\"tags\":[],\"doc\":null}},{\"id\":\"b25925b6-457d-4757-c702-fcbb2e92db2c\",\"type\":\"ResizeTool\",\"attributes\":{\"plot\":{\"id\":\"371a0cae-9382-4d5c-cd99-1a1cfb73c369\",\"type\":\"Plot\",\"subtype\":\"Figure\"},\"id\":\"b25925b6-457d-4757-c702-fcbb2e92db2c\",\"tags\":[],\"doc\":null}},{\"id\":\"81186f72-3b6c-4f33-cf3e-65ba2cb28b68\",\"type\":\"ResetTool\",\"attributes\":{\"plot\":{\"id\":\"371a0cae-9382-4d5c-cd99-1a1cfb73c369\",\"type\":\"Plot\",\"subtype\":\"Figure\"},\"id\":\"81186f72-3b6c-4f33-cf3e-65ba2cb28b68\",\"tags\":[],\"doc\":null}},{\"id\":\"371a0cae-9382-4d5c-cd99-1a1cfb73c369\",\"type\":\"Plot\",\"attributes\":{\"x_range\":{\"type\":\"DataRange1d\",\"id\":\"443f7a38-dd11-426c-c20d-9f43b95d9a83\"},\"tool_events\":{\"type\":\"ToolEvents\",\"id\":\"0ef47caf-7795-41ad-c196-a2b3027ca1b0\"},\"below\":[{\"type\":\"LinearAxis\",\"id\":\"2f106429-8f2e-482f-c834-f45564db2e0e\"}],\"renderers\":[{\"type\":\"GlyphRenderer\",\"id\":\"ca6901e8-d9d5-4aec-ca7a-ae772468b281\"},{\"type\":\"GlyphRenderer\",\"id\":\"6562e781-1fb3-430c-c3b3-ab10fd3b41f7\"},{\"type\":\"LinearAxis\",\"id\":\"2f106429-8f2e-482f-c834-f45564db2e0e\"},{\"type\":\"Grid\",\"id\":\"d964c4d1-299c-4bb6-cba6-62a22cb65fe8\"},{\"type\":\"LinearAxis\",\"id\":\"3be22d2b-af45-4e76-ce95-f7c2608aa1ef\"},{\"type\":\"Grid\",\"id\":\"a20407e2-2912-44ff-c4fc-f2b6e6948b74\"}],\"above\":[],\"tools\":[{\"type\":\"PanTool\",\"id\":\"6a830d4e-6060-477f-c7a6-d516a1ff5a65\"},{\"type\":\"WheelZoomTool\",\"id\":\"05d1955d-352e-4853-c8bb-e05ca68944ef\"},{\"type\":\"BoxZoomTool\",\"id\":\"4bafdfee-1b59-481a-c80f-17c89f0fb302\"},{\"type\":\"PreviewSaveTool\",\"id\":\"7bd64513-1a3f-4227-c2c9-698de598574c\"},{\"type\":\"ResizeTool\",\"id\":\"b25925b6-457d-4757-c702-fcbb2e92db2c\"},{\"type\":\"ResetTool\",\"id\":\"81186f72-3b6c-4f33-cf3e-65ba2cb28b68\"}],\"doc\":null,\"right\":[],\"title\":\"Optimal Architecture using Simulated Annealing\",\"extra_x_ranges\":{},\"left\":[{\"type\":\"LinearAxis\",\"id\":\"3be22d2b-af45-4e76-ce95-f7c2608aa1ef\"}],\"y_range\":{\"type\":\"DataRange1d\",\"id\":\"d2e27a8d-bf32-4d58-cdac-dba2e19ea8a3\"},\"id\":\"371a0cae-9382-4d5c-cd99-1a1cfb73c369\",\"extra_y_ranges\":{},\"tags\":[]}}];\n",
       "  Bokeh.load_models(all_models);\n",
       "  var model = Bokeh.Collections(modeltype).get(modelid);\n",
       "  $(\"#aae3103d-54fc-4201-c2d6-6cafe264ba88\").html(''); // clear any previous plot in window_id\n",
       "  var view = new model.default_view({model: model, el: \"#aae3103d-54fc-4201-c2d6-6cafe264ba88\"});\n",
       "    } else {\n",
       "  load_lib(bokehjs_url, function() {\n",
       "      console.log(\"Bokeh: BokehJS plotting callback run at\", new Date())\n",
       "      var modelid = \"371a0cae-9382-4d5c-cd99-1a1cfb73c369\";\n",
       "      var modeltype = \"Plot\";\n",
       "      var all_models = [{\"id\":\"5698debd-3c25-4313-c306-5cf2fb5eaffa\",\"type\":\"ColumnDataSource\",\"attributes\":{\"data\":{\"y\":[0.0072463768115942,0.0072463768115942,0.0063405797101449,0.0063405797101449,0.0072463768115942,0.0072463768115942,0.0072463768115942,0.0072463768115942,0.0072463768115942,0.0072463768115942,0.0063405797101449,0.0072463768115942,0.0072463768115942,0.0063405797101449,0.0072463768115942,0.0063405797101449,0.0063405797101449,0.0054347826086956,0.0054347826086956,0.0045289855072463],\"x\":[1,2,3,4,5,6,7,8,9,10,11,12,13,14,15,16,17,18,19,20]},\"column_names\":[\"y\",\"x\"],\"cont_ranges\":{},\"discrete_ranges\":{},\"selected\":[],\"id\":\"5698debd-3c25-4313-c306-5cf2fb5eaffa\",\"doc\":null,\"tags\":[]}},{\"id\":\"e9af3900-b608-4ffd-cf0a-37da5dbd038c\",\"type\":\"Line\",\"attributes\":{\"fill_alpha\":{\"units\":\"data\",\"value\":0.2},\"line_alpha\":{\"units\":\"data\",\"value\":1},\"doc\":null,\"size\":{\"units\":\"screen\",\"value\":10},\"fill_color\":{\"value\":\"red\"},\"line_color\":{\"value\":\"red\"},\"x\":{\"units\":\"data\",\"field\":\"x\"},\"id\":\"e9af3900-b608-4ffd-cf0a-37da5dbd038c\",\"y\":{\"units\":\"data\",\"field\":\"y\"},\"tags\":[]}},{\"id\":\"f6ff2ba8-714c-4d35-cd13-53e807a84229\",\"type\":\"Line\",\"attributes\":{\"fill_alpha\":{\"units\":\"data\",\"value\":0.2},\"line_alpha\":{\"units\":\"data\",\"value\":1},\"doc\":null,\"size\":{\"units\":\"screen\",\"value\":10},\"fill_color\":{\"value\":\"red\"},\"line_color\":{\"value\":\"red\"},\"x\":{\"units\":\"data\",\"field\":\"x\"},\"id\":\"f6ff2ba8-714c-4d35-cd13-53e807a84229\",\"y\":{\"units\":\"data\",\"field\":\"y\"},\"tags\":[]}},{\"id\":\"ca6901e8-d9d5-4aec-ca7a-ae772468b281\",\"type\":\"GlyphRenderer\",\"attributes\":{\"name\":null,\"nonselection_glyph\":{\"type\":\"Line\",\"id\":\"f6ff2ba8-714c-4d35-cd13-53e807a84229\"},\"doc\":null,\"server_data_source\":null,\"data_source\":{\"type\":\"ColumnDataSource\",\"id\":\"5698debd-3c25-4313-c306-5cf2fb5eaffa\"},\"glyph\":{\"type\":\"Line\",\"id\":\"e9af3900-b608-4ffd-cf0a-37da5dbd038c\"},\"selection_glyph\":null,\"id\":\"ca6901e8-d9d5-4aec-ca7a-ae772468b281\",\"tags\":[]}},{\"id\":\"00136307-5818-4311-c301-971cdd96d679\",\"type\":\"ColumnDataSource\",\"attributes\":{\"data\":{\"y\":[0.028985507246377,0.023550724637681,0.032608695652174,0.027173913043478,0.032608695652174,0.030797101449275,0.028079710144928,0.021739130434783,0.027173913043478,0.0072463768115942,0.0072463768115942,0.0072463768115942,0.0081521739130435,0.0090579710144928,0.0072463768115942,0.0072463768115942,0.0072463768115942,0.0072463768115942,0.0072463768115942,0.0072463768115942],\"x\":[1,2,3,4,5,6,7,8,9,10,11,12,13,14,15,16,17,18,19,20]},\"column_names\":[\"y\",\"x\"],\"cont_ranges\":{},\"discrete_ranges\":{},\"selected\":[],\"id\":\"00136307-5818-4311-c301-971cdd96d679\",\"doc\":null,\"tags\":[]}},{\"id\":\"3c57f34b-ea09-4d35-cd64-fad174d995f8\",\"type\":\"Line\",\"attributes\":{\"fill_alpha\":{\"units\":\"data\",\"value\":0.2},\"line_alpha\":{\"units\":\"data\",\"value\":1},\"doc\":null,\"size\":{\"units\":\"screen\",\"value\":10},\"fill_color\":{\"value\":\"blue\"},\"line_color\":{\"value\":\"blue\"},\"x\":{\"units\":\"data\",\"field\":\"x\"},\"id\":\"3c57f34b-ea09-4d35-cd64-fad174d995f8\",\"y\":{\"units\":\"data\",\"field\":\"y\"},\"tags\":[]}},{\"id\":\"c9b86f4f-a452-4801-c88c-46466dddd2c9\",\"type\":\"Line\",\"attributes\":{\"fill_alpha\":{\"units\":\"data\",\"value\":0.2},\"line_alpha\":{\"units\":\"data\",\"value\":1},\"doc\":null,\"size\":{\"units\":\"screen\",\"value\":10},\"fill_color\":{\"value\":\"blue\"},\"line_color\":{\"value\":\"blue\"},\"x\":{\"units\":\"data\",\"field\":\"x\"},\"id\":\"c9b86f4f-a452-4801-c88c-46466dddd2c9\",\"y\":{\"units\":\"data\",\"field\":\"y\"},\"tags\":[]}},{\"id\":\"6562e781-1fb3-430c-c3b3-ab10fd3b41f7\",\"type\":\"GlyphRenderer\",\"attributes\":{\"name\":null,\"nonselection_glyph\":{\"type\":\"Line\",\"id\":\"c9b86f4f-a452-4801-c88c-46466dddd2c9\"},\"doc\":null,\"server_data_source\":null,\"data_source\":{\"type\":\"ColumnDataSource\",\"id\":\"00136307-5818-4311-c301-971cdd96d679\"},\"glyph\":{\"type\":\"Line\",\"id\":\"3c57f34b-ea09-4d35-cd64-fad174d995f8\"},\"selection_glyph\":null,\"id\":\"6562e781-1fb3-430c-c3b3-ab10fd3b41f7\",\"tags\":[]}},{\"id\":\"443f7a38-dd11-426c-c20d-9f43b95d9a83\",\"type\":\"DataRange1d\",\"attributes\":{\"sources\":[{\"columns\":[\"x\"],\"source\":{\"type\":\"ColumnDataSource\",\"id\":\"5698debd-3c25-4313-c306-5cf2fb5eaffa\"}},{\"columns\":[\"x\"],\"source\":{\"type\":\"ColumnDataSource\",\"id\":\"00136307-5818-4311-c301-971cdd96d679\"}}],\"id\":\"443f7a38-dd11-426c-c20d-9f43b95d9a83\",\"tags\":[],\"doc\":null}},{\"id\":\"d2e27a8d-bf32-4d58-cdac-dba2e19ea8a3\",\"type\":\"DataRange1d\",\"attributes\":{\"sources\":[{\"columns\":[\"y\"],\"source\":{\"type\":\"ColumnDataSource\",\"id\":\"5698debd-3c25-4313-c306-5cf2fb5eaffa\"}},{\"columns\":[\"y\"],\"source\":{\"type\":\"ColumnDataSource\",\"id\":\"00136307-5818-4311-c301-971cdd96d679\"}}],\"id\":\"d2e27a8d-bf32-4d58-cdac-dba2e19ea8a3\",\"tags\":[],\"doc\":null}},{\"id\":\"0ef47caf-7795-41ad-c196-a2b3027ca1b0\",\"type\":\"ToolEvents\",\"attributes\":{\"tags\":[],\"id\":\"0ef47caf-7795-41ad-c196-a2b3027ca1b0\",\"geometries\":[],\"doc\":null}},{\"id\":\"1d92d3d4-5525-4d56-cd77-0152a0d5f77b\",\"type\":\"BasicTickFormatter\",\"attributes\":{\"id\":\"1d92d3d4-5525-4d56-cd77-0152a0d5f77b\",\"tags\":[],\"doc\":null}},{\"id\":\"899858b3-9761-458b-c51b-561606a7d6bd\",\"type\":\"BasicTicker\",\"attributes\":{\"num_minor_ticks\":5,\"id\":\"899858b3-9761-458b-c51b-561606a7d6bd\",\"tags\":[],\"doc\":null}},{\"id\":\"2f106429-8f2e-482f-c834-f45564db2e0e\",\"type\":\"LinearAxis\",\"attributes\":{\"formatter\":{\"type\":\"BasicTickFormatter\",\"id\":\"1d92d3d4-5525-4d56-cd77-0152a0d5f77b\"},\"ticker\":{\"type\":\"BasicTicker\",\"id\":\"899858b3-9761-458b-c51b-561606a7d6bd\"},\"plot\":{\"id\":\"371a0cae-9382-4d5c-cd99-1a1cfb73c369\",\"type\":\"Plot\",\"subtype\":\"Figure\"},\"axis_label\":null,\"id\":\"2f106429-8f2e-482f-c834-f45564db2e0e\",\"doc\":null,\"tags\":[]}},{\"id\":\"d964c4d1-299c-4bb6-cba6-62a22cb65fe8\",\"type\":\"Grid\",\"attributes\":{\"dimension\":0,\"plot\":{\"id\":\"371a0cae-9382-4d5c-cd99-1a1cfb73c369\",\"type\":\"Plot\",\"subtype\":\"Figure\"},\"ticker\":{\"type\":\"BasicTicker\",\"id\":\"899858b3-9761-458b-c51b-561606a7d6bd\"},\"id\":\"d964c4d1-299c-4bb6-cba6-62a22cb65fe8\",\"doc\":null,\"tags\":[]}},{\"id\":\"4d0e69dd-6310-434e-c327-7bc11087f8fb\",\"type\":\"BasicTickFormatter\",\"attributes\":{\"id\":\"4d0e69dd-6310-434e-c327-7bc11087f8fb\",\"tags\":[],\"doc\":null}},{\"id\":\"441e3b73-27da-44e2-c4fa-b99ced77620d\",\"type\":\"BasicTicker\",\"attributes\":{\"num_minor_ticks\":5,\"id\":\"441e3b73-27da-44e2-c4fa-b99ced77620d\",\"tags\":[],\"doc\":null}},{\"id\":\"3be22d2b-af45-4e76-ce95-f7c2608aa1ef\",\"type\":\"LinearAxis\",\"attributes\":{\"formatter\":{\"type\":\"BasicTickFormatter\",\"id\":\"4d0e69dd-6310-434e-c327-7bc11087f8fb\"},\"ticker\":{\"type\":\"BasicTicker\",\"id\":\"441e3b73-27da-44e2-c4fa-b99ced77620d\"},\"plot\":{\"id\":\"371a0cae-9382-4d5c-cd99-1a1cfb73c369\",\"type\":\"Plot\",\"subtype\":\"Figure\"},\"axis_label\":null,\"id\":\"3be22d2b-af45-4e76-ce95-f7c2608aa1ef\",\"doc\":null,\"tags\":[]}},{\"id\":\"a20407e2-2912-44ff-c4fc-f2b6e6948b74\",\"type\":\"Grid\",\"attributes\":{\"dimension\":1,\"plot\":{\"id\":\"371a0cae-9382-4d5c-cd99-1a1cfb73c369\",\"type\":\"Plot\",\"subtype\":\"Figure\"},\"ticker\":{\"type\":\"BasicTicker\",\"id\":\"441e3b73-27da-44e2-c4fa-b99ced77620d\"},\"id\":\"a20407e2-2912-44ff-c4fc-f2b6e6948b74\",\"doc\":null,\"tags\":[]}},{\"id\":\"6a830d4e-6060-477f-c7a6-d516a1ff5a65\",\"type\":\"PanTool\",\"attributes\":{\"plot\":{\"id\":\"371a0cae-9382-4d5c-cd99-1a1cfb73c369\",\"type\":\"Plot\",\"subtype\":\"Figure\"},\"dimensions\":[\"width\",\"height\"],\"id\":\"6a830d4e-6060-477f-c7a6-d516a1ff5a65\",\"doc\":null,\"tags\":[]}},{\"id\":\"05d1955d-352e-4853-c8bb-e05ca68944ef\",\"type\":\"WheelZoomTool\",\"attributes\":{\"plot\":{\"id\":\"371a0cae-9382-4d5c-cd99-1a1cfb73c369\",\"type\":\"Plot\",\"subtype\":\"Figure\"},\"dimensions\":[\"width\",\"height\"],\"id\":\"05d1955d-352e-4853-c8bb-e05ca68944ef\",\"doc\":null,\"tags\":[]}},{\"id\":\"4bafdfee-1b59-481a-c80f-17c89f0fb302\",\"type\":\"BoxZoomTool\",\"attributes\":{\"plot\":{\"id\":\"371a0cae-9382-4d5c-cd99-1a1cfb73c369\",\"type\":\"Plot\",\"subtype\":\"Figure\"},\"id\":\"4bafdfee-1b59-481a-c80f-17c89f0fb302\",\"tags\":[],\"doc\":null}},{\"id\":\"7bd64513-1a3f-4227-c2c9-698de598574c\",\"type\":\"PreviewSaveTool\",\"attributes\":{\"plot\":{\"id\":\"371a0cae-9382-4d5c-cd99-1a1cfb73c369\",\"type\":\"Plot\",\"subtype\":\"Figure\"},\"id\":\"7bd64513-1a3f-4227-c2c9-698de598574c\",\"tags\":[],\"doc\":null}},{\"id\":\"b25925b6-457d-4757-c702-fcbb2e92db2c\",\"type\":\"ResizeTool\",\"attributes\":{\"plot\":{\"id\":\"371a0cae-9382-4d5c-cd99-1a1cfb73c369\",\"type\":\"Plot\",\"subtype\":\"Figure\"},\"id\":\"b25925b6-457d-4757-c702-fcbb2e92db2c\",\"tags\":[],\"doc\":null}},{\"id\":\"81186f72-3b6c-4f33-cf3e-65ba2cb28b68\",\"type\":\"ResetTool\",\"attributes\":{\"plot\":{\"id\":\"371a0cae-9382-4d5c-cd99-1a1cfb73c369\",\"type\":\"Plot\",\"subtype\":\"Figure\"},\"id\":\"81186f72-3b6c-4f33-cf3e-65ba2cb28b68\",\"tags\":[],\"doc\":null}},{\"id\":\"371a0cae-9382-4d5c-cd99-1a1cfb73c369\",\"type\":\"Plot\",\"attributes\":{\"x_range\":{\"type\":\"DataRange1d\",\"id\":\"443f7a38-dd11-426c-c20d-9f43b95d9a83\"},\"tool_events\":{\"type\":\"ToolEvents\",\"id\":\"0ef47caf-7795-41ad-c196-a2b3027ca1b0\"},\"below\":[{\"type\":\"LinearAxis\",\"id\":\"2f106429-8f2e-482f-c834-f45564db2e0e\"}],\"renderers\":[{\"type\":\"GlyphRenderer\",\"id\":\"ca6901e8-d9d5-4aec-ca7a-ae772468b281\"},{\"type\":\"GlyphRenderer\",\"id\":\"6562e781-1fb3-430c-c3b3-ab10fd3b41f7\"},{\"type\":\"LinearAxis\",\"id\":\"2f106429-8f2e-482f-c834-f45564db2e0e\"},{\"type\":\"Grid\",\"id\":\"d964c4d1-299c-4bb6-cba6-62a22cb65fe8\"},{\"type\":\"LinearAxis\",\"id\":\"3be22d2b-af45-4e76-ce95-f7c2608aa1ef\"},{\"type\":\"Grid\",\"id\":\"a20407e2-2912-44ff-c4fc-f2b6e6948b74\"}],\"above\":[],\"tools\":[{\"type\":\"PanTool\",\"id\":\"6a830d4e-6060-477f-c7a6-d516a1ff5a65\"},{\"type\":\"WheelZoomTool\",\"id\":\"05d1955d-352e-4853-c8bb-e05ca68944ef\"},{\"type\":\"BoxZoomTool\",\"id\":\"4bafdfee-1b59-481a-c80f-17c89f0fb302\"},{\"type\":\"PreviewSaveTool\",\"id\":\"7bd64513-1a3f-4227-c2c9-698de598574c\"},{\"type\":\"ResizeTool\",\"id\":\"b25925b6-457d-4757-c702-fcbb2e92db2c\"},{\"type\":\"ResetTool\",\"id\":\"81186f72-3b6c-4f33-cf3e-65ba2cb28b68\"}],\"doc\":null,\"right\":[],\"title\":\"Optimal Architecture using Simulated Annealing\",\"extra_x_ranges\":{},\"left\":[{\"type\":\"LinearAxis\",\"id\":\"3be22d2b-af45-4e76-ce95-f7c2608aa1ef\"}],\"y_range\":{\"type\":\"DataRange1d\",\"id\":\"d2e27a8d-bf32-4d58-cdac-dba2e19ea8a3\"},\"id\":\"371a0cae-9382-4d5c-cd99-1a1cfb73c369\",\"extra_y_ranges\":{},\"tags\":[]}}];\n",
       "      Bokeh.load_models(all_models);\n",
       "      var model = Bokeh.Collections(modeltype).get(modelid);\n",
       "      $(\"#aae3103d-54fc-4201-c2d6-6cafe264ba88\").html(''); // clear any previous plot in window_id\n",
       "      var view = new model.default_view({model: model, el: \"#aae3103d-54fc-4201-c2d6-6cafe264ba88\"});\n",
       "  });\n",
       "    }\n",
       "});\n",
       "</script>\n",
       "<div class=\"plotdiv\" id=\"100f0fd3-0400-443f-c4b5-11c8153a2090\"></div>\n"
      ]
     },
     "metadata": {},
     "output_type": "display_data"
    },
    {
     "data": {
      "text/html": [
       "<script type=\"text/javascript\">\n",
       "$(function() {\n",
       "    if (typeof (window._bokeh_onload_callbacks) === \"undefined\"){\n",
       "  window._bokeh_onload_callbacks = [];\n",
       "    }\n",
       "    function load_lib(url, callback){\n",
       "  window._bokeh_onload_callbacks.push(callback);\n",
       "  if (window._bokeh_is_loading){\n",
       "      console.log(\"Bokeh: BokehJS is being loaded, scheduling callback at\", new Date());\n",
       "      return null;\n",
       "  }\n",
       "  console.log(\"Bokeh: BokehJS not loaded, scheduling load and callback at\", new Date());\n",
       "  window._bokeh_is_loading = true;\n",
       "  var s = document.createElement('script');\n",
       "  s.src = url;\n",
       "  s.async = true;\n",
       "  s.onreadystatechange = s.onload = function(){\n",
       "      Bokeh.embed.inject_css(\"https://cdn.pydata.org/bokeh-0.7.0.min.css\");\n",
       "      window._bokeh_onload_callbacks.forEach(function(callback){callback()});\n",
       "  };\n",
       "  s.onerror = function(){\n",
       "      console.warn(\"failed to load library \" + url);\n",
       "  };\n",
       "  document.getElementsByTagName(\"head\")[0].appendChild(s);\n",
       "    }\n",
       "\n",
       "    bokehjs_url = \"https://cdn.pydata.org/bokeh-0.7.0.min.js\"\n",
       "\n",
       "    var elt = document.getElementById(\"aae3103d-54fc-4201-c2d6-6cafe264ba88\");\n",
       "    if(elt==null) {\n",
       "  console.log(\"Bokeh: ERROR: autoload.js configured with elementid 'aae3103d-54fc-4201-c2d6-6cafe264ba88'\"\n",
       "        + \"but no matching script tag was found. \")\n",
       "  return false;\n",
       "    }\n",
       "\n",
       "    if(typeof(Bokeh) !== \"undefined\") {\n",
       "  console.log(\"Bokeh: BokehJS loaded, going straight to plotting\");\n",
       "  var modelid = \"03185f28-f7bf-49a3-c928-2b3c1767afd2\";\n",
       "  var modeltype = \"Plot\";\n",
       "  var all_models = [{\"id\":\"07f65fef-69ee-4531-c516-54a09e75a2ce\",\"type\":\"ColumnDataSource\",\"attributes\":{\"data\":{\"y\":[0.0072463768115942,0.0072463768115942,0.0063405797101449,0.0063405797101449,0.0072463768115942,0.0072463768115942,0.0072463768115942,0.0072463768115942,0.0072463768115942,0.0072463768115942,0.0063405797101449,0.0072463768115942,0.0072463768115942,0.0063405797101449,0.0072463768115942,0.0063405797101449,0.0063405797101449,0.0054347826086956,0.0054347826086956,0.0045289855072463],\"x\":[1,2,3,4,5,6,7,8,9,10,11,12,13,14,15,16,17,18,19,20]},\"column_names\":[\"y\",\"x\"],\"cont_ranges\":{},\"discrete_ranges\":{},\"selected\":[],\"id\":\"07f65fef-69ee-4531-c516-54a09e75a2ce\",\"doc\":null,\"tags\":[]}},{\"id\":\"4f98354f-97bd-47ea-c7a8-1d2f5ff45885\",\"type\":\"Line\",\"attributes\":{\"fill_alpha\":{\"units\":\"data\",\"value\":0.2},\"line_alpha\":{\"units\":\"data\",\"value\":1},\"doc\":null,\"size\":{\"units\":\"screen\",\"value\":10},\"fill_color\":{\"value\":\"red\"},\"line_color\":{\"value\":\"red\"},\"x\":{\"units\":\"data\",\"field\":\"x\"},\"id\":\"4f98354f-97bd-47ea-c7a8-1d2f5ff45885\",\"y\":{\"units\":\"data\",\"field\":\"y\"},\"tags\":[]}},{\"id\":\"a1a80f52-c76e-4d86-cd2c-fc3a799eab50\",\"type\":\"Line\",\"attributes\":{\"fill_alpha\":{\"units\":\"data\",\"value\":0.2},\"line_alpha\":{\"units\":\"data\",\"value\":1},\"doc\":null,\"size\":{\"units\":\"screen\",\"value\":10},\"fill_color\":{\"value\":\"red\"},\"line_color\":{\"value\":\"red\"},\"x\":{\"units\":\"data\",\"field\":\"x\"},\"id\":\"a1a80f52-c76e-4d86-cd2c-fc3a799eab50\",\"y\":{\"units\":\"data\",\"field\":\"y\"},\"tags\":[]}},{\"id\":\"5dbfdc04-0918-4427-c454-4c2e6e1c0dfb\",\"type\":\"GlyphRenderer\",\"attributes\":{\"name\":null,\"nonselection_glyph\":{\"type\":\"Line\",\"id\":\"a1a80f52-c76e-4d86-cd2c-fc3a799eab50\"},\"doc\":null,\"server_data_source\":null,\"data_source\":{\"type\":\"ColumnDataSource\",\"id\":\"07f65fef-69ee-4531-c516-54a09e75a2ce\"},\"glyph\":{\"type\":\"Line\",\"id\":\"4f98354f-97bd-47ea-c7a8-1d2f5ff45885\"},\"selection_glyph\":null,\"id\":\"5dbfdc04-0918-4427-c454-4c2e6e1c0dfb\",\"tags\":[]}},{\"id\":\"fb7e3a19-25ac-4741-c794-c15d8b14bcaf\",\"type\":\"ColumnDataSource\",\"attributes\":{\"data\":{\"y\":[0.028985507246377,0.023550724637681,0.032608695652174,0.027173913043478,0.032608695652174,0.030797101449275,0.028079710144928,0.021739130434783,0.027173913043478,0.0072463768115942,0.0072463768115942,0.0072463768115942,0.0081521739130435,0.0090579710144928,0.0072463768115942,0.0072463768115942,0.0072463768115942,0.0072463768115942,0.0072463768115942,0.0072463768115942],\"x\":[1,2,3,4,5,6,7,8,9,10,11,12,13,14,15,16,17,18,19,20]},\"column_names\":[\"y\",\"x\"],\"cont_ranges\":{},\"discrete_ranges\":{},\"selected\":[],\"id\":\"fb7e3a19-25ac-4741-c794-c15d8b14bcaf\",\"doc\":null,\"tags\":[]}},{\"id\":\"01a3f410-55b6-494c-c990-123e87a410a7\",\"type\":\"Line\",\"attributes\":{\"fill_alpha\":{\"units\":\"data\",\"value\":0.2},\"line_alpha\":{\"units\":\"data\",\"value\":1},\"doc\":null,\"size\":{\"units\":\"screen\",\"value\":10},\"fill_color\":{\"value\":\"blue\"},\"line_color\":{\"value\":\"blue\"},\"x\":{\"units\":\"data\",\"field\":\"x\"},\"id\":\"01a3f410-55b6-494c-c990-123e87a410a7\",\"y\":{\"units\":\"data\",\"field\":\"y\"},\"tags\":[]}},{\"id\":\"b924b6b5-8340-4f32-cfe5-0abbc041097a\",\"type\":\"Line\",\"attributes\":{\"fill_alpha\":{\"units\":\"data\",\"value\":0.2},\"line_alpha\":{\"units\":\"data\",\"value\":1},\"doc\":null,\"size\":{\"units\":\"screen\",\"value\":10},\"fill_color\":{\"value\":\"blue\"},\"line_color\":{\"value\":\"blue\"},\"x\":{\"units\":\"data\",\"field\":\"x\"},\"id\":\"b924b6b5-8340-4f32-cfe5-0abbc041097a\",\"y\":{\"units\":\"data\",\"field\":\"y\"},\"tags\":[]}},{\"id\":\"8f0eff4b-0541-41aa-c1c8-1514ea0db939\",\"type\":\"GlyphRenderer\",\"attributes\":{\"name\":null,\"nonselection_glyph\":{\"type\":\"Line\",\"id\":\"b924b6b5-8340-4f32-cfe5-0abbc041097a\"},\"doc\":null,\"server_data_source\":null,\"data_source\":{\"type\":\"ColumnDataSource\",\"id\":\"fb7e3a19-25ac-4741-c794-c15d8b14bcaf\"},\"glyph\":{\"type\":\"Line\",\"id\":\"01a3f410-55b6-494c-c990-123e87a410a7\"},\"selection_glyph\":null,\"id\":\"8f0eff4b-0541-41aa-c1c8-1514ea0db939\",\"tags\":[]}},{\"id\":\"cc00c750-3fa1-47eb-c79b-68e4a535e00e\",\"type\":\"DataRange1d\",\"attributes\":{\"sources\":[{\"columns\":[\"x\"],\"source\":{\"type\":\"ColumnDataSource\",\"id\":\"07f65fef-69ee-4531-c516-54a09e75a2ce\"}},{\"columns\":[\"x\"],\"source\":{\"type\":\"ColumnDataSource\",\"id\":\"fb7e3a19-25ac-4741-c794-c15d8b14bcaf\"}}],\"id\":\"cc00c750-3fa1-47eb-c79b-68e4a535e00e\",\"tags\":[],\"doc\":null}},{\"id\":\"421437f2-994e-48f1-c874-79082941e5fe\",\"type\":\"DataRange1d\",\"attributes\":{\"sources\":[{\"columns\":[\"y\"],\"source\":{\"type\":\"ColumnDataSource\",\"id\":\"07f65fef-69ee-4531-c516-54a09e75a2ce\"}},{\"columns\":[\"y\"],\"source\":{\"type\":\"ColumnDataSource\",\"id\":\"fb7e3a19-25ac-4741-c794-c15d8b14bcaf\"}}],\"id\":\"421437f2-994e-48f1-c874-79082941e5fe\",\"tags\":[],\"doc\":null}},{\"id\":\"a5acce5c-960f-40a5-c018-e937ac782efc\",\"type\":\"ToolEvents\",\"attributes\":{\"tags\":[],\"id\":\"a5acce5c-960f-40a5-c018-e937ac782efc\",\"geometries\":[],\"doc\":null}},{\"id\":\"34d062d0-8e4a-404f-c021-12a04426857f\",\"type\":\"BasicTickFormatter\",\"attributes\":{\"id\":\"34d062d0-8e4a-404f-c021-12a04426857f\",\"tags\":[],\"doc\":null}},{\"id\":\"6605c7db-12d8-4ea4-ce6d-1e1cf70593e2\",\"type\":\"BasicTicker\",\"attributes\":{\"num_minor_ticks\":5,\"id\":\"6605c7db-12d8-4ea4-ce6d-1e1cf70593e2\",\"tags\":[],\"doc\":null}},{\"id\":\"b2228a85-a516-4416-c421-38dc3c5779e6\",\"type\":\"LinearAxis\",\"attributes\":{\"formatter\":{\"type\":\"BasicTickFormatter\",\"id\":\"34d062d0-8e4a-404f-c021-12a04426857f\"},\"ticker\":{\"type\":\"BasicTicker\",\"id\":\"6605c7db-12d8-4ea4-ce6d-1e1cf70593e2\"},\"plot\":{\"id\":\"03185f28-f7bf-49a3-c928-2b3c1767afd2\",\"type\":\"Plot\",\"subtype\":\"Figure\"},\"axis_label\":\"Iteration\",\"id\":\"b2228a85-a516-4416-c421-38dc3c5779e6\",\"doc\":null,\"tags\":[]}},{\"id\":\"3ca99f7b-b008-404f-c022-04333f608d59\",\"type\":\"Grid\",\"attributes\":{\"dimension\":0,\"plot\":{\"id\":\"03185f28-f7bf-49a3-c928-2b3c1767afd2\",\"type\":\"Plot\",\"subtype\":\"Figure\"},\"ticker\":{\"type\":\"BasicTicker\",\"id\":\"6605c7db-12d8-4ea4-ce6d-1e1cf70593e2\"},\"id\":\"3ca99f7b-b008-404f-c022-04333f608d59\",\"doc\":null,\"tags\":[]}},{\"id\":\"473fa539-6764-4b55-cb3c-9e6c25ead951\",\"type\":\"BasicTickFormatter\",\"attributes\":{\"id\":\"473fa539-6764-4b55-cb3c-9e6c25ead951\",\"tags\":[],\"doc\":null}},{\"id\":\"50543c5f-21e2-4a6c-cac7-cf43a72dcfdd\",\"type\":\"BasicTicker\",\"attributes\":{\"num_minor_ticks\":5,\"id\":\"50543c5f-21e2-4a6c-cac7-cf43a72dcfdd\",\"tags\":[],\"doc\":null}},{\"id\":\"c6cb9060-7317-47fd-c7f5-5e91995a6e5b\",\"type\":\"LinearAxis\",\"attributes\":{\"formatter\":{\"type\":\"BasicTickFormatter\",\"id\":\"473fa539-6764-4b55-cb3c-9e6c25ead951\"},\"ticker\":{\"type\":\"BasicTicker\",\"id\":\"50543c5f-21e2-4a6c-cac7-cf43a72dcfdd\"},\"plot\":{\"id\":\"03185f28-f7bf-49a3-c928-2b3c1767afd2\",\"type\":\"Plot\",\"subtype\":\"Figure\"},\"axis_label\":\"1-accuracy\",\"id\":\"c6cb9060-7317-47fd-c7f5-5e91995a6e5b\",\"doc\":null,\"tags\":[]}},{\"id\":\"c64367f2-f650-4e91-ce22-bfc8d0c73400\",\"type\":\"Grid\",\"attributes\":{\"dimension\":1,\"plot\":{\"id\":\"03185f28-f7bf-49a3-c928-2b3c1767afd2\",\"type\":\"Plot\",\"subtype\":\"Figure\"},\"ticker\":{\"type\":\"BasicTicker\",\"id\":\"50543c5f-21e2-4a6c-cac7-cf43a72dcfdd\"},\"id\":\"c64367f2-f650-4e91-ce22-bfc8d0c73400\",\"doc\":null,\"tags\":[]}},{\"id\":\"df7f51c9-5237-4d6a-cd33-06e5833cc870\",\"type\":\"PanTool\",\"attributes\":{\"plot\":{\"id\":\"03185f28-f7bf-49a3-c928-2b3c1767afd2\",\"type\":\"Plot\",\"subtype\":\"Figure\"},\"dimensions\":[\"width\",\"height\"],\"id\":\"df7f51c9-5237-4d6a-cd33-06e5833cc870\",\"doc\":null,\"tags\":[]}},{\"id\":\"97b798ab-7adc-4308-c340-62534dd2825a\",\"type\":\"WheelZoomTool\",\"attributes\":{\"plot\":{\"id\":\"03185f28-f7bf-49a3-c928-2b3c1767afd2\",\"type\":\"Plot\",\"subtype\":\"Figure\"},\"dimensions\":[\"width\",\"height\"],\"id\":\"97b798ab-7adc-4308-c340-62534dd2825a\",\"doc\":null,\"tags\":[]}},{\"id\":\"12fbf61b-676c-4a19-ca14-249767ff5a2f\",\"type\":\"BoxZoomTool\",\"attributes\":{\"plot\":{\"id\":\"03185f28-f7bf-49a3-c928-2b3c1767afd2\",\"type\":\"Plot\",\"subtype\":\"Figure\"},\"id\":\"12fbf61b-676c-4a19-ca14-249767ff5a2f\",\"tags\":[],\"doc\":null}},{\"id\":\"ce602a60-2197-4227-c256-5020ea3a3400\",\"type\":\"PreviewSaveTool\",\"attributes\":{\"plot\":{\"id\":\"03185f28-f7bf-49a3-c928-2b3c1767afd2\",\"type\":\"Plot\",\"subtype\":\"Figure\"},\"id\":\"ce602a60-2197-4227-c256-5020ea3a3400\",\"tags\":[],\"doc\":null}},{\"id\":\"6e5842fd-52b2-40ba-c0db-99ac8a62f42f\",\"type\":\"ResizeTool\",\"attributes\":{\"plot\":{\"id\":\"03185f28-f7bf-49a3-c928-2b3c1767afd2\",\"type\":\"Plot\",\"subtype\":\"Figure\"},\"id\":\"6e5842fd-52b2-40ba-c0db-99ac8a62f42f\",\"tags\":[],\"doc\":null}},{\"id\":\"51cbc304-9760-4ac9-ca9d-4254ed53e0a8\",\"type\":\"ResetTool\",\"attributes\":{\"plot\":{\"id\":\"03185f28-f7bf-49a3-c928-2b3c1767afd2\",\"type\":\"Plot\",\"subtype\":\"Figure\"},\"id\":\"51cbc304-9760-4ac9-ca9d-4254ed53e0a8\",\"tags\":[],\"doc\":null}},{\"id\":\"03185f28-f7bf-49a3-c928-2b3c1767afd2\",\"type\":\"Plot\",\"attributes\":{\"x_range\":{\"type\":\"DataRange1d\",\"id\":\"cc00c750-3fa1-47eb-c79b-68e4a535e00e\"},\"tool_events\":{\"type\":\"ToolEvents\",\"id\":\"a5acce5c-960f-40a5-c018-e937ac782efc\"},\"below\":[{\"type\":\"LinearAxis\",\"id\":\"b2228a85-a516-4416-c421-38dc3c5779e6\"}],\"renderers\":[{\"type\":\"GlyphRenderer\",\"id\":\"5dbfdc04-0918-4427-c454-4c2e6e1c0dfb\"},{\"type\":\"GlyphRenderer\",\"id\":\"8f0eff4b-0541-41aa-c1c8-1514ea0db939\"},{\"type\":\"LinearAxis\",\"id\":\"b2228a85-a516-4416-c421-38dc3c5779e6\"},{\"type\":\"Grid\",\"id\":\"3ca99f7b-b008-404f-c022-04333f608d59\"},{\"type\":\"LinearAxis\",\"id\":\"c6cb9060-7317-47fd-c7f5-5e91995a6e5b\"},{\"type\":\"Grid\",\"id\":\"c64367f2-f650-4e91-ce22-bfc8d0c73400\"}],\"above\":[],\"tools\":[{\"type\":\"PanTool\",\"id\":\"df7f51c9-5237-4d6a-cd33-06e5833cc870\"},{\"type\":\"WheelZoomTool\",\"id\":\"97b798ab-7adc-4308-c340-62534dd2825a\"},{\"type\":\"BoxZoomTool\",\"id\":\"12fbf61b-676c-4a19-ca14-249767ff5a2f\"},{\"type\":\"PreviewSaveTool\",\"id\":\"ce602a60-2197-4227-c256-5020ea3a3400\"},{\"type\":\"ResizeTool\",\"id\":\"6e5842fd-52b2-40ba-c0db-99ac8a62f42f\"},{\"type\":\"ResetTool\",\"id\":\"51cbc304-9760-4ac9-ca9d-4254ed53e0a8\"}],\"doc\":null,\"right\":[],\"title\":\"Optimal Architecture using Simulated Annealing\",\"extra_x_ranges\":{},\"left\":[{\"type\":\"LinearAxis\",\"id\":\"c6cb9060-7317-47fd-c7f5-5e91995a6e5b\"}],\"y_range\":{\"type\":\"DataRange1d\",\"id\":\"421437f2-994e-48f1-c874-79082941e5fe\"},\"id\":\"03185f28-f7bf-49a3-c928-2b3c1767afd2\",\"extra_y_ranges\":{},\"tags\":[]}}];\n",
       "  Bokeh.load_models(all_models);\n",
       "  var model = Bokeh.Collections(modeltype).get(modelid);\n",
       "  $(\"#aae3103d-54fc-4201-c2d6-6cafe264ba88\").html(''); // clear any previous plot in window_id\n",
       "  var view = new model.default_view({model: model, el: \"#aae3103d-54fc-4201-c2d6-6cafe264ba88\"});\n",
       "    } else {\n",
       "  load_lib(bokehjs_url, function() {\n",
       "      console.log(\"Bokeh: BokehJS plotting callback run at\", new Date())\n",
       "      var modelid = \"03185f28-f7bf-49a3-c928-2b3c1767afd2\";\n",
       "      var modeltype = \"Plot\";\n",
       "      var all_models = [{\"id\":\"07f65fef-69ee-4531-c516-54a09e75a2ce\",\"type\":\"ColumnDataSource\",\"attributes\":{\"data\":{\"y\":[0.0072463768115942,0.0072463768115942,0.0063405797101449,0.0063405797101449,0.0072463768115942,0.0072463768115942,0.0072463768115942,0.0072463768115942,0.0072463768115942,0.0072463768115942,0.0063405797101449,0.0072463768115942,0.0072463768115942,0.0063405797101449,0.0072463768115942,0.0063405797101449,0.0063405797101449,0.0054347826086956,0.0054347826086956,0.0045289855072463],\"x\":[1,2,3,4,5,6,7,8,9,10,11,12,13,14,15,16,17,18,19,20]},\"column_names\":[\"y\",\"x\"],\"cont_ranges\":{},\"discrete_ranges\":{},\"selected\":[],\"id\":\"07f65fef-69ee-4531-c516-54a09e75a2ce\",\"doc\":null,\"tags\":[]}},{\"id\":\"4f98354f-97bd-47ea-c7a8-1d2f5ff45885\",\"type\":\"Line\",\"attributes\":{\"fill_alpha\":{\"units\":\"data\",\"value\":0.2},\"line_alpha\":{\"units\":\"data\",\"value\":1},\"doc\":null,\"size\":{\"units\":\"screen\",\"value\":10},\"fill_color\":{\"value\":\"red\"},\"line_color\":{\"value\":\"red\"},\"x\":{\"units\":\"data\",\"field\":\"x\"},\"id\":\"4f98354f-97bd-47ea-c7a8-1d2f5ff45885\",\"y\":{\"units\":\"data\",\"field\":\"y\"},\"tags\":[]}},{\"id\":\"a1a80f52-c76e-4d86-cd2c-fc3a799eab50\",\"type\":\"Line\",\"attributes\":{\"fill_alpha\":{\"units\":\"data\",\"value\":0.2},\"line_alpha\":{\"units\":\"data\",\"value\":1},\"doc\":null,\"size\":{\"units\":\"screen\",\"value\":10},\"fill_color\":{\"value\":\"red\"},\"line_color\":{\"value\":\"red\"},\"x\":{\"units\":\"data\",\"field\":\"x\"},\"id\":\"a1a80f52-c76e-4d86-cd2c-fc3a799eab50\",\"y\":{\"units\":\"data\",\"field\":\"y\"},\"tags\":[]}},{\"id\":\"5dbfdc04-0918-4427-c454-4c2e6e1c0dfb\",\"type\":\"GlyphRenderer\",\"attributes\":{\"name\":null,\"nonselection_glyph\":{\"type\":\"Line\",\"id\":\"a1a80f52-c76e-4d86-cd2c-fc3a799eab50\"},\"doc\":null,\"server_data_source\":null,\"data_source\":{\"type\":\"ColumnDataSource\",\"id\":\"07f65fef-69ee-4531-c516-54a09e75a2ce\"},\"glyph\":{\"type\":\"Line\",\"id\":\"4f98354f-97bd-47ea-c7a8-1d2f5ff45885\"},\"selection_glyph\":null,\"id\":\"5dbfdc04-0918-4427-c454-4c2e6e1c0dfb\",\"tags\":[]}},{\"id\":\"fb7e3a19-25ac-4741-c794-c15d8b14bcaf\",\"type\":\"ColumnDataSource\",\"attributes\":{\"data\":{\"y\":[0.028985507246377,0.023550724637681,0.032608695652174,0.027173913043478,0.032608695652174,0.030797101449275,0.028079710144928,0.021739130434783,0.027173913043478,0.0072463768115942,0.0072463768115942,0.0072463768115942,0.0081521739130435,0.0090579710144928,0.0072463768115942,0.0072463768115942,0.0072463768115942,0.0072463768115942,0.0072463768115942,0.0072463768115942],\"x\":[1,2,3,4,5,6,7,8,9,10,11,12,13,14,15,16,17,18,19,20]},\"column_names\":[\"y\",\"x\"],\"cont_ranges\":{},\"discrete_ranges\":{},\"selected\":[],\"id\":\"fb7e3a19-25ac-4741-c794-c15d8b14bcaf\",\"doc\":null,\"tags\":[]}},{\"id\":\"01a3f410-55b6-494c-c990-123e87a410a7\",\"type\":\"Line\",\"attributes\":{\"fill_alpha\":{\"units\":\"data\",\"value\":0.2},\"line_alpha\":{\"units\":\"data\",\"value\":1},\"doc\":null,\"size\":{\"units\":\"screen\",\"value\":10},\"fill_color\":{\"value\":\"blue\"},\"line_color\":{\"value\":\"blue\"},\"x\":{\"units\":\"data\",\"field\":\"x\"},\"id\":\"01a3f410-55b6-494c-c990-123e87a410a7\",\"y\":{\"units\":\"data\",\"field\":\"y\"},\"tags\":[]}},{\"id\":\"b924b6b5-8340-4f32-cfe5-0abbc041097a\",\"type\":\"Line\",\"attributes\":{\"fill_alpha\":{\"units\":\"data\",\"value\":0.2},\"line_alpha\":{\"units\":\"data\",\"value\":1},\"doc\":null,\"size\":{\"units\":\"screen\",\"value\":10},\"fill_color\":{\"value\":\"blue\"},\"line_color\":{\"value\":\"blue\"},\"x\":{\"units\":\"data\",\"field\":\"x\"},\"id\":\"b924b6b5-8340-4f32-cfe5-0abbc041097a\",\"y\":{\"units\":\"data\",\"field\":\"y\"},\"tags\":[]}},{\"id\":\"8f0eff4b-0541-41aa-c1c8-1514ea0db939\",\"type\":\"GlyphRenderer\",\"attributes\":{\"name\":null,\"nonselection_glyph\":{\"type\":\"Line\",\"id\":\"b924b6b5-8340-4f32-cfe5-0abbc041097a\"},\"doc\":null,\"server_data_source\":null,\"data_source\":{\"type\":\"ColumnDataSource\",\"id\":\"fb7e3a19-25ac-4741-c794-c15d8b14bcaf\"},\"glyph\":{\"type\":\"Line\",\"id\":\"01a3f410-55b6-494c-c990-123e87a410a7\"},\"selection_glyph\":null,\"id\":\"8f0eff4b-0541-41aa-c1c8-1514ea0db939\",\"tags\":[]}},{\"id\":\"cc00c750-3fa1-47eb-c79b-68e4a535e00e\",\"type\":\"DataRange1d\",\"attributes\":{\"sources\":[{\"columns\":[\"x\"],\"source\":{\"type\":\"ColumnDataSource\",\"id\":\"07f65fef-69ee-4531-c516-54a09e75a2ce\"}},{\"columns\":[\"x\"],\"source\":{\"type\":\"ColumnDataSource\",\"id\":\"fb7e3a19-25ac-4741-c794-c15d8b14bcaf\"}}],\"id\":\"cc00c750-3fa1-47eb-c79b-68e4a535e00e\",\"tags\":[],\"doc\":null}},{\"id\":\"421437f2-994e-48f1-c874-79082941e5fe\",\"type\":\"DataRange1d\",\"attributes\":{\"sources\":[{\"columns\":[\"y\"],\"source\":{\"type\":\"ColumnDataSource\",\"id\":\"07f65fef-69ee-4531-c516-54a09e75a2ce\"}},{\"columns\":[\"y\"],\"source\":{\"type\":\"ColumnDataSource\",\"id\":\"fb7e3a19-25ac-4741-c794-c15d8b14bcaf\"}}],\"id\":\"421437f2-994e-48f1-c874-79082941e5fe\",\"tags\":[],\"doc\":null}},{\"id\":\"a5acce5c-960f-40a5-c018-e937ac782efc\",\"type\":\"ToolEvents\",\"attributes\":{\"tags\":[],\"id\":\"a5acce5c-960f-40a5-c018-e937ac782efc\",\"geometries\":[],\"doc\":null}},{\"id\":\"34d062d0-8e4a-404f-c021-12a04426857f\",\"type\":\"BasicTickFormatter\",\"attributes\":{\"id\":\"34d062d0-8e4a-404f-c021-12a04426857f\",\"tags\":[],\"doc\":null}},{\"id\":\"6605c7db-12d8-4ea4-ce6d-1e1cf70593e2\",\"type\":\"BasicTicker\",\"attributes\":{\"num_minor_ticks\":5,\"id\":\"6605c7db-12d8-4ea4-ce6d-1e1cf70593e2\",\"tags\":[],\"doc\":null}},{\"id\":\"b2228a85-a516-4416-c421-38dc3c5779e6\",\"type\":\"LinearAxis\",\"attributes\":{\"formatter\":{\"type\":\"BasicTickFormatter\",\"id\":\"34d062d0-8e4a-404f-c021-12a04426857f\"},\"ticker\":{\"type\":\"BasicTicker\",\"id\":\"6605c7db-12d8-4ea4-ce6d-1e1cf70593e2\"},\"plot\":{\"id\":\"03185f28-f7bf-49a3-c928-2b3c1767afd2\",\"type\":\"Plot\",\"subtype\":\"Figure\"},\"axis_label\":\"Iteration\",\"id\":\"b2228a85-a516-4416-c421-38dc3c5779e6\",\"doc\":null,\"tags\":[]}},{\"id\":\"3ca99f7b-b008-404f-c022-04333f608d59\",\"type\":\"Grid\",\"attributes\":{\"dimension\":0,\"plot\":{\"id\":\"03185f28-f7bf-49a3-c928-2b3c1767afd2\",\"type\":\"Plot\",\"subtype\":\"Figure\"},\"ticker\":{\"type\":\"BasicTicker\",\"id\":\"6605c7db-12d8-4ea4-ce6d-1e1cf70593e2\"},\"id\":\"3ca99f7b-b008-404f-c022-04333f608d59\",\"doc\":null,\"tags\":[]}},{\"id\":\"473fa539-6764-4b55-cb3c-9e6c25ead951\",\"type\":\"BasicTickFormatter\",\"attributes\":{\"id\":\"473fa539-6764-4b55-cb3c-9e6c25ead951\",\"tags\":[],\"doc\":null}},{\"id\":\"50543c5f-21e2-4a6c-cac7-cf43a72dcfdd\",\"type\":\"BasicTicker\",\"attributes\":{\"num_minor_ticks\":5,\"id\":\"50543c5f-21e2-4a6c-cac7-cf43a72dcfdd\",\"tags\":[],\"doc\":null}},{\"id\":\"c6cb9060-7317-47fd-c7f5-5e91995a6e5b\",\"type\":\"LinearAxis\",\"attributes\":{\"formatter\":{\"type\":\"BasicTickFormatter\",\"id\":\"473fa539-6764-4b55-cb3c-9e6c25ead951\"},\"ticker\":{\"type\":\"BasicTicker\",\"id\":\"50543c5f-21e2-4a6c-cac7-cf43a72dcfdd\"},\"plot\":{\"id\":\"03185f28-f7bf-49a3-c928-2b3c1767afd2\",\"type\":\"Plot\",\"subtype\":\"Figure\"},\"axis_label\":\"1-accuracy\",\"id\":\"c6cb9060-7317-47fd-c7f5-5e91995a6e5b\",\"doc\":null,\"tags\":[]}},{\"id\":\"c64367f2-f650-4e91-ce22-bfc8d0c73400\",\"type\":\"Grid\",\"attributes\":{\"dimension\":1,\"plot\":{\"id\":\"03185f28-f7bf-49a3-c928-2b3c1767afd2\",\"type\":\"Plot\",\"subtype\":\"Figure\"},\"ticker\":{\"type\":\"BasicTicker\",\"id\":\"50543c5f-21e2-4a6c-cac7-cf43a72dcfdd\"},\"id\":\"c64367f2-f650-4e91-ce22-bfc8d0c73400\",\"doc\":null,\"tags\":[]}},{\"id\":\"df7f51c9-5237-4d6a-cd33-06e5833cc870\",\"type\":\"PanTool\",\"attributes\":{\"plot\":{\"id\":\"03185f28-f7bf-49a3-c928-2b3c1767afd2\",\"type\":\"Plot\",\"subtype\":\"Figure\"},\"dimensions\":[\"width\",\"height\"],\"id\":\"df7f51c9-5237-4d6a-cd33-06e5833cc870\",\"doc\":null,\"tags\":[]}},{\"id\":\"97b798ab-7adc-4308-c340-62534dd2825a\",\"type\":\"WheelZoomTool\",\"attributes\":{\"plot\":{\"id\":\"03185f28-f7bf-49a3-c928-2b3c1767afd2\",\"type\":\"Plot\",\"subtype\":\"Figure\"},\"dimensions\":[\"width\",\"height\"],\"id\":\"97b798ab-7adc-4308-c340-62534dd2825a\",\"doc\":null,\"tags\":[]}},{\"id\":\"12fbf61b-676c-4a19-ca14-249767ff5a2f\",\"type\":\"BoxZoomTool\",\"attributes\":{\"plot\":{\"id\":\"03185f28-f7bf-49a3-c928-2b3c1767afd2\",\"type\":\"Plot\",\"subtype\":\"Figure\"},\"id\":\"12fbf61b-676c-4a19-ca14-249767ff5a2f\",\"tags\":[],\"doc\":null}},{\"id\":\"ce602a60-2197-4227-c256-5020ea3a3400\",\"type\":\"PreviewSaveTool\",\"attributes\":{\"plot\":{\"id\":\"03185f28-f7bf-49a3-c928-2b3c1767afd2\",\"type\":\"Plot\",\"subtype\":\"Figure\"},\"id\":\"ce602a60-2197-4227-c256-5020ea3a3400\",\"tags\":[],\"doc\":null}},{\"id\":\"6e5842fd-52b2-40ba-c0db-99ac8a62f42f\",\"type\":\"ResizeTool\",\"attributes\":{\"plot\":{\"id\":\"03185f28-f7bf-49a3-c928-2b3c1767afd2\",\"type\":\"Plot\",\"subtype\":\"Figure\"},\"id\":\"6e5842fd-52b2-40ba-c0db-99ac8a62f42f\",\"tags\":[],\"doc\":null}},{\"id\":\"51cbc304-9760-4ac9-ca9d-4254ed53e0a8\",\"type\":\"ResetTool\",\"attributes\":{\"plot\":{\"id\":\"03185f28-f7bf-49a3-c928-2b3c1767afd2\",\"type\":\"Plot\",\"subtype\":\"Figure\"},\"id\":\"51cbc304-9760-4ac9-ca9d-4254ed53e0a8\",\"tags\":[],\"doc\":null}},{\"id\":\"03185f28-f7bf-49a3-c928-2b3c1767afd2\",\"type\":\"Plot\",\"attributes\":{\"x_range\":{\"type\":\"DataRange1d\",\"id\":\"cc00c750-3fa1-47eb-c79b-68e4a535e00e\"},\"tool_events\":{\"type\":\"ToolEvents\",\"id\":\"a5acce5c-960f-40a5-c018-e937ac782efc\"},\"below\":[{\"type\":\"LinearAxis\",\"id\":\"b2228a85-a516-4416-c421-38dc3c5779e6\"}],\"renderers\":[{\"type\":\"GlyphRenderer\",\"id\":\"5dbfdc04-0918-4427-c454-4c2e6e1c0dfb\"},{\"type\":\"GlyphRenderer\",\"id\":\"8f0eff4b-0541-41aa-c1c8-1514ea0db939\"},{\"type\":\"LinearAxis\",\"id\":\"b2228a85-a516-4416-c421-38dc3c5779e6\"},{\"type\":\"Grid\",\"id\":\"3ca99f7b-b008-404f-c022-04333f608d59\"},{\"type\":\"LinearAxis\",\"id\":\"c6cb9060-7317-47fd-c7f5-5e91995a6e5b\"},{\"type\":\"Grid\",\"id\":\"c64367f2-f650-4e91-ce22-bfc8d0c73400\"}],\"above\":[],\"tools\":[{\"type\":\"PanTool\",\"id\":\"df7f51c9-5237-4d6a-cd33-06e5833cc870\"},{\"type\":\"WheelZoomTool\",\"id\":\"97b798ab-7adc-4308-c340-62534dd2825a\"},{\"type\":\"BoxZoomTool\",\"id\":\"12fbf61b-676c-4a19-ca14-249767ff5a2f\"},{\"type\":\"PreviewSaveTool\",\"id\":\"ce602a60-2197-4227-c256-5020ea3a3400\"},{\"type\":\"ResizeTool\",\"id\":\"6e5842fd-52b2-40ba-c0db-99ac8a62f42f\"},{\"type\":\"ResetTool\",\"id\":\"51cbc304-9760-4ac9-ca9d-4254ed53e0a8\"}],\"doc\":null,\"right\":[],\"title\":\"Optimal Architecture using Simulated Annealing\",\"extra_x_ranges\":{},\"left\":[{\"type\":\"LinearAxis\",\"id\":\"c6cb9060-7317-47fd-c7f5-5e91995a6e5b\"}],\"y_range\":{\"type\":\"DataRange1d\",\"id\":\"421437f2-994e-48f1-c874-79082941e5fe\"},\"id\":\"03185f28-f7bf-49a3-c928-2b3c1767afd2\",\"extra_y_ranges\":{},\"tags\":[]}}];\n",
       "      Bokeh.load_models(all_models);\n",
       "      var model = Bokeh.Collections(modeltype).get(modelid);\n",
       "      $(\"#aae3103d-54fc-4201-c2d6-6cafe264ba88\").html(''); // clear any previous plot in window_id\n",
       "      var view = new model.default_view({model: model, el: \"#aae3103d-54fc-4201-c2d6-6cafe264ba88\"});\n",
       "  });\n",
       "    }\n",
       "});\n",
       "</script>\n",
       "<div class=\"plotdiv\" id=\"ef4e871c-371d-4b3c-cb61-565766f7c5d4\"></div>\n"
      ]
     },
     "metadata": {},
     "output_type": "display_data"
    }
   ],
   "source": [
    "plot = P():line(torch.linspace(1,20,20), toprint2,'red'):title('Optimal Architecture using Simulated Annealing'):draw()\n",
    "plot:line(torch.linspace(1,20,20), toprint,'blue'):title('Optimal Architecture using Simulated Annealing'):redraw()\n",
    "plot:yaxis('1-accuracy'):xaxis('Iteration'):redraw()"
   ]
  },
  {
   "cell_type": "markdown",
   "metadata": {
    "collapsed": true
   },
   "source": [
    "Similarly, if git doesn't show:\n",
    "<img src=\"two.png\">"
   ]
  },
  {
   "cell_type": "markdown",
   "metadata": {},
   "source": [
    "Picking the right starting architecture can have a significant impact on the performance of the simulated annealing algorithm."
   ]
  }
 ],
 "metadata": {
  "kernelspec": {
   "display_name": "iTorch",
   "language": "lua",
   "name": "itorch"
  },
  "language_info": {
   "name": "lua",
   "version": "5.1"
  }
 },
 "nbformat": 4,
 "nbformat_minor": 0
}
