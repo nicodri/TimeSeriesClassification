{
 "cells": [
  {
   "cell_type": "code",
   "execution_count": 2,
   "metadata": {
    "collapsed": true
   },
   "outputs": [],
   "source": [
    "import numpy as np\n",
    "import h5py\n",
    "import pymc as pm\n",
    "import itertools"
   ]
  },
  {
   "cell_type": "code",
   "execution_count": 3,
   "metadata": {
    "collapsed": false
   },
   "outputs": [],
   "source": [
    "# Loading the split\n",
    "participants_train = {}\n",
    "participants_test = {}\n",
    "filename = '../HAR/preprocessed.hdf5'\n",
    "with h5py.File(filename,'r') as hf:\n",
    "    x_train = np.array(hf['x_train'])\n",
    "    y_train = np.array(hf['y_train'])\n",
    "    x_test = np.array(hf['x_test'])\n",
    "    y_test = np.array(hf['y_test'])"
   ]
  },
  {
   "cell_type": "code",
   "execution_count": 10,
   "metadata": {
    "collapsed": false
   },
   "outputs": [],
   "source": [
    "transition = np.zeros((6,6))\n",
    "for i in range(1,len(y_train)):\n",
    "    transition[y_train[i-1]-1, y_train[i]-1] += 1\n",
    "row_sums = transition.sum(axis=1)\n",
    "transition = transition / row_sums[:, np.newaxis]"
   ]
  },
  {
   "cell_type": "code",
   "execution_count": 4,
   "metadata": {
    "collapsed": true
   },
   "outputs": [],
   "source": [
    "cols = [0,1,2,40,41,42]\n",
    "reduced_train = x_train[:,cols]\n",
    "reduced_train = (reduced_train - np.mean(reduced_train, axis=0)) / np.std(reduced_train, axis=0)"
   ]
  },
  {
   "cell_type": "code",
   "execution_count": 22,
   "metadata": {
    "collapsed": false
   },
   "outputs": [],
   "source": [
    "reduced_train_1 = reduced_train[y_train[y_train == 1],:]\n",
    "reduced_train_2 = reduced_train[y_train[y_train == 2],:]\n",
    "reduced_train_3 = reduced_train[y_train[y_train == 3],:]\n",
    "reduced_train_4 = reduced_train[y_train[y_train == 4],:]\n",
    "reduced_train_5 = reduced_train[y_train[y_train == 5],:]\n",
    "reduced_train_6 = reduced_train[y_train[y_train == 6],:]"
   ]
  },
  {
   "cell_type": "code",
   "execution_count": 57,
   "metadata": {
    "collapsed": false
   },
   "outputs": [
    {
     "name": "stdout",
     "output_type": "stream",
     "text": [
      " [-----------------100%-----------------] 10000 of 10000 complete in 26.5 sec"
     ]
    }
   ],
   "source": [
    "mu_1 = pm.MvNormal('mu_1', mu = np.zeros(6), tau = np.diag(np.ones(6)*100))\n",
    "cov_1 = pm.Wishart('cov_1', 6, np.diag(np.ones(6)))\n",
    "like = pm.MvNormal('l1', mu_1, cov_1, observed = True, value = reduced_train_1)\n",
    "model1 = pm.Model([mu_1, cov_1, like])\n",
    "mcmc1 = pm.MCMC(model1)\n",
    "mcmc1.sample(iter=10000, burn=2000)\n",
    "mu1 = mcmc1.trace('mu_1')[:][-1]\n",
    "cov1 = mcmc1.trace('cov_1')[:][-1]"
   ]
  },
  {
   "cell_type": "code",
   "execution_count": 58,
   "metadata": {
    "collapsed": false
   },
   "outputs": [
    {
     "name": "stdout",
     "output_type": "stream",
     "text": [
      " [-----------------100%-----------------] 10000 of 10000 complete in 22.8 sec"
     ]
    }
   ],
   "source": [
    "mu_2 = pm.MvNormal('mu_2', mu = np.zeros(6), tau = np.diag(np.ones(6)*100))\n",
    "cov_2 = pm.Wishart('cov_2', 6, np.diag(np.ones(6)))\n",
    "like2 = pm.MvNormal('l2', mu_2, cov_2, observed = True, value = reduced_train_2)\n",
    "model2 = pm.Model([mu_2, cov_2, like2])\n",
    "mcmc2 = pm.MCMC(model2)\n",
    "mcmc2.sample(iter=10000, burn=2000)\n",
    "mu2 = mcmc2.trace('mu_2')[:][-1]\n",
    "cov2 = mcmc2.trace('cov_2')[:][-1]"
   ]
  },
  {
   "cell_type": "code",
   "execution_count": 59,
   "metadata": {
    "collapsed": false
   },
   "outputs": [
    {
     "name": "stdout",
     "output_type": "stream",
     "text": [
      " [-----------------100%-----------------] 10000 of 10000 complete in 21.5 sec"
     ]
    }
   ],
   "source": [
    "mu_3 = pm.MvNormal('mu_3', mu = np.zeros(6), tau = np.diag(np.ones(6)*100))\n",
    "cov_3 = pm.Wishart('cov_3', 6, np.diag(np.ones(6)))\n",
    "like3 = pm.MvNormal('l3', mu_3, cov_3, observed = True, value = reduced_train_3)\n",
    "model3 = pm.Model([mu_3, cov_3, like3])\n",
    "mcmc3 = pm.MCMC(model3)\n",
    "mcmc3.sample(iter=10000, burn=2000)\n",
    "mu3 = mcmc3.trace('mu_3')[:][-1]\n",
    "cov3 = mcmc3.trace('cov_3')[:][-1]"
   ]
  },
  {
   "cell_type": "code",
   "execution_count": 60,
   "metadata": {
    "collapsed": false
   },
   "outputs": [
    {
     "name": "stdout",
     "output_type": "stream",
     "text": [
      " [-----------------100%-----------------] 10000 of 10000 complete in 26.8 sec"
     ]
    }
   ],
   "source": [
    "mu_4 = pm.MvNormal('mu_4', mu = np.zeros(6), tau = np.diag(np.ones(6)*100))\n",
    "cov_4 = pm.Wishart('cov_4', 6, np.diag(np.ones(6)))\n",
    "like4 = pm.MvNormal('l4', mu_4, cov_4, observed = True, value = reduced_train_4)\n",
    "model4 = pm.Model([mu_4, cov_4, like4])\n",
    "mcmc4 = pm.MCMC(model4)\n",
    "mcmc4.sample(iter=10000, burn=2000)\n",
    "mu4 = mcmc4.trace('mu_4')[:][-1]\n",
    "cov4 = mcmc4.trace('cov_4')[:][-1]"
   ]
  },
  {
   "cell_type": "code",
   "execution_count": 61,
   "metadata": {
    "collapsed": false
   },
   "outputs": [
    {
     "name": "stdout",
     "output_type": "stream",
     "text": [
      " [-----------------100%-----------------] 10000 of 10000 complete in 28.6 sec"
     ]
    }
   ],
   "source": [
    "mu_5 = pm.MvNormal('mu_5', mu = np.zeros(6), tau = np.diag(np.ones(6)*100))\n",
    "cov_5 = pm.Wishart('cov_5', 6, np.diag(np.ones(6)))\n",
    "like5 = pm.MvNormal('l5', mu_5, cov_5, observed = True, value = reduced_train_5)\n",
    "model5 = pm.Model([mu_5, cov_5, like5])\n",
    "mcmc5 = pm.MCMC(model5)\n",
    "mcmc5.sample(iter=10000, burn=2000)\n",
    "mu5 = mcmc5.trace('mu_5')[:][-1]\n",
    "cov5 = mcmc5.trace('cov_5')[:][-1]"
   ]
  },
  {
   "cell_type": "code",
   "execution_count": 62,
   "metadata": {
    "collapsed": false
   },
   "outputs": [
    {
     "name": "stdout",
     "output_type": "stream",
     "text": [
      " [-----------------100%-----------------] 10000 of 10000 complete in 30.2 sec"
     ]
    }
   ],
   "source": [
    "mu_6 = pm.MvNormal('mu_6', mu = np.zeros(6), tau = np.diag(np.ones(6)*100))\n",
    "cov_6 = pm.Wishart('cov_6', 6, np.diag(np.ones(6)))\n",
    "like6 = pm.MvNormal('l6', mu_6, cov_6, observed = True, value = reduced_train_6)\n",
    "model6 = pm.Model([mu_6, cov_6, like6])\n",
    "mcmc6 = pm.MCMC(model6)\n",
    "mcmc6.sample(iter=10000, burn=2000)\n",
    "mu6 = mcmc6.trace('mu_6')[:][-1]\n",
    "cov6 = mcmc6.trace('cov_6')[:][-1]"
   ]
  },
  {
   "cell_type": "code",
   "execution_count": 67,
   "metadata": {
    "collapsed": true
   },
   "outputs": [],
   "source": [
    "means = [mu1, mu2, mu3, mu4, mu5, mu6]\n",
    "covs = [cov1, cov2, cov3, cov4, cov4, cov6]\n",
    "\n",
    "with h5py.File('../HAR/means_covs.hdf5', \"w\") as f:\n",
    "    for k,v in enumerate(means):\n",
    "        f['mu_{}'.format(k+1)] = v\n",
    "    for k,v in enumerate(covs):\n",
    "        f['cov_{}'.format(k+1)] = v"
   ]
  }
 ],
 "metadata": {
  "kernelspec": {
   "display_name": "Python 2",
   "language": "python",
   "name": "python2"
  },
  "language_info": {
   "codemirror_mode": {
    "name": "ipython",
    "version": 2
   },
   "file_extension": ".py",
   "mimetype": "text/x-python",
   "name": "python",
   "nbconvert_exporter": "python",
   "pygments_lexer": "ipython2",
   "version": "2.7.11"
  }
 },
 "nbformat": 4,
 "nbformat_minor": 0
}
