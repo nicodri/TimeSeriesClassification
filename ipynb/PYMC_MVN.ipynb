{
 "cells": [
  {
   "cell_type": "code",
   "execution_count": 181,
   "metadata": {
    "collapsed": false
   },
   "outputs": [],
   "source": [
    "%matplotlib inline\n",
    "import numpy as np\n",
    "import h5py\n",
    "import pymc3 as pm\n",
    "import itertools\n",
    "import matplotlib.pylab as plt\n",
    "import theano.tensor as t\n",
    "from theano.tensor.nlinalg import matrix_inverse as inv"
   ]
  },
  {
   "cell_type": "code",
   "execution_count": 2,
   "metadata": {
    "collapsed": false
   },
   "outputs": [],
   "source": [
    "# Loading the split\n",
    "participants_train = {}\n",
    "participants_test = {}\n",
    "filename = '../HAR/preprocessed.hdf5'\n",
    "with h5py.File(filename,'r') as hf:\n",
    "    x_train = np.array(hf['x_train'])\n",
    "    y_train = np.array(hf['y_train'])\n",
    "    x_test = np.array(hf['x_test'])\n",
    "    y_test = np.array(hf['y_test'])"
   ]
  },
  {
   "cell_type": "code",
   "execution_count": 3,
   "metadata": {
    "collapsed": false
   },
   "outputs": [],
   "source": [
    "transition = np.zeros((6,6))\n",
    "for i in range(1,len(y_train)):\n",
    "    transition[y_train[i-1]-1, y_train[i]-1] += 1\n",
    "row_sums = transition.sum(axis=1)\n",
    "transition = transition / row_sums[:, np.newaxis]"
   ]
  },
  {
   "cell_type": "code",
   "execution_count": 4,
   "metadata": {
    "collapsed": true
   },
   "outputs": [],
   "source": [
    "cols = [0,1,2,40,41,42]\n",
    "reduced_train = x_train[:,cols]\n",
    "reduced_train = (reduced_train - np.mean(reduced_train, axis=0)) / np.std(reduced_train, axis=0)"
   ]
  },
  {
   "cell_type": "code",
   "execution_count": 5,
   "metadata": {
    "collapsed": false
   },
   "outputs": [],
   "source": [
    "reduced_train_1 = reduced_train[y_train[y_train == 1],:]\n",
    "reduced_train_2 = reduced_train[y_train[y_train == 2],:]\n",
    "reduced_train_3 = reduced_train[y_train[y_train == 3],:]\n",
    "reduced_train_4 = reduced_train[y_train[y_train == 4],:]\n",
    "reduced_train_5 = reduced_train[y_train[y_train == 5],:]\n",
    "reduced_train_6 = reduced_train[y_train[y_train == 6],:]"
   ]
  },
  {
   "cell_type": "code",
   "execution_count": null,
   "metadata": {
    "collapsed": true
   },
   "outputs": [],
   "source": [
    "n_var = 6\n",
    "n_elem = int(n_var * (n_var - 1) / 2)"
   ]
  },
  {
   "cell_type": "code",
   "execution_count": 182,
   "metadata": {
    "collapsed": false
   },
   "outputs": [
    {
     "name": "stdout",
     "output_type": "stream",
     "text": [
      "Applied interval-transform to sigma_1 and added transformed sigma_1_interval to model.\n",
      " [-----------------100%-----------------] 5000 of 5000 complete in 25.1 sec"
     ]
    }
   ],
   "source": [
    "tri_index_1 = np.zeros([n_var, n_var], dtype=int)\n",
    "tri_index_1[np.triu_indices(n_var, k=1)] = np.arange(n_elem)\n",
    "tri_index_1[np.triu_indices(n_var, k=1)[::-1]] = np.arange(n_elem)\n",
    "\n",
    "with pm.Model() as model1:\n",
    "    \n",
    "    mu_1 = pm.Normal('mu_1', mu=0, tau=1 ** -2, shape=n_var)\n",
    "\n",
    "    # We can specify separate priors for sigma and the correlation matrix:\n",
    "    sigma_1 = pm.Uniform('sigma_1', shape=n_var)\n",
    "    corr_triangle_1 = pm.LKJCorr('corr_1', n=1, p=n_var)\n",
    "    corr_matrix_1 = corr_triangle_1[tri_index_1]\n",
    "    corr_matrix_1 = t.fill_diagonal(corr_matrix_1, 1)\n",
    "\n",
    "    cov_matrix_1 = t.diag(sigma_1).dot(corr_matrix_1.dot(t.diag(sigma_1)))\n",
    "\n",
    "    like_1 = pm.MvNormal('likelihood_1', mu=mu_1, tau=cov_matrix_1, observed=reduced_train_1)\n",
    "    \n",
    "with model1:\n",
    "    start = pm.find_MAP()\n",
    "    step = pm.NUTS(scaling=start)\n",
    "    tr1 = pm.sample(5000, step=step, start=start)"
   ]
  },
  {
   "cell_type": "code",
   "execution_count": 184,
   "metadata": {
    "collapsed": false
   },
   "outputs": [],
   "source": [
    "corr_matrix_1_ = np.array(tr1['corr_1'][-100:].mean(axis=0)[tri_index_1])\n",
    "np.fill_diagonal(corr_matrix_1_, 1)\n",
    "sigma_1_ = np.array(tr1['sigma_1'][-100:].mean(axis=0))\n",
    "cov_matrix_1_ = np.diag(sigma_1_).dot(corr_matrix_1_.dot(np.diag(sigma_1_)))\n",
    "\n",
    "mu_1_ = tr['mu_1'][-100:].mean(axis = 0)"
   ]
  },
  {
   "cell_type": "code",
   "execution_count": 187,
   "metadata": {
    "collapsed": false
   },
   "outputs": [
    {
     "name": "stdout",
     "output_type": "stream",
     "text": [
      "Applied interval-transform to sigma_2 and added transformed sigma_2_interval to model.\n",
      " [-----------------100%-----------------] 5000 of 5000 complete in 25.4 sec"
     ]
    }
   ],
   "source": [
    "tri_index_2 = np.zeros([n_var, n_var], dtype=int)\n",
    "tri_index_2[np.triu_indices(n_var, k=1)] = np.arange(n_elem)\n",
    "tri_index_2[np.triu_indices(n_var, k=1)[::-1]] = np.arange(n_elem)\n",
    "\n",
    "with pm.Model() as model2:\n",
    "    \n",
    "    mu_2 = pm.Normal('mu_2', mu=0, tau=1 ** -2, shape=n_var)\n",
    "\n",
    "    # We can specify separate priors for sigma and the correlation matrix:\n",
    "    sigma_2 = pm.Uniform('sigma_2', shape=n_var)\n",
    "    corr_triangle_2 = pm.LKJCorr('corr_2', n=1, p=n_var)\n",
    "    corr_matrix_2 = corr_triangle_2[tri_index_2]\n",
    "    corr_matrix_2 = t.fill_diagonal(corr_matrix_2, 1)\n",
    "\n",
    "    cov_matrix_2 = t.diag(sigma_2).dot(corr_matrix_2.dot(t.diag(sigma_2)))\n",
    "\n",
    "    like_2 = pm.MvNormal('likelihood_2', mu=mu_2, tau=cov_matrix_2, observed=reduced_train_2)\n",
    "    \n",
    "with model2:\n",
    "    start = pm.find_MAP()\n",
    "    step = pm.NUTS(scaling=start)\n",
    "    tr2 = pm.sample(5000, step=step, start=start)\n",
    "\n",
    "corr_matrix_2_ = np.array(tr2['corr_2'][-100:].mean(axis=0)[tri_index_2])\n",
    "np.fill_diagonal(corr_matrix_2_, 1)\n",
    "sigma_2_ = np.array(tr2['sigma_2'][-100:].mean(axis=0))\n",
    "cov_matrix_2_ = np.diag(sigma_2_).dot(corr_matrix_2_.dot(np.diag(sigma_2_)))\n",
    "\n",
    "mu_2_ = tr2['mu_2'][-100:].mean(axis = 0)"
   ]
  },
  {
   "cell_type": "code",
   "execution_count": 188,
   "metadata": {
    "collapsed": false
   },
   "outputs": [
    {
     "name": "stdout",
     "output_type": "stream",
     "text": [
      "Applied interval-transform to sigma_3 and added transformed sigma_3_interval to model.\n",
      " [-----------------100%-----------------] 5000 of 5000 complete in 23.8 sec"
     ]
    }
   ],
   "source": [
    "tri_index_3 = np.zeros([n_var, n_var], dtype=int)\n",
    "tri_index_3[np.triu_indices(n_var, k=1)] = np.arange(n_elem)\n",
    "tri_index_3[np.triu_indices(n_var, k=1)[::-1]] = np.arange(n_elem)\n",
    "\n",
    "with pm.Model() as model3:\n",
    "    \n",
    "    mu_3 = pm.Normal('mu_3', mu=0, tau=1 ** -2, shape=n_var)\n",
    "\n",
    "    # We can specify separate priors for sigma and the correlation matrix:\n",
    "    sigma_3 = pm.Uniform('sigma_3', shape=n_var)\n",
    "    corr_triangle_3 = pm.LKJCorr('corr_3', n=1, p=n_var)\n",
    "    corr_matrix_3 = corr_triangle_3[tri_index_3]\n",
    "    corr_matrix_3 = t.fill_diagonal(corr_matrix_3, 1)\n",
    "\n",
    "    cov_matrix_3 = t.diag(sigma_3).dot(corr_matrix_3.dot(t.diag(sigma_3)))\n",
    "\n",
    "    like_3 = pm.MvNormal('likelihood_3', mu=mu_3, tau=cov_matrix_3, observed=reduced_train_3)\n",
    "    \n",
    "with model3:\n",
    "    start = pm.find_MAP()\n",
    "    step = pm.NUTS(scaling=start)\n",
    "    tr3 = pm.sample(5000, step=step, start=start)\n",
    "\n",
    "corr_matrix_3_ = np.array(tr3['corr_3'][-100:].mean(axis=0)[tri_index_3])\n",
    "np.fill_diagonal(corr_matrix_3_, 1)\n",
    "sigma_3_ = np.array(tr3['sigma_3'][-100:].mean(axis=0))\n",
    "cov_matrix_3_ = np.diag(sigma_3_).dot(corr_matrix_3_.dot(np.diag(sigma_3_)))\n",
    "\n",
    "mu_3_ = tr3['mu_3'][-100:].mean(axis = 0)"
   ]
  },
  {
   "cell_type": "code",
   "execution_count": 189,
   "metadata": {
    "collapsed": false
   },
   "outputs": [
    {
     "name": "stdout",
     "output_type": "stream",
     "text": [
      "Applied interval-transform to sigma_4 and added transformed sigma_4_interval to model.\n",
      " [-----------------100%-----------------] 5000 of 5000 complete in 25.8 sec"
     ]
    }
   ],
   "source": [
    "tri_index_4 = np.zeros([n_var, n_var], dtype=int)\n",
    "tri_index_4[np.triu_indices(n_var, k=1)] = np.arange(n_elem)\n",
    "tri_index_4[np.triu_indices(n_var, k=1)[::-1]] = np.arange(n_elem)\n",
    "\n",
    "with pm.Model() as model4:\n",
    "    \n",
    "    mu_4 = pm.Normal('mu_4', mu=0, tau=1 ** -2, shape=n_var)\n",
    "\n",
    "    # We can specify separate priors for sigma and the correlation matrix:\n",
    "    sigma_4 = pm.Uniform('sigma_4', shape=n_var)\n",
    "    corr_triangle_4 = pm.LKJCorr('corr_4', n=1, p=n_var)\n",
    "    corr_matrix_4 = corr_triangle_4[tri_index_4]\n",
    "    corr_matrix_4 = t.fill_diagonal(corr_matrix_4, 1)\n",
    "\n",
    "    cov_matrix_4 = t.diag(sigma_4).dot(corr_matrix_4.dot(t.diag(sigma_4)))\n",
    "\n",
    "    like_4 = pm.MvNormal('likelihood_4', mu=mu_4, tau=cov_matrix_4, observed=reduced_train_4)\n",
    "    \n",
    "with model4:\n",
    "    start = pm.find_MAP()\n",
    "    step = pm.NUTS(scaling=start)\n",
    "    tr4 = pm.sample(5000, step=step, start=start)\n",
    "\n",
    "corr_matrix_4_ = np.array(tr4['corr_4'][-100:].mean(axis=0)[tri_index_4])\n",
    "np.fill_diagonal(corr_matrix_4_, 1)\n",
    "sigma_4_ = np.array(tr4['sigma_4'][-100:].mean(axis=0))\n",
    "cov_matrix_4_ = np.diag(sigma_4_).dot(corr_matrix_4_.dot(np.diag(sigma_4_)))\n",
    "\n",
    "mu_4_ = tr4['mu_4'][-100:].mean(axis = 0)"
   ]
  },
  {
   "cell_type": "code",
   "execution_count": 190,
   "metadata": {
    "collapsed": false
   },
   "outputs": [
    {
     "name": "stdout",
     "output_type": "stream",
     "text": [
      "Applied interval-transform to sigma_5 and added transformed sigma_5_interval to model.\n",
      " [-----------------100%-----------------] 5000 of 5000 complete in 29.0 sec"
     ]
    }
   ],
   "source": [
    "tri_index_5 = np.zeros([n_var, n_var], dtype=int)\n",
    "tri_index_5[np.triu_indices(n_var, k=1)] = np.arange(n_elem)\n",
    "tri_index_5[np.triu_indices(n_var, k=1)[::-1]] = np.arange(n_elem)\n",
    "\n",
    "with pm.Model() as model5:\n",
    "    \n",
    "    mu_5 = pm.Normal('mu_5', mu=0, tau=1 ** -2, shape=n_var)\n",
    "\n",
    "    # We can specify separate priors for sigma and the correlation matrix:\n",
    "    sigma_5 = pm.Uniform('sigma_5', shape=n_var)\n",
    "    corr_triangle_5 = pm.LKJCorr('corr_5', n=1, p=n_var)\n",
    "    corr_matrix_5 = corr_triangle_5[tri_index_5]\n",
    "    corr_matrix_5 = t.fill_diagonal(corr_matrix_5, 1)\n",
    "\n",
    "    cov_matrix_5 = t.diag(sigma_5).dot(corr_matrix_5.dot(t.diag(sigma_5)))\n",
    "\n",
    "    like_5 = pm.MvNormal('likelihood_5', mu=mu_5, tau=cov_matrix_5, observed=reduced_train_5)\n",
    "    \n",
    "with model5:\n",
    "    start = pm.find_MAP()\n",
    "    step = pm.NUTS(scaling=start)\n",
    "    tr5 = pm.sample(5000, step=step, start=start)\n",
    "\n",
    "corr_matrix_5_ = np.array(tr5['corr_5'][-100:].mean(axis=0)[tri_index_5])\n",
    "np.fill_diagonal(corr_matrix_5_, 1)\n",
    "sigma_5_ = np.array(tr5['sigma_5'][-100:].mean(axis=0))\n",
    "cov_matrix_5_ = np.diag(sigma_5_).dot(corr_matrix_5_.dot(np.diag(sigma_5_)))\n",
    "\n",
    "mu_5_ = tr5['mu_5'][-100:].mean(axis = 0)"
   ]
  },
  {
   "cell_type": "code",
   "execution_count": 191,
   "metadata": {
    "collapsed": false
   },
   "outputs": [
    {
     "name": "stdout",
     "output_type": "stream",
     "text": [
      "Applied interval-transform to sigma_6 and added transformed sigma_6_interval to model.\n",
      " [-----------------100%-----------------] 5000 of 5000 complete in 47.0 sec"
     ]
    }
   ],
   "source": [
    "tri_index_6 = np.zeros([n_var, n_var], dtype=int)\n",
    "tri_index_6[np.triu_indices(n_var, k=1)] = np.arange(n_elem)\n",
    "tri_index_6[np.triu_indices(n_var, k=1)[::-1]] = np.arange(n_elem)\n",
    "\n",
    "with pm.Model() as model6:\n",
    "    \n",
    "    mu_6 = pm.Normal('mu_6', mu=0, tau=1 ** -2, shape=n_var)\n",
    "\n",
    "    # We can specify separate priors for sigma and the correlation matrix:\n",
    "    sigma_6 = pm.Uniform('sigma_6', shape=n_var)\n",
    "    corr_triangle_6 = pm.LKJCorr('corr_6', n=1, p=n_var)\n",
    "    corr_matrix_6 = corr_triangle_6[tri_index_6]\n",
    "    corr_matrix_6 = t.fill_diagonal(corr_matrix_6, 1)\n",
    "\n",
    "    cov_matrix_6 = t.diag(sigma_6).dot(corr_matrix_6.dot(t.diag(sigma_6)))\n",
    "\n",
    "    like_6 = pm.MvNormal('likelihood_6', mu=mu_6, tau=cov_matrix_6, observed=reduced_train_6)\n",
    "    \n",
    "with model6:\n",
    "    start = pm.find_MAP()\n",
    "    step = pm.NUTS(scaling=start)\n",
    "    tr6 = pm.sample(5000, step=step, start=start)\n",
    "\n",
    "corr_matrix_6_ = np.array(tr6['corr_6'][-100:].mean(axis=0)[tri_index_6])\n",
    "np.fill_diagonal(corr_matrix_6_, 1)\n",
    "sigma_6_ = np.array(tr6['sigma_6'][-100:].mean(axis=0))\n",
    "cov_matrix_6_ = np.diag(sigma_6_).dot(corr_matrix_6_.dot(np.diag(sigma_6_)))\n",
    "\n",
    "mu_6_ = tr6['mu_6'][-100:].mean(axis = 0)"
   ]
  },
  {
   "cell_type": "code",
   "execution_count": 67,
   "metadata": {
    "collapsed": true
   },
   "outputs": [],
   "source": [
    "means = [mu_1_, mu_2_, mu_3_, mu_4_, mu_5_, mu_6_]\n",
    "covs = [cov1, cov2, cov3, cov_matrix_6_, cov_matrix_5_, cov_matrix_6_]\n",
    "\n",
    "with h5py.File('../HAR/means_covs.hdf5', \"w\") as f:\n",
    "    for k,v in enumerate(means):\n",
    "        f['mu_{}'.format(k+1)] = v\n",
    "    for k,v in enumerate(covs):\n",
    "        f['cov_{}'.format(k+1)] = v"
   ]
  },
  {
   "cell_type": "markdown",
   "metadata": {},
   "source": [
    "### OLD:"
   ]
  },
  {
   "cell_type": "code",
   "execution_count": 63,
   "metadata": {
    "collapsed": false
   },
   "outputs": [
    {
     "name": "stdout",
     "output_type": "stream",
     "text": [
      " [-----------------100%-----------------] 10000 of 10000 complete in 26.7 sec"
     ]
    }
   ],
   "source": [
    "mu_1 = pm.MvNormal('mu_1', mu = np.zeros(6), tau = np.diag(np.ones(6)*100))\n",
    "cov_1 = pm.Wishart('cov_1', 7, np.eye(6))\n",
    "like = pm.MvNormalCov('l1', mu = mu_1, C = cov_1, observed = True, value = reduced_train_1)\n",
    "model1 = pm.Model([mu_1, cov_1, like])\n",
    "mcmc1 = pm.MCMC(model1)\n",
    "mcmc1.sample(iter=10000, burn=2000)\n",
    "mu1 = mcmc1.trace('mu_1')[:][-1]\n",
    "cov1 = mcmc1.trace('cov_1')[:][-1]"
   ]
  },
  {
   "cell_type": "code",
   "execution_count": 158,
   "metadata": {
    "collapsed": false
   },
   "outputs": [
    {
     "data": {
      "text/plain": [
       "[<matplotlib.lines.Line2D at 0x1221d5950>,\n",
       " <matplotlib.lines.Line2D at 0x122213cd0>,\n",
       " <matplotlib.lines.Line2D at 0x122213e10>,\n",
       " <matplotlib.lines.Line2D at 0x122213f50>,\n",
       " <matplotlib.lines.Line2D at 0x1223090d0>,\n",
       " <matplotlib.lines.Line2D at 0x122309210>]"
      ]
     },
     "execution_count": 158,
     "metadata": {},
     "output_type": "execute_result"
    },
    {
     "data": {
      "image/png": "[encoded data removed]",
      "text/plain": [
       "<matplotlib.figure.Figure at 0x12127f2d0>"
      ]
     },
     "metadata": {},
     "output_type": "display_data"
    }
   ],
   "source": [
    "plt.plot(mcmc1.trace('mu_1')[:])"
   ]
  },
  {
   "cell_type": "code",
   "execution_count": 43,
   "metadata": {
    "collapsed": false
   },
   "outputs": [
    {
     "name": "stdout",
     "output_type": "stream",
     "text": [
      " [-----------------100%-----------------] 10000 of 10000 complete in 23.2 sec"
     ]
    }
   ],
   "source": [
    "mu_2 = pm.MvNormal('mu_2', mu = np.zeros(6), tau = np.diag(np.ones(6)*100))\n",
    "cov_2 = pm.Wishart('cov_2', len(reduced_train_2), np.eye(6))\n",
    "like2 = pm.MvNormal('l2', mu_2, cov_2, observed = True, value = reduced_train_2)\n",
    "model2 = pm.Model([mu_2, cov_2, like2])\n",
    "mcmc2 = pm.MCMC(model2)\n",
    "mcmc2.sample(iter=10000, burn=2000)\n",
    "mu2 = mcmc2.trace('mu_2')[:][-1]\n",
    "cov2 = mcmc2.trace('cov_2')[:][-1]"
   ]
  },
  {
   "cell_type": "code",
   "execution_count": 54,
   "metadata": {
    "collapsed": false
   },
   "outputs": [
    {
     "name": "stdout",
     "output_type": "stream",
     "text": [
      " [-----------------100%-----------------] 10000 of 10000 complete in 20.3 sec"
     ]
    }
   ],
   "source": [
    "mu_3 = pm.MvNormal('mu_3', mu = np.zeros(6), tau = np.diag(np.ones(6)*100))\n",
    "cov_3 = pm.Wishart('cov_3', len(reduced_train_3), np.eye(6))\n",
    "like3 = pm.MvNormal('l3', mu_3, cov_3, observed = True, value = reduced_train_3)\n",
    "model3 = pm.Model([mu_3, cov_3, like3])\n",
    "mcmc3 = pm.MCMC(model3)\n",
    "mcmc3.sample(iter=10000, burn=2000)\n",
    "mu3 = mcmc3.trace('mu_3')[:][-1]\n",
    "cov3 = mcmc3.trace('cov_3')[:][-1]"
   ]
  },
  {
   "cell_type": "code",
   "execution_count": 55,
   "metadata": {
    "collapsed": false
   },
   "outputs": [
    {
     "name": "stdout",
     "output_type": "stream",
     "text": [
      " [-----------------100%-----------------] 10000 of 10000 complete in 26.6 sec"
     ]
    }
   ],
   "source": [
    "mu_4 = pm.MvNormal('mu_4', mu = np.zeros(6), tau = np.diag(np.ones(6)*100))\n",
    "cov_4 = pm.Wishart('cov_4', len(reduced_train_4), np.eye(6))\n",
    "like4 = pm.MvNormal('l4', mu_4, cov_4, observed = True, value = reduced_train_4)\n",
    "model4 = pm.Model([mu_4, cov_4, like4])\n",
    "mcmc4 = pm.MCMC(model4)\n",
    "mcmc4.sample(iter=10000, burn=2000)\n",
    "mu4 = mcmc4.trace('mu_4')[:][-1]\n",
    "cov4 = mcmc4.trace('cov_4')[:][-1]"
   ]
  },
  {
   "cell_type": "code",
   "execution_count": 56,
   "metadata": {
    "collapsed": false
   },
   "outputs": [
    {
     "name": "stdout",
     "output_type": "stream",
     "text": [
      " [-----------------100%-----------------] 10000 of 10000 complete in 30.2 sec"
     ]
    }
   ],
   "source": [
    "mu_5 = pm.MvNormal('mu_5', mu = np.zeros(6), tau = np.diag(np.ones(6)*100))\n",
    "cov_5 = pm.Wishart('cov_5', len(reduced_train_5), np.eye(6))\n",
    "like5 = pm.MvNormal('l5', mu_5, cov_5, observed = True, value = reduced_train_5)\n",
    "model5 = pm.Model([mu_5, cov_5, like5])\n",
    "mcmc5 = pm.MCMC(model5)\n",
    "mcmc5.sample(iter=10000, burn=2000)\n",
    "mu5 = mcmc5.trace('mu_5')[:][-1]\n",
    "cov5 = mcmc5.trace('cov_5')[:][-1]"
   ]
  },
  {
   "cell_type": "code",
   "execution_count": 57,
   "metadata": {
    "collapsed": false
   },
   "outputs": [
    {
     "name": "stdout",
     "output_type": "stream",
     "text": [
      " [-----------------100%-----------------] 10000 of 10000 complete in 27.7 sec"
     ]
    }
   ],
   "source": [
    "mu_6 = pm.MvNormal('mu_6', mu = np.zeros(6), tau = np.diag(np.ones(6)*100))\n",
    "cov_6 = pm.Wishart('cov_6', len(reduced_train_6), np.eye(6))\n",
    "like6 = pm.MvNormal('l6', mu_6, cov_6, observed = True, value = reduced_train_6)\n",
    "model6 = pm.Model([mu_6, cov_6, like6])\n",
    "mcmc6 = pm.MCMC(model6)\n",
    "mcmc6.sample(iter=10000, burn=2000)\n",
    "mu6 = mcmc6.trace('mu_6')[:][-1]\n",
    "cov6 = mcmc6.trace('cov_6')[:][-1]"
   ]
  }
 ],
 "metadata": {
  "kernelspec": {
   "display_name": "Python 2",
   "language": "python",
   "name": "python2"
  },
  "language_info": {
   "codemirror_mode": {
    "name": "ipython",
    "version": 2
   },
   "file_extension": ".py",
   "mimetype": "text/x-python",
   "name": "python",
   "nbconvert_exporter": "python",
   "pygments_lexer": "ipython2",
   "version": "2.7.11"
  }
 },
 "nbformat": 4,
 "nbformat_minor": 0
}
