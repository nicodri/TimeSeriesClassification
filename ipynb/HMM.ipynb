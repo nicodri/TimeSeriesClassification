{
 "cells": [
  {
   "cell_type": "code",
   "execution_count": 14,
   "metadata": {
    "collapsed": false
   },
   "outputs": [],
   "source": [
    "import numpy as np\n",
    "import h5py\n",
    "import scipy.stats"
   ]
  },
  {
   "cell_type": "code",
   "execution_count": 15,
   "metadata": {
    "collapsed": true
   },
   "outputs": [],
   "source": [
    "# Loading the data\n",
    "with h5py.File('../HAR/preprocessed.hdf5','r') as hf:\n",
    "    x_train = np.array(hf.get('x_train'))\n",
    "    y_train = np.array(hf.get('y_train'))\n",
    "    s_train = np.array(hf.get('s_train'))\n",
    "    x_test = np.array(hf.get('x_test'))\n",
    "    y_test = np.array(hf.get('y_test'))\n",
    "    s_test = np.array(hf.get('s_test'))\n",
    "    x_train_with_past = np.array(hf.get('x_train_with_past'))\n",
    "    y_train_with_past = np.array(hf.get('y_train_with_past'))\n",
    "    x_test_with_past = np.array(hf.get('x_test_with_past'))\n",
    "    y_test_with_past = np.array(hf.get('y_test_with_past'))"
   ]
  },
  {
   "cell_type": "code",
   "execution_count": 72,
   "metadata": {
    "collapsed": false
   },
   "outputs": [],
   "source": [
    "# Learning a one component Gaussian over all the features\n",
    "def compute_transition(y, alpha=0.1):\n",
    "    '''\n",
    "    Compute the transition matrice.\n",
    "    Rows: states to\n",
    "    cols: states from\n",
    "    States are indexed starting from 1\n",
    "    '''\n",
    "    num_state = np.max(y)\n",
    "    transition = alpha*np.ones((num_state, num_state))\n",
    "    for i in xrange(y.shape[0]-1):\n",
    "        transition[y[i+1]-1, y[i]-1] += 1\n",
    "    # Normalisation (column should be normalized)\n",
    "    transition /= np.sum(transition, axis=1)[:, np.newaxis]\n",
    "    return transition\n",
    "\n",
    "def compute_emission(x, y):\n",
    "    '''\n",
    "    Compute the parameters of the gaussian distribution\n",
    "    of the emission given each state.\n",
    "    We assume each emission distribution is independent,\n",
    "    the covariance matrix is diagonal then.\n",
    "    States are indexed starting from 1\n",
    "    '''\n",
    "    num_state = np.max(y)\n",
    "    \n",
    "    sigma_diag = np.zeros((num_state, x.shape[1]))\n",
    "    mu = np.zeros((num_state, x.shape[1]))\n",
    "    for s in xrange(num_state):\n",
    "        x_s = x[(y == s+1), :]\n",
    "        # Computing mu_s\n",
    "        mu[s] = np.mean(x_s, axis=0)\n",
    "        # Computing sigma_s (by column)\n",
    "        sigma_diag[s] = np.std(x_s, axis=0)\n",
    "\n",
    "    return mu, sigma_diag\n",
    "\n",
    "def compute_logscore(data, log_transition, mu, sigma_diag, C):\n",
    "    y = np.zeros((C, C))\n",
    "    for j in xrange(C):\n",
    "        y[j, :] = compute_logB(data, mu, sigma_diag, j)\n",
    "\n",
    "    return y + log_transition\n",
    "\n",
    "def compute_logscore_pymc(data, log_transition, means, cov, C):\n",
    "    y = np.zeros((C, C))\n",
    "    for j in xrange(C):\n",
    "        y[j, :] = scipy.stats.multivariate_normal.logpdf(data, mean=means[j], cov=covs[j])\n",
    "    return y + log_transition\n",
    "\n",
    "def viterbi(inputs, init, log_transition, mu, sigma_diag, C):\n",
    "    '''\n",
    "    Evaluates the highest scoring sequence\n",
    "    '''\n",
    "    y = np.zeros((C, C))\n",
    "    initial = np.zeros(C)\n",
    "\n",
    "    initial[init] = 1\n",
    "    initial = np.log(initial)\n",
    "\n",
    "    n = inputs.shape[0]\n",
    "    # To store the maxes\n",
    "    max_table = np.zeros((n, C))\n",
    "    backpointer_table = np.zeros((n, C))\n",
    "\n",
    "    # first timestep\n",
    "    # the initial most likely paths are the initial state distribution\n",
    "    state_init = initial + compute_logscore(inputs[0,:], log_transition, mu, sigma_diag, C)\n",
    "    maxes = np.max(state_init, axis=1)\n",
    "    backpointers = np.argmax(state_init, axis=1)\n",
    "    max_table[0, :] = maxes\n",
    "\n",
    "    for i in xrange(1, n):\n",
    "        # COmputing the score\n",
    "        y = compute_logscore(inputs[i, :], log_transition, mu, sigma_diag, C)\n",
    "        scores = y + np.repeat(maxes.reshape(1, C), C, axis=0)\n",
    "\n",
    "        # compute new maxes\n",
    "        maxes = np.max(scores, axis=1)\n",
    "        backpointers = np.argmax(scores, axis=1)\n",
    "\n",
    "        max_table[i, :] = maxes\n",
    "        backpointer_table[i, :] = backpointers\n",
    "\n",
    "    # follow backpointers to recover max path\n",
    "    classes = np.zeros(n)\n",
    "    classes[n-1] = np.argmax(maxes, axis=0)\n",
    "    for i in xrange(n-1, 0, -1):\n",
    "        classes[i-1] = backpointer_table[i, classes[i]]\n",
    "\n",
    "    return classes\n",
    "\n",
    "def standardize(x):\n",
    "    '''\n",
    "    Standardize each column of x\n",
    "    '''\n",
    "    x_std = np.std(x, axis=0)\n",
    "    x_mu = np.mean(x, axis=0)\n",
    "    \n",
    "    return (x - x_mu)/x_std[np.newaxis, :]\n",
    "\n",
    "def compute_accuracy(pred_classes, true_classes):\n",
    "    '''\n",
    "    Compute accuracy\n",
    "    '''\n",
    "    return np.sum(pred_classes == true_classes) /(1.*len(pred_classes))\n",
    "\n",
    "def compute_logB(data_point, mu, sigma_diag, j):\n",
    "    '''\n",
    "    Compute log(p(x|s_j))\n",
    "    '''\n",
    "    return np.sum([scipy.stats.norm.logpdf(d, loc=mu[j, i], scale=sigma_diag[j, i]) for i, d in enumerate(data_point)])\n",
    "\n",
    "def compute_B(data_point, mu, sigma_diag, j):\n",
    "    '''\n",
    "    Compute p(x|s_j)\n",
    "    '''\n",
    "    return np.prod([scipy.stats.norm.pdf(d, loc=mu[j, i], scale=sigma_diag[j, i]) for i, d in enumerate(data_point)])"
   ]
  },
  {
   "cell_type": "markdown",
   "metadata": {},
   "source": [
    "## 1) Sequence Prediction"
   ]
  },
  {
   "cell_type": "markdown",
   "metadata": {},
   "source": [
    "### Subsample + MLE"
   ]
  },
  {
   "cell_type": "code",
   "execution_count": 73,
   "metadata": {
    "collapsed": false
   },
   "outputs": [
    {
     "name": "stdout",
     "output_type": "stream",
     "text": [
      "(7352, 6)\n"
     ]
    }
   ],
   "source": [
    "# We retain 6 features (known to be independent)\n",
    "\n",
    "x = np.concatenate((x_train[:, :3], x_train[:, 41:44]), axis=1)\n",
    "x_sub_test = np.concatenate((x_test[:, :3], x_test[:, 41:44]), axis=1)\n",
    "print(x.shape)"
   ]
  },
  {
   "cell_type": "code",
   "execution_count": 74,
   "metadata": {
    "collapsed": false
   },
   "outputs": [
    {
     "name": "stdout",
     "output_type": "stream",
     "text": [
      "(7352, 6)\n",
      "(6, 6)\n",
      "(6, 6)\n",
      "(6, 6)\n"
     ]
    }
   ],
   "source": [
    "# Learning the HMM\n",
    "\n",
    "# standardization\n",
    "x_standard = standardize(x)\n",
    "print(x_standard.shape)\n",
    "\n",
    "# ### TRANSITION\n",
    "transition_train = compute_transition(y_train)\n",
    "log_transition_train = np.log(transition_train)\n",
    "print(transition_train.shape)\n",
    "\n",
    "# ### EMISSION\n",
    "mu, sigma_diag = compute_emission(x_standard, y_train)\n",
    "print(mu.shape)\n",
    "print(sigma_diag.shape)"
   ]
  },
  {
   "cell_type": "code",
   "execution_count": 75,
   "metadata": {
    "collapsed": false
   },
   "outputs": [
    {
     "name": "stderr",
     "output_type": "stream",
     "text": [
      "/Users/nicolasdrizard/anaconda/envs/python2/lib/python2.7/site-packages/ipykernel/__main__.py:59: RuntimeWarning: divide by zero encountered in log\n",
      "/Users/nicolasdrizard/anaconda/envs/python2/lib/python2.7/site-packages/ipykernel/__main__.py:89: DeprecationWarning: using a non-integer number instead of an integer will result in an error in the future\n"
     ]
    },
    {
     "name": "stdout",
     "output_type": "stream",
     "text": [
      "ACCURACY train: 0.876666666667\n",
      "CPU times: user 6.93 s, sys: 40.1 ms, total: 6.97 s\n",
      "Wall time: 7.12 s\n"
     ]
    }
   ],
   "source": [
    "%%time\n",
    "# Sequence prediction\n",
    "C = 6\n",
    "sample_size = 3000\n",
    "seq_pred = viterbi(x_standard[:sample_size,:], 4, log_transition_train, mu, sigma_diag, C)\n",
    "# Shifting the index of 1\n",
    "seq_pred += 1\n",
    "print 'ACCURACY train: {}'.format(compute_accuracy(seq_pred, y_train[:sample_size]))"
   ]
  },
  {
   "cell_type": "code",
   "execution_count": 76,
   "metadata": {
    "collapsed": false
   },
   "outputs": [
    {
     "name": "stderr",
     "output_type": "stream",
     "text": [
      "/Users/nicolasdrizard/anaconda/envs/python2/lib/python2.7/site-packages/ipykernel/__main__.py:59: RuntimeWarning: divide by zero encountered in log\n",
      "/Users/nicolasdrizard/anaconda/envs/python2/lib/python2.7/site-packages/ipykernel/__main__.py:89: DeprecationWarning: using a non-integer number instead of an integer will result in an error in the future\n"
     ]
    },
    {
     "name": "stdout",
     "output_type": "stream",
     "text": [
      "ACCURACY test: 0.768917543264\n",
      "CPU times: user 6.73 s, sys: 32.6 ms, total: 6.76 s\n",
      "Wall time: 6.84 s\n"
     ]
    }
   ],
   "source": [
    "%%time\n",
    "x_sub_test_standard = standardize(x_sub_test)\n",
    "seq_pred_test = viterbi(x_sub_test_standard[:sample_size,:], 4, log_transition_train, mu, sigma_diag, C)\n",
    "seq_pred_test += 1\n",
    "print 'ACCURACY test: {}'.format(compute_accuracy(seq_pred_test, y_test[:sample_size]))"
   ]
  },
  {
   "cell_type": "code",
   "execution_count": 193,
   "metadata": {
    "collapsed": false
   },
   "outputs": [
    {
     "name": "stdout",
     "output_type": "stream",
     "text": [
      "[ 5.  5.  5.  5.  5.  5.  5.  5.  5.  5.  5.  5.  5.  5.  5.  5.  5.  5.\n",
      "  5.  5.  5.  5.  5.  5.  5.  5.  5.  5.  5.  5.  5.  5.  5.  5.  5.  5.\n",
      "  5.  5.  5.  5.  5.  5.  5.  5.  5.  5.  5.  5.  5.  5.  5.  5.  5.  5.\n",
      "  5.  6.  6.  6.  6.  6.  6.  6.  6.  6.  6.  6.  6.  6.  6.  6.  6.  6.\n",
      "  6.  6.  6.  6.  6.  6.  6.  1.  1.  1.  1.  1.  1.  1.  1.  1.  1.  1.\n",
      "  1.  1.  1.  1.  1.  1.  1.  1.  1.  1.]\n"
     ]
    }
   ],
   "source": [
    "print seq_pred_test[:100]"
   ]
  },
  {
   "cell_type": "markdown",
   "metadata": {},
   "source": [
    "### Subsample + pyMC"
   ]
  },
  {
   "cell_type": "code",
   "execution_count": 220,
   "metadata": {
    "collapsed": false
   },
   "outputs": [],
   "source": [
    "# We use here the model fited by PyMc\n",
    "means = []\n",
    "covs = []\n",
    "\n",
    "with h5py.File('../HAR/means_covs.hdf5', \"r\") as f:\n",
    "    for k in xrange(6):\n",
    "        means.append(np.array(f.get('mu_{}'.format(k+1))))\n",
    "        # Pymc provides tau, cov = (tau)^{-1}\n",
    "        covs.append(np.linalg.pinv(np.array(f.get('cov_{}'.format(k+1)))))\n",
    "means = np.array(means)\n",
    "covs = np.array(covs)"
   ]
  },
  {
   "cell_type": "code",
   "execution_count": 221,
   "metadata": {
    "collapsed": false
   },
   "outputs": [
    {
     "name": "stderr",
     "output_type": "stream",
     "text": [
      "/Users/nicolasdrizard/anaconda/envs/python2/lib/python2.7/site-packages/ipykernel/__main__.py:59: RuntimeWarning: divide by zero encountered in log\n",
      "/Users/nicolasdrizard/anaconda/envs/python2/lib/python2.7/site-packages/ipykernel/__main__.py:89: DeprecationWarning: using a non-integer number instead of an integer will result in an error in the future\n"
     ]
    },
    {
     "name": "stdout",
     "output_type": "stream",
     "text": [
      "CPU times: user 2 µs, sys: 0 ns, total: 2 µs\n",
      "Wall time: 16 µs\n",
      "ACCURACY train: 0.278\n"
     ]
    }
   ],
   "source": [
    "%%time\n",
    "# Sequence prediction\n",
    "C = 6\n",
    "sample_size = 1000\n",
    "seq_pred = viterbi(x_standard[:sample_size,:], 4, log_transition_train, means, covs, C)\n",
    "# Shifting the index of 1\n",
    "seq_pred += 1\n",
    "print 'ACCURACY train: {}'.format(compute_accuracy(seq_pred, y_train[:sample_size]))"
   ]
  },
  {
   "cell_type": "markdown",
   "metadata": {},
   "source": [
    "### More features"
   ]
  },
  {
   "cell_type": "code",
   "execution_count": 101,
   "metadata": {
    "collapsed": false
   },
   "outputs": [
    {
     "name": "stdout",
     "output_type": "stream",
     "text": [
      "(7352, 18)\n"
     ]
    }
   ],
   "source": [
    "# We retain 6 features (known to be independent)\n",
    "features = [0, 1, 2, 40, 41, 42, 80, 81, 82, 120, 121, 122] + range(555, 561)\n",
    "x_sub_train = x_train[:, features]\n",
    "x_sub_test = x_test[:, features]\n",
    "print(x_sub_train.shape)"
   ]
  },
  {
   "cell_type": "code",
   "execution_count": 106,
   "metadata": {
    "collapsed": false
   },
   "outputs": [
    {
     "name": "stdout",
     "output_type": "stream",
     "text": [
      "(7352, 18)\n",
      "(6, 6)\n",
      "(6, 18)\n",
      "(6, 18)\n"
     ]
    }
   ],
   "source": [
    "# Learning the HMM\n",
    "\n",
    "# standardization\n",
    "x_standard = standardize(x_sub_train)\n",
    "print(x_standard.shape)\n",
    "\n",
    "# ### TRANSITION\n",
    "transition_train = compute_transition(y_train)\n",
    "log_transition_train = np.log(transition_train)\n",
    "print(transition_train.shape)\n",
    "\n",
    "# ### EMISSION\n",
    "mu, sigma_diag = compute_emission(x_standard, y_train)\n",
    "print(mu.shape)\n",
    "print(sigma_diag.shape)"
   ]
  },
  {
   "cell_type": "code",
   "execution_count": 109,
   "metadata": {
    "collapsed": false
   },
   "outputs": [
    {
     "name": "stderr",
     "output_type": "stream",
     "text": [
      "/Users/nicolasdrizard/anaconda/envs/python2/lib/python2.7/site-packages/ipykernel/__main__.py:59: RuntimeWarning: divide by zero encountered in log\n",
      "/Users/nicolasdrizard/anaconda/envs/python2/lib/python2.7/site-packages/ipykernel/__main__.py:89: DeprecationWarning: using a non-integer number instead of an integer will result in an error in the future\n"
     ]
    },
    {
     "name": "stdout",
     "output_type": "stream",
     "text": [
      "ACCURACY train: 0.851666666667\n",
      "CPU times: user 21.4 s, sys: 231 ms, total: 21.6 s\n",
      "Wall time: 23.1 s\n"
     ]
    }
   ],
   "source": [
    "%%time\n",
    "# Sequence prediction\n",
    "C = 6\n",
    "sample_size = 3000\n",
    "seq_pred = viterbi(x_standard[:sample_size,:], 4, log_transition_train, mu, sigma_diag, C)\n",
    "# Shifting the index of 1\n",
    "seq_pred += 1\n",
    "print 'ACCURACY train: {}'.format(compute_accuracy(seq_pred, y_train[:sample_size]))"
   ]
  },
  {
   "cell_type": "code",
   "execution_count": 110,
   "metadata": {
    "collapsed": false
   },
   "outputs": [
    {
     "name": "stderr",
     "output_type": "stream",
     "text": [
      "/Users/nicolasdrizard/anaconda/envs/python2/lib/python2.7/site-packages/ipykernel/__main__.py:59: RuntimeWarning: divide by zero encountered in log\n",
      "/Users/nicolasdrizard/anaconda/envs/python2/lib/python2.7/site-packages/ipykernel/__main__.py:89: DeprecationWarning: using a non-integer number instead of an integer will result in an error in the future\n"
     ]
    },
    {
     "name": "stdout",
     "output_type": "stream",
     "text": [
      "ACCURACY test: 0.772310824567\n",
      "CPU times: user 20.2 s, sys: 163 ms, total: 20.4 s\n",
      "Wall time: 21.2 s\n"
     ]
    }
   ],
   "source": [
    "%%time\n",
    "x_sub_test_standard = standardize(x_sub_test)\n",
    "seq_pred_test = viterbi(x_sub_test_standard[:sample_size,:], 4, log_transition_train, mu, sigma_diag, C)\n",
    "seq_pred_test += 1\n",
    "print 'ACCURACY test: {}'.format(compute_accuracy(seq_pred_test, y_test[:sample_size]))"
   ]
  },
  {
   "cell_type": "code",
   "execution_count": null,
   "metadata": {
    "collapsed": true
   },
   "outputs": [],
   "source": []
  },
  {
   "cell_type": "code",
   "execution_count": null,
   "metadata": {
    "collapsed": true
   },
   "outputs": [],
   "source": []
  },
  {
   "cell_type": "markdown",
   "metadata": {},
   "source": [
    "# Forward Backward algorithm"
   ]
  },
  {
   "cell_type": "code",
   "execution_count": 28,
   "metadata": {
    "collapsed": false
   },
   "outputs": [
    {
     "name": "stdout",
     "output_type": "stream",
     "text": [
      "0.0364018687618\n",
      "-3.31313516605\n"
     ]
    }
   ],
   "source": [
    "print(compute_B(x[0], mu, sigma_diag, 4))\n",
    "print(compute_logB(x[0], mu, sigma_diag, 4))"
   ]
  },
  {
   "cell_type": "code",
   "execution_count": 77,
   "metadata": {
    "collapsed": false
   },
   "outputs": [],
   "source": [
    "def forward(x, init, end, log_transition, mu, sigma_diag):\n",
    "    '''\n",
    "    Compute log(p(X|lambda)) with lambda the HMM parameters\n",
    "    (here transition, mu, sigma_diag)\n",
    "    alpha[t, j] = p(x_1, ... x_t, S(t) = s_j|lambda)\n",
    "    NB:\n",
    "        alpha[0, :] used only as initialization\n",
    "        log-sum-exp trick used\n",
    "    '''\n",
    "    C = mu.shape[0]\n",
    "    T = x.shape[0]\n",
    "    \n",
    "    # Initialization\n",
    "    alpha = np.zeros((T+1, C))\n",
    "    alpha[0, init] = 1\n",
    "    alpha[0,:] = np.log(alpha[0,:])\n",
    "    \n",
    "    # Recursion\n",
    "    for t in xrange(1, T+1):\n",
    "        \n",
    "        for j in xrange(C):\n",
    "            # Compute log p(S(t)|x_1, ..., x_{t-1})\n",
    "            a = alpha[t-1, :] + log_transition[j,:]\n",
    "            # Compute log evidence at time t in [1, T], array index shifted of 1\n",
    "            b_t_j = compute_logB(x[t-1], mu, sigma_diag, j)\n",
    "            a += b_t_j\n",
    "            # log-sum-exp trick\n",
    "            max_a = np.max(a)\n",
    "            alpha[t, j] = max_a + np.log(np.sum(np.exp(a - max_a)))\n",
    "        # Normalization\n",
    "        Z_t = np.sum(np.exp(alpha[t, :]))\n",
    "        alpha[t,:] -= np.log(Z_t) \n",
    "    \n",
    "    # Termination\n",
    "    #b_t_j = compute_logB(x[T-1], mu, sigma_diag, end)\n",
    "    #a = b_t_j + alpha[T, :] + log_transition[:,end]\n",
    "    #max_a = np.max(a)\n",
    "    #alpha[T, end] = max_a + np.log(np.sum(np.exp(a - max_a)))\n",
    "    # Normalization\n",
    "    #Z_T = np.sum(np.exp(alpha[, :]))\n",
    "    #alpha[t,:] -= np.log(Z_t)\n",
    "    \n",
    "    return alpha\n",
    "\n",
    "def backward(x, init, end, log_transition, mu, sigma_diag):\n",
    "    '''\n",
    "    Compute the log backward probabilities.\n",
    "    beta[t, j] = p(x_{t+1}, ..., x_{T}| S(t) = s_j, lambda)\n",
    "    '''\n",
    "    C = mu.shape[0]\n",
    "    T = x.shape[0]\n",
    "    # Initialization\n",
    "    beta = np.zeros((T+1, C))\n",
    "    for i in xrange(C):\n",
    "        beta[T, i] = log_transition[end, i]\n",
    "    \n",
    "    # Recursion\n",
    "    for t in xrange(T-1, 0, -1):\n",
    "        for j in xrange(C):\n",
    "            a = beta[t+1, :] + log_transition[:,j]\n",
    "            for i in xrange(C):\n",
    "                b_t_i = compute_logB(x[t], mu, sigma_diag, i)\n",
    "                a[i] += b_t_i\n",
    "            max_a = np.max(a)\n",
    "            beta[t, j] = max_a + np.log(np.sum(np.exp(a - max_a))) \n",
    "    \n",
    "    # Termination\n",
    "    a = beta[1, :] + log_transition[:, init]\n",
    "    for i in xrange(C):\n",
    "        b_t_i = compute_logB(x[0], mu, sigma_diag, i)\n",
    "        a[i] += b_t_i\n",
    "    max_a = np.max(a)\n",
    "    beta[0, init] = max_a + np.log(np.sum(np.exp(a - max_a))) \n",
    "        \n",
    "    return beta\n",
    "\n",
    "def compute_state_probability(alpha, beta):\n",
    "    '''\n",
    "    compute state occupation log probability\n",
    "    '''\n",
    "    # Removing the initialization\n",
    "    gamma = alpha[1:, :] + beta[:-1, :]\n",
    "    # Normalization with log-sum-exp trick\n",
    "    for t in xrange(gamma.shape[0]):\n",
    "        row_max = np.max(gamma[t, :])\n",
    "        Z_row = row_max + np.log(np.sum(np.exp(gamma[t, :] - row_max)))\n",
    "        gamma[t, :] -= Z_row\n",
    "    return gamma\n",
    "\n",
    "def compute_state_transition(x, alpha, beta, log_transition, mu, sigma_diag):\n",
    "    '''\n",
    "    Compute log(p(S(t) = s_i, S(t+1) = s_j| X, lambda))\n",
    "    '''\n",
    "    T = x.shape[0]\n",
    "    C = mu.shape[0]\n",
    "    psi = np.zeros((T, C, C))\n",
    "    for t in xrange(T):\n",
    "        for j in xrange(C):\n",
    "            b_t_j = compute_logB(x[t], mu, sigma_diag, j)\n",
    "            for i in xrange(C):\n",
    "                psi[t, i, j] = alpha[t, i] + log_transition[j, i] + beta[t+1, j] + b_t_j\n",
    "        # Normalization with log sum exp trick\n",
    "        mat_max = np.max(psi[t, :, :])\n",
    "        Z_mat = mat_max + np.log(np.sum(np.exp(psi[t, :, :] - mat_max)))\n",
    "        psi[t, :, :] -= Z_mat\n",
    "    \n",
    "    return psi\n",
    "    \n",
    "    \n",
    "def forward_backward(x, init, end, log_transition, mu, sigma_diag, n_iterations):\n",
    "    '''\n",
    "    EM algorithm to fit an HMM to a sequence of observation.\n",
    "    Take as argnument an initial HMM and returns a finer one.\n",
    "    '''\n",
    "    T = x.shape[0]\n",
    "    C = mu.shape[0]\n",
    "    \n",
    "    # Copying object\n",
    "    mu = mu.copy()\n",
    "    sigma_diag = sigma_diag.copy()\n",
    "    log_transition = log_transition.copy()\n",
    "    \n",
    "    for it in xrange(n_iterations):\n",
    "        # ##### E-step: estimate the state occupation probabilities (in LOG)\n",
    "        log_alpha = forward(x, init, end, log_transition, mu, sigma_diag)\n",
    "        log_beta = backward(x, init, end, log_transition, mu, sigma_diag)\n",
    "        log_state_probability = compute_state_probability(log_alpha, log_beta)\n",
    "        log_state_transition = compute_state_transition(x, log_alpha, log_beta, log_transition, mu, sigma_diag)\n",
    "\n",
    "        # ##### M-step: re-estimate HMM parameers\n",
    "        state_probability = np.exp(log_state_probability)\n",
    "        \n",
    "        # Mu\n",
    "        denom = np.sum(state_probability, axis=0)[np.newaxis, :]\n",
    "        mu = np.dot(state_probability.T, x)/denom\n",
    "    \n",
    "        # Sigma_diag (stands for the standard deviation)\n",
    "        for j in xrange(C):\n",
    "            diff = x - mu[j]\n",
    "            numerator = 0\n",
    "            for t in xrange(T):\n",
    "                numerator += state_probability[t, j]*(diff[t, :])**2\n",
    "            sigma_diag[:, j] = numerator\n",
    "        sigma_diag /= denom\n",
    "        # Standard deviation from the variance\n",
    "        sigma_diag = np.sqrt(sigma_diag)\n",
    "        \n",
    "        # Transition \n",
    "        state_transition = np.exp(log_state_transition)\n",
    "        for j in xrange(C):\n",
    "            for i in xrange(C):\n",
    "                log_transition[i, j] = np.log(np.sum(state_transition[:, i, j]))\n",
    "            # Normalization\n",
    "            log_transition[:,j] -= np.log(np.sum(np.exp(log_transition[:, j])))\n",
    "    \n",
    "    return log_transition, mu, sigma_diag\n",
    "    "
   ]
  },
  {
   "cell_type": "code",
   "execution_count": 389,
   "metadata": {
    "collapsed": false
   },
   "outputs": [
    {
     "data": {
      "text/plain": [
       "array([[-0.03526312, -9.41458649, -9.41458649, -9.41458649, -9.41458649,\n",
       "        -3.37195365],\n",
       "       [-9.28042598, -0.05116572, -2.9870067 , -9.28042598, -9.28042598,\n",
       "        -9.28042598],\n",
       "       [-3.15421695, -4.24808989, -0.05897258, -9.19684978, -9.19684978,\n",
       "        -9.19684978],\n",
       "       [-9.46234345, -9.46234345, -9.46234345, -0.03439482, -3.41971062,\n",
       "        -7.06444818],\n",
       "       [-9.52850315, -3.55979559, -6.48398071, -9.52850315, -0.03140614,\n",
       "        -9.52850315],\n",
       "       [-9.5522265 , -9.5522265 , -9.5522265 , -3.48611841, -9.5522265 ,\n",
       "        -0.03139126]])"
      ]
     },
     "execution_count": 389,
     "metadata": {},
     "output_type": "execute_result"
    }
   ],
   "source": [
    "log_transition_train"
   ]
  },
  {
   "cell_type": "code",
   "execution_count": 489,
   "metadata": {
    "collapsed": false
   },
   "outputs": [
    {
     "name": "stdout",
     "output_type": "stream",
     "text": [
      "CPU times: user 18.7 s, sys: 144 ms, total: 18.9 s\n",
      "Wall time: 20 s\n"
     ]
    },
    {
     "name": "stderr",
     "output_type": "stream",
     "text": [
      "/Users/nicolasdrizard/anaconda/envs/python2/lib/python2.7/site-packages/ipykernel/__main__.py:16: RuntimeWarning: divide by zero encountered in log\n"
     ]
    }
   ],
   "source": [
    "%%time\n",
    "alpha = forward(x_standard, 4, 1, log_transition_train, mu, sigma_diag)"
   ]
  },
  {
   "cell_type": "code",
   "execution_count": 490,
   "metadata": {
    "collapsed": false
   },
   "outputs": [
    {
     "data": {
      "text/plain": [
       "array([[            -inf,             -inf,             -inf,\n",
       "                    -inf,   0.00000000e+00,             -inf],\n",
       "       [ -9.80446686e+00,  -1.39896121e+01,  -1.19783671e+01,\n",
       "         -7.03481900e+00,  -9.43447673e-04,  -2.00466250e+01],\n",
       "       [ -1.03542142e+01,  -1.45166617e+01,  -1.26468058e+01,\n",
       "         -7.16116529e+00,  -8.12053327e-04,  -2.00159851e+01],\n",
       "       ..., \n",
       "       [ -7.08676390e+00,  -1.94890746e+00,  -1.83726911e+00,\n",
       "         -8.44569428e+00,  -3.60585802e-01,  -1.91747196e+01],\n",
       "       [ -6.57819792e+00,  -4.20977316e+00,  -3.55021758e+00,\n",
       "         -8.09704220e+00,  -4.63192843e-02,  -2.03699196e+01],\n",
       "       [ -6.09512926e+00,  -1.44331336e+00,  -3.36134569e-01,\n",
       "         -5.10653272e+00,  -3.19374796e+00,  -1.49951343e+01]])"
      ]
     },
     "execution_count": 490,
     "metadata": {},
     "output_type": "execute_result"
    }
   ],
   "source": [
    "alpha"
   ]
  },
  {
   "cell_type": "code",
   "execution_count": 493,
   "metadata": {
    "collapsed": false
   },
   "outputs": [
    {
     "name": "stdout",
     "output_type": "stream",
     "text": [
      "CPU times: user 1min 56s, sys: 1.67 s, total: 1min 58s\n",
      "Wall time: 2min 15s\n"
     ]
    }
   ],
   "source": [
    "%%time\n",
    "beta = backward(x_standard, 4, 1, transition_train, mu, sigma_diag)"
   ]
  },
  {
   "cell_type": "code",
   "execution_count": 494,
   "metadata": {
    "collapsed": false
   },
   "outputs": [
    {
     "data": {
      "text/plain": [
       "array([[  0.00000000e+00,   0.00000000e+00,   0.00000000e+00,\n",
       "          0.00000000e+00,  -2.82025248e+04,   0.00000000e+00],\n",
       "       [ -2.82035546e+04,  -2.82036674e+04,  -2.82036782e+04,\n",
       "         -2.82036825e+04,  -2.82027995e+04,  -2.82036924e+04],\n",
       "       [ -2.82040604e+04,  -2.82041555e+04,  -2.82041677e+04,\n",
       "         -2.82041713e+04,  -2.82032789e+04,  -2.82041812e+04],\n",
       "       ..., \n",
       "       [ -3.45021693e+00,  -3.91616739e+00,  -3.88044103e+00,\n",
       "         -4.00569347e+00,  -3.51574398e+00,  -3.99576295e+00],\n",
       "       [ -3.53398986e+00,  -2.93914639e+00,  -3.08190562e+00,\n",
       "         -3.58311880e+00,  -3.58653686e+00,  -3.58678986e+00],\n",
       "       [  9.32314003e-05,   9.50121201e-01,   5.04381876e-02,\n",
       "          9.32314003e-05,   9.32314003e-05,   9.32314003e-05]])"
      ]
     },
     "execution_count": 494,
     "metadata": {},
     "output_type": "execute_result"
    }
   ],
   "source": [
    "beta"
   ]
  },
  {
   "cell_type": "code",
   "execution_count": 536,
   "metadata": {
    "collapsed": false
   },
   "outputs": [
    {
     "name": "stdout",
     "output_type": "stream",
     "text": [
      "CPU times: user 81.4 ms, sys: 2.41 ms, total: 83.8 ms\n",
      "Wall time: 84.8 ms\n"
     ]
    }
   ],
   "source": [
    "%%time\n",
    "log_state_probability = compute_state_probability(alpha, beta)"
   ]
  },
  {
   "cell_type": "code",
   "execution_count": 537,
   "metadata": {
    "collapsed": false
   },
   "outputs": [
    {
     "data": {
      "text/plain": [
       "array([[ -2.83802551e+00,  -7.02317075e+00,  -5.01192578e+00,\n",
       "         -6.83776589e-02,  -2.81955593e+04,  -1.30801836e+01],\n",
       "       [ -1.11088726e+01,  -1.53841452e+01,  -1.35250562e+01,\n",
       "         -8.04372249e+00,  -3.37693429e-04,  -2.09084622e+01],\n",
       "       [ -1.15404438e+01,  -1.54912197e+01,  -1.36921102e+01,\n",
       "         -8.12898073e+00,  -3.05963196e-04,  -2.10565007e+01],\n",
       "       ..., \n",
       "       [ -7.02242111e+00,  -2.36639478e+00,  -2.22747367e+00,\n",
       "         -8.90506017e+00,  -2.26456718e-01,  -1.96242644e+01],\n",
       "       [ -6.49887639e+00,  -4.59640208e+00,  -3.90112015e+00,\n",
       "         -8.57319719e+00,  -3.25247973e-02,  -2.08361441e+01],\n",
       "       [ -6.56384937e+00,  -1.31719001e+00,  -3.52770436e-01,\n",
       "         -5.62438178e+00,  -3.71501507e+00,  -1.55166544e+01]])"
      ]
     },
     "execution_count": 537,
     "metadata": {},
     "output_type": "execute_result"
    }
   ],
   "source": [
    "log_state_probability"
   ]
  },
  {
   "cell_type": "code",
   "execution_count": 518,
   "metadata": {
    "collapsed": false
   },
   "outputs": [
    {
     "name": "stdout",
     "output_type": "stream",
     "text": [
      "CPU times: user 17.6 s, sys: 152 ms, total: 17.8 s\n",
      "Wall time: 18.2 s\n"
     ]
    }
   ],
   "source": [
    "%%time\n",
    "log_state_transition = compute_state_transition(x_standard, alpha, beta, log_transition_train, mu, sigma_diag)"
   ]
  },
  {
   "cell_type": "code",
   "execution_count": 525,
   "metadata": {
    "collapsed": false
   },
   "outputs": [
    {
     "data": {
      "text/plain": [
       "array([[[            -inf,             -inf,             -inf,\n",
       "                     -inf,             -inf,             -inf],\n",
       "        [            -inf,             -inf,             -inf,\n",
       "                     -inf,             -inf,             -inf],\n",
       "        [            -inf,             -inf,             -inf,\n",
       "                     -inf,             -inf,             -inf],\n",
       "        [            -inf,             -inf,             -inf,\n",
       "                     -inf,             -inf,             -inf],\n",
       "        [ -1.05590495e+01,  -1.48570199e+01,  -1.28565418e+01,\n",
       "          -7.91730049e+00,  -3.93382266e-04,  -2.09390263e+01],\n",
       "        [            -inf,             -inf,             -inf,\n",
       "                     -inf,             -inf,             -inf]],\n",
       "\n",
       "       [[ -1.20633856e+01,  -2.52092080e+01,  -1.73755579e+01,\n",
       "          -2.39249540e+01,  -1.93009548e+01,  -3.10434321e+01],\n",
       "        [ -2.56278542e+01,  -2.01650930e+01,  -2.26545761e+01,\n",
       "          -2.81100993e+01,  -1.75173925e+01,  -3.52285773e+01],\n",
       "        [ -2.36166092e+01,  -2.10896890e+01,  -1.64542138e+01,\n",
       "          -2.60988543e+01,  -1.84303326e+01,  -3.32173323e+01],\n",
       "        [ -1.86730611e+01,  -2.24395602e+01,  -2.06485429e+01,\n",
       "          -1.17273575e+01,  -1.65313070e+01,  -2.22076761e+01],\n",
       "        [ -1.16391855e+01,  -1.54056846e+01,  -1.36146673e+01,\n",
       "          -8.07879779e+00,  -3.34393808e-04,  -2.12399087e+01],\n",
       "        [ -2.56422342e+01,  -3.54513662e+01,  -3.36603489e+01,\n",
       "          -3.17692169e+01,  -2.95431129e+01,  -3.17647550e+01]],\n",
       "\n",
       "       [[ -1.27696897e+01,  -2.58298706e+01,  -1.80206621e+01,\n",
       "          -2.45254178e+01,  -1.98508126e+01,  -3.16753193e+01],\n",
       "        [ -2.63114605e+01,  -2.07630578e+01,  -2.32769825e+01,\n",
       "          -2.86878653e+01,  -1.80445525e+01,  -3.58377668e+01],\n",
       "        [ -2.44416046e+01,  -2.18290429e+01,  -1.72180093e+01,\n",
       "          -2.68180094e+01,  -1.90988817e+01,  -3.39679109e+01],\n",
       "        [ -1.89559641e+01,  -2.26368217e+01,  -2.08702460e+01,\n",
       "          -1.19044203e+01,  -1.66577636e+01,  -2.24161623e+01],\n",
       "        [ -1.17956109e+01,  -1.54764685e+01,  -1.37098928e+01,\n",
       "          -8.12938282e+00,  -3.13381843e-04,  -2.13219171e+01],\n",
       "        [ -2.57681511e+01,  -3.54916415e+01,  -3.37250658e+01,\n",
       "          -3.17892934e+01,  -2.95125834e+01,  -3.18162549e+01]],\n",
       "\n",
       "       ..., \n",
       "       [[ -7.31726783e+00,  -1.95889113e+01,  -1.26233514e+01,\n",
       "          -2.16843041e+01,  -1.66515156e+01,  -2.82219817e+01],\n",
       "        [ -8.61205544e+00,  -2.27511533e+00,  -5.63268860e+00,\n",
       "          -1.35997683e+01,  -2.59827224e+00,  -2.01374459e+01],\n",
       "        [ -9.29965778e+00,  -5.89855865e+00,  -2.13117364e+00,\n",
       "          -1.42873707e+01,  -6.21005970e+00,  -2.08250483e+01],\n",
       "        [ -1.89006199e+01,  -2.17929400e+01,  -2.08700129e+01,\n",
       "          -1.44603841e+01,  -1.88555443e+01,  -2.43599023e+01],\n",
       "        [ -9.90653743e+00,  -1.27988576e+01,  -1.18759305e+01,\n",
       "          -8.85161747e+00,  -3.64364775e-01,  -2.14319279e+01],\n",
       "        [ -2.10153738e+01,  -2.99503268e+01,  -2.90273997e+01,\n",
       "          -2.96478243e+01,  -2.70129310e+01,  -2.90625619e+01]],\n",
       "\n",
       "       [[ -6.65373235e+00,  -1.80195468e+01,  -1.14364237e+01,\n",
       "          -2.09044440e+01,  -1.63078623e+01,  -2.75772808e+01],\n",
       "        [ -1.08951993e+01,  -3.65243007e+00,  -7.39244022e+00,\n",
       "          -1.57665876e+01,  -5.20129835e+00,  -2.24394243e+01],\n",
       "        [ -1.07835609e+01,  -6.47663269e+00,  -3.09168455e+00,\n",
       "          -1.56549492e+01,  -8.01384512e+00,  -2.23277860e+01],\n",
       "        [ -1.73919861e+01,  -1.93784771e+01,  -1.88379869e+01,\n",
       "          -1.28354258e+01,  -1.76667927e+01,  -2.28701031e+01],\n",
       "        [ -9.30687761e+00,  -1.12933687e+01,  -1.07528784e+01,\n",
       "          -8.13563309e+00,  -8.45872296e-02,  -2.08511027e+01],\n",
       "        [ -2.20783786e+01,  -3.01075025e+01,  -2.95670122e+01,\n",
       "          -3.05945044e+01,  -2.83958180e+01,  -3.01444012e+01]],\n",
       "\n",
       "       [[ -6.49857654e+00,  -1.25389740e+01,  -6.76708673e+00,\n",
       "          -1.80350849e+01,  -1.95677861e+01,  -2.20409292e+01],\n",
       "        [ -1.35094751e+01,  -9.41288984e-01,  -5.49253491e+00,\n",
       "          -1.56666601e+01,  -1.12306538e+01,  -1.96725044e+01],\n",
       "        [ -1.28499196e+01,  -3.21757438e+00,  -6.43862023e-01,\n",
       "          -1.50071045e+01,  -1.34952833e+01,  -1.90129489e+01],\n",
       "        [ -1.73967442e+01,  -1.40578183e+01,  -1.43285638e+01,\n",
       "          -1.01259805e+01,  -2.10866304e+01,  -1.74936654e+01],\n",
       "        [ -9.34602126e+00,  -6.00709536e+00,  -6.27784093e+00,\n",
       "          -5.46057341e+00,  -3.53881045e+00,  -1.55090506e+01],\n",
       "        [ -2.36269887e+01,  -2.63306957e+01,  -2.66014412e+01,\n",
       "          -2.94289113e+01,  -3.33595078e+01,  -2.63118156e+01]]])"
      ]
     },
     "execution_count": 525,
     "metadata": {},
     "output_type": "execute_result"
    }
   ],
   "source": [
    "log_state_transition"
   ]
  },
  {
   "cell_type": "code",
   "execution_count": 538,
   "metadata": {
    "collapsed": false
   },
   "outputs": [],
   "source": [
    "state_probability = np.exp(log_state_probability)\n",
    "    \n",
    "denom = np.sum(state_probability, axis=0)[np.newaxis, :]\n",
    "mu_new = np.dot(state_probability.T, x_standard)/denom"
   ]
  },
  {
   "cell_type": "code",
   "execution_count": 588,
   "metadata": {
    "collapsed": false
   },
   "outputs": [
    {
     "data": {
      "text/plain": [
       "array([[ 0.03356389,  0.01105426,  0.01057963, -0.71033201, -0.36212407,\n",
       "        -0.15569301],\n",
       "       [-0.11891079, -0.17461568, -0.15459098, -0.96517308, -0.62964239,\n",
       "         0.20831907],\n",
       "       [ 0.11522654, -0.01146936,  0.01763806, -0.45692365, -0.18504464,\n",
       "         0.09718053],\n",
       "       [ 0.03289123,  0.06227521,  0.00377912,  0.35632647,  0.158786  ,\n",
       "        -0.14840064],\n",
       "       [ 0.06208901,  0.02523136,  0.01186778, -0.75999966, -0.30079598,\n",
       "        -0.39557379],\n",
       "       [-0.12485988,  0.0875242 ,  0.11072639,  2.53610192,  1.31882108,\n",
       "         0.39416784]])"
      ]
     },
     "execution_count": 588,
     "metadata": {},
     "output_type": "execute_result"
    }
   ],
   "source": [
    "mu_new"
   ]
  },
  {
   "cell_type": "code",
   "execution_count": 589,
   "metadata": {
    "collapsed": false
   },
   "outputs": [
    {
     "data": {
      "text/plain": [
       "array([[ 0.02522293, -0.00177132,  0.0045369 , -0.56560315, -0.45669749,\n",
       "        -0.16650716],\n",
       "       [-0.1787534 , -0.21936092, -0.19922794, -0.80040918, -0.69653595,\n",
       "         0.23307432],\n",
       "       [ 0.1947258 ,  0.03247523,  0.05793074, -0.47849408, -0.42016397,\n",
       "         0.20147609],\n",
       "       [-0.01479045,  0.13607265,  0.04520951,  0.30031038,  0.1961177 ,\n",
       "        -0.18645536],\n",
       "       [ 0.06840119,  0.03853049,  0.03198569, -0.5189657 , -0.34882962,\n",
       "        -0.30448021],\n",
       "       [-0.07539678, -0.01592395,  0.03482719,  1.67087662,  1.38497542,\n",
       "         0.29390974]])"
      ]
     },
     "execution_count": 589,
     "metadata": {},
     "output_type": "execute_result"
    }
   ],
   "source": [
    "mu"
   ]
  },
  {
   "cell_type": "code",
   "execution_count": 566,
   "metadata": {
    "collapsed": false
   },
   "outputs": [],
   "source": [
    "sigma_diag_new = np.zeros((C, C))\n",
    "for j in xrange(C):\n",
    "    diff = x_standard - mu_new[j]\n",
    "    sigma_diag_new[:, j] = np.std(diff * np.sqrt(np.abs(state_probability[:,j]))[:, np.newaxis], axis=0)\n",
    "sigma_diag_new /= denom"
   ]
  },
  {
   "cell_type": "code",
   "execution_count": 584,
   "metadata": {
    "collapsed": true
   },
   "outputs": [],
   "source": [
    "sigma_diag_new2 = np.zeros((C, C))\n",
    "for j in xrange(C):\n",
    "    diff = x_standard - mu_new[j]\n",
    "    numerator = 0\n",
    "    for t in xrange(x_standard.shape[0]):\n",
    "        numerator += state_probability[t, j]*(diff[t, :])**2\n",
    "    sigma_diag_new2[:, j] = numerator\n",
    "sigma_diag_new2 /= denom\n",
    "sigma_diag_new2 = np.sqrt(sigma_diag_new2)"
   ]
  },
  {
   "cell_type": "code",
   "execution_count": 572,
   "metadata": {
    "collapsed": false
   },
   "outputs": [
    {
     "data": {
      "text/plain": [
       "array([ 0.0062025 ,  0.00133846,  0.01646623,  0.50740366,  0.09251682,\n",
       "        0.02549438])"
      ]
     },
     "execution_count": 572,
     "metadata": {},
     "output_type": "execute_result"
    }
   ],
   "source": [
    "t = 0\n",
    "j = 0\n",
    "state_probability[t, j]*(diff[t, :])**2"
   ]
  },
  {
   "cell_type": "code",
   "execution_count": 573,
   "metadata": {
    "collapsed": false
   },
   "outputs": [
    {
     "data": {
      "text/plain": [
       "0.058541140568316746"
      ]
     },
     "execution_count": 573,
     "metadata": {},
     "output_type": "execute_result"
    }
   ],
   "source": [
    "state_probability[t, j]"
   ]
  },
  {
   "cell_type": "code",
   "execution_count": 574,
   "metadata": {
    "collapsed": false
   },
   "outputs": [
    {
     "data": {
      "text/plain": [
       "array([ 0.10595119,  0.0228635 ,  0.28127626,  8.66747144,  1.58037271,\n",
       "        0.43549506])"
      ]
     },
     "execution_count": 574,
     "metadata": {},
     "output_type": "execute_result"
    }
   ],
   "source": [
    "(diff[t, :])**2"
   ]
  },
  {
   "cell_type": "code",
   "execution_count": 585,
   "metadata": {
    "collapsed": false
   },
   "outputs": [
    {
     "data": {
      "text/plain": [
       "array([[ 0.71640716,  0.51146808,  0.57251528,  0.2204994 ,  0.46464535,\n",
       "         0.16410181],\n",
       "       [ 1.11010689,  0.90720976,  1.06258925,  0.2658547 ,  0.57818387,\n",
       "         0.51386202],\n",
       "       [ 1.35294292,  0.66268894,  0.89404002,  0.24217263,  0.4707116 ,\n",
       "         0.37867326],\n",
       "       [ 0.59754132,  0.79416585,  0.80001113,  0.5011433 ,  0.6398332 ,\n",
       "         0.79073217],\n",
       "       [ 0.28594946,  0.43716819,  0.6298047 ,  0.27047212,  0.46420367,\n",
       "         0.3867504 ],\n",
       "       [ 1.44478089,  1.80077441,  1.5841213 ,  0.84965169,  1.13787962,\n",
       "         1.96969504]])"
      ]
     },
     "execution_count": 585,
     "metadata": {},
     "output_type": "execute_result"
    }
   ],
   "source": [
    "sigma_diag"
   ]
  },
  {
   "cell_type": "code",
   "execution_count": 586,
   "metadata": {
    "collapsed": false
   },
   "outputs": [
    {
     "data": {
      "text/plain": [
       "array([[  2.30554439e-04,   4.10772398e-04,   4.95822233e-04,\n",
       "          1.41061848e-04,   3.30909761e-05,   4.59421014e-04],\n",
       "       [  1.55652653e-04,   3.17420743e-04,   2.63945856e-04,\n",
       "          1.91344261e-04,   7.26296199e-05,   5.69999220e-04],\n",
       "       [  1.77785442e-04,   3.82485452e-04,   3.53593949e-04,\n",
       "          2.06670133e-04,   9.94751635e-05,   5.16440810e-04],\n",
       "       [  7.42602795e-05,   7.94035152e-05,   7.53626986e-05,\n",
       "          1.69745702e-04,   1.13601560e-04,   3.27960533e-04],\n",
       "       [  1.52734624e-04,   2.44624221e-04,   1.53729793e-04,\n",
       "          2.39289368e-04,   1.33442341e-04,   2.81330024e-04],\n",
       "       [  4.55649733e-05,   1.90327290e-04,   1.15648745e-04,\n",
       "          1.46776860e-04,   3.88517025e-05,   6.10417457e-04]])"
      ]
     },
     "execution_count": 586,
     "metadata": {},
     "output_type": "execute_result"
    }
   ],
   "source": [
    "sigma_diag_new"
   ]
  },
  {
   "cell_type": "code",
   "execution_count": 587,
   "metadata": {
    "collapsed": false
   },
   "outputs": [
    {
     "data": {
      "text/plain": [
       "array([[ 0.69803711,  1.17902575,  1.28559381,  0.37834656,  0.11370342,\n",
       "         1.52138601],\n",
       "       [ 0.47126296,  0.91111854,  0.68439498,  0.51317881,  0.24914702,\n",
       "         1.8875513 ],\n",
       "       [ 0.53827752,  1.09797993,  0.9168255 ,  0.55427504,  0.34122698,\n",
       "         1.71029581],\n",
       "       [ 0.23535667,  0.23916148,  0.197197  ,  0.45556115,  0.41684469,\n",
       "         1.16538881],\n",
       "       [ 0.46526612,  0.70848496,  0.40628037,  0.64280809,  0.45784718,\n",
       "         0.93218481],\n",
       "       [ 0.13845166,  0.54662518,  0.30018854,  0.39455191,  0.13598366,\n",
       "         2.0213701 ]])"
      ]
     },
     "execution_count": 587,
     "metadata": {},
     "output_type": "execute_result"
    }
   ],
   "source": [
    "sigma_diag_new2"
   ]
  },
  {
   "cell_type": "code",
   "execution_count": 61,
   "metadata": {
    "collapsed": false
   },
   "outputs": [],
   "source": [
    "for j in xrange(C):\n",
    "    log_transition_train2[:,j] -= np.log(np.sum(np.exp(log_transition_train2[:, j])))"
   ]
  },
  {
   "cell_type": "code",
   "execution_count": 581,
   "metadata": {
    "collapsed": false
   },
   "outputs": [
    {
     "data": {
      "text/plain": [
       "array([[ -3.64585122, -11.94525074,  -6.96923301, -15.5181864 ,\n",
       "        -13.72170815,  -9.3609343 ],\n",
       "       [-12.63756534,  -3.75222689,  -8.71952589, -15.27760616,\n",
       "         -7.18035477,  -9.42512237],\n",
       "       [-12.59086519,  -7.00424069,  -3.96467589, -15.77714722,\n",
       "        -10.47246074, -10.66642844],\n",
       "       [-13.08084501, -13.74388952, -14.0022585 ,  -3.8912238 ,\n",
       "        -12.52021385,  -6.80869384],\n",
       "       [-13.80832909,  -9.28884759, -11.73486159,  -7.02889944,\n",
       "         -3.40324794,  -7.61915268],\n",
       "       [ -6.98018803, -10.52376177, -11.10211928,  -9.40446002,\n",
       "        -12.65426829,  -3.50104651]])"
      ]
     },
     "execution_count": 581,
     "metadata": {},
     "output_type": "execute_result"
    }
   ],
   "source": [
    "log_transition"
   ]
  },
  {
   "cell_type": "code",
   "execution_count": 582,
   "metadata": {
    "collapsed": false
   },
   "outputs": [
    {
     "data": {
      "text/plain": [
       "array([[-0.03526312, -9.41458649, -9.41458649, -9.41458649, -9.41458649,\n",
       "        -3.37195365],\n",
       "       [-9.28042598, -0.05116572, -2.9870067 , -9.28042598, -9.28042598,\n",
       "        -9.28042598],\n",
       "       [-3.15421695, -4.24808989, -0.05897258, -9.19684978, -9.19684978,\n",
       "        -9.19684978],\n",
       "       [-9.46234345, -9.46234345, -9.46234345, -0.03439482, -3.41971062,\n",
       "        -7.06444818],\n",
       "       [-9.52850315, -3.55979559, -6.48398071, -9.52850315, -0.03140614,\n",
       "        -9.52850315],\n",
       "       [-9.5522265 , -9.5522265 , -9.5522265 , -3.48611841, -9.5522265 ,\n",
       "        -0.03139126]])"
      ]
     },
     "execution_count": 582,
     "metadata": {},
     "output_type": "execute_result"
    }
   ],
   "source": [
    "log_transition_train"
   ]
  },
  {
   "cell_type": "markdown",
   "metadata": {},
   "source": [
    "### TEST FB"
   ]
  },
  {
   "cell_type": "code",
   "execution_count": 93,
   "metadata": {
    "collapsed": false
   },
   "outputs": [
    {
     "name": "stdout",
     "output_type": "stream",
     "text": [
      "CPU times: user 2min 26s, sys: 1.66 s, total: 2min 28s\n",
      "Wall time: 2min 41s\n"
     ]
    },
    {
     "name": "stderr",
     "output_type": "stream",
     "text": [
      "/Users/nicolasdrizard/anaconda/envs/python2/lib/python2.7/site-packages/ipykernel/__main__.py:16: RuntimeWarning: divide by zero encountered in log\n"
     ]
    }
   ],
   "source": [
    "%%time\n",
    "init = 4\n",
    "end = 1\n",
    "n_iterations = 1\n",
    "log_transition_train3, mu3, sigma_diag3 = forward_backward(x_standard, init, end, log_transition_train2, mu2, sigma_diag2, n_iterations)"
   ]
  },
  {
   "cell_type": "code",
   "execution_count": 95,
   "metadata": {
    "collapsed": false
   },
   "outputs": [
    {
     "name": "stdout",
     "output_type": "stream",
     "text": [
      "[[ 0.02522293 -0.00177132  0.0045369  -0.56560315 -0.45669749 -0.16650716]\n",
      " [-0.1787534  -0.21936092 -0.19922794 -0.80040918 -0.69653595  0.23307432]\n",
      " [ 0.1947258   0.03247523  0.05793074 -0.47849408 -0.42016397  0.20147609]\n",
      " [-0.01479045  0.13607265  0.04520951  0.30031038  0.1961177  -0.18645536]\n",
      " [ 0.06840119  0.03853049  0.03198569 -0.5189657  -0.34882962 -0.30448021]\n",
      " [-0.07539678 -0.01592395  0.03482719  1.67087662  1.38497542  0.29390974]]\n",
      "[[ 0.03047047  0.00614208  0.01634892 -0.75639405 -0.32594792 -0.15097713]\n",
      " [-0.11167925 -0.16113411 -0.1574661  -1.09799345 -0.60916783  0.23507314]\n",
      " [ 0.13023048 -0.00384958  0.01150092 -0.4600853  -0.15943268  0.10107851]\n",
      " [ 0.01879315  0.04794091 -0.018312    0.43814374  0.18712404 -0.14245351]\n",
      " [ 0.06033065  0.02498768  0.00380992 -0.83389237 -0.30337591 -0.43920883]\n",
      " [-0.12814551  0.08591302  0.14411833  2.71022143  1.21080031  0.39648781]]\n",
      "[[ -4.05113750e-02  -8.49775267e-02   4.19586273e-02  -3.34241018e-01\n",
      "   -1.61918132e-01   3.57223919e-01]\n",
      " [ -1.37342223e-01  -1.35878928e-01  -1.10016252e-01  -2.80262318e-01\n",
      "   -2.77055623e-01   2.94970191e-01]\n",
      " [ -1.97257763e-03   1.14306171e-01  -9.80466178e-03  -4.98406590e-02\n",
      "    3.28861962e-02   1.51575735e+00]\n",
      " [  7.04245230e-02   4.13778436e-02   1.49333166e-02   7.34910651e-01\n",
      "    7.57564380e-01  -1.09952804e+00]\n",
      " [  1.06466253e-01   6.43375744e-02   3.92459845e-02  -5.40597907e-01\n",
      "   -6.32255470e-01  -8.64619836e-01]\n",
      " [  2.93539947e-03   8.34865510e-04   2.36829854e-02   4.70031252e-01\n",
      "    2.80778650e-01  -2.03803578e-01]]\n"
     ]
    }
   ],
   "source": [
    "# Comparing value\n",
    "print mu\n",
    "print mu2\n",
    "print mu3"
   ]
  },
  {
   "cell_type": "code",
   "execution_count": 96,
   "metadata": {
    "collapsed": false
   },
   "outputs": [
    {
     "name": "stdout",
     "output_type": "stream",
     "text": [
      "[[ 0.71640716  0.51146808  0.57251528  0.2204994   0.46464535  0.16410181]\n",
      " [ 1.11010689  0.90720976  1.06258925  0.2658547   0.57818387  0.51386202]\n",
      " [ 1.35294292  0.66268894  0.89404002  0.24217263  0.4707116   0.37867326]\n",
      " [ 0.59754132  0.79416585  0.80001113  0.5011433   0.6398332   0.79073217]\n",
      " [ 0.28594946  0.43716819  0.6298047   0.27047212  0.46420367  0.3867504 ]\n",
      " [ 1.44478089  1.80077441  1.5841213   0.84965169  1.13787962  1.96969504]]\n",
      "[[ 0.70750722  1.17713363  1.30456959  0.34256486  0.10371567  1.54198509]\n",
      " [ 0.48415749  0.92615446  0.68304973  0.47812167  0.2598459   1.91619079]\n",
      " [ 0.55127949  1.13025333  0.92465242  0.5387193   0.35923517  1.71270929]\n",
      " [ 0.26091919  0.31782402  0.19818077  0.44055814  0.49423994  1.24849524]\n",
      " [ 0.46654296  0.71487613  0.41514744  0.6515822   0.45241921  0.93958793]\n",
      " [ 0.13857153  0.56400559  0.29402873  0.38163688  0.15518971  2.05285062]]\n",
      "[[ 1.46517597  0.99919067  1.93199114  0.23161072  0.57908296  0.19392374]\n",
      " [ 0.96855566  0.75965235  2.42869332  0.17303751  0.463399    0.1538665 ]\n",
      " [ 1.65324045  0.90914895  1.88237441  0.17891833  0.43715737  0.23633731]\n",
      " [ 0.42564898  0.59641175  0.78979053  0.87931403  0.43541815  1.68428602]\n",
      " [ 0.20358615  0.64931801  0.73597137  1.00589182  0.71040969  1.1099631 ]\n",
      " [ 1.29830297  0.53374346  2.14886093  0.95898192  0.78239834  0.72352305]]\n"
     ]
    }
   ],
   "source": [
    "print sigma_diag\n",
    "print sigma_diag2\n",
    "print sigma_diag3"
   ]
  },
  {
   "cell_type": "code",
   "execution_count": 97,
   "metadata": {
    "collapsed": false
   },
   "outputs": [
    {
     "name": "stdout",
     "output_type": "stream",
     "text": [
      "[[-0.03526312 -9.41458649 -9.41458649 -9.41458649 -9.41458649 -3.37195365]\n",
      " [-9.28135786 -0.0520976  -2.98793858 -9.28135786 -9.28135786 -9.28135786]\n",
      " [-3.15421695 -4.24808989 -0.05897258 -9.19684978 -9.19684978 -9.19684978]\n",
      " [-9.46234345 -9.46234345 -9.46234345 -0.03439482 -3.41971062 -7.06444818]\n",
      " [-9.5277754  -3.55906784 -6.48325296 -9.5277754  -0.03067839 -9.5277754 ]\n",
      " [-9.5522265  -9.5522265  -9.5522265  -3.48611841 -9.5522265  -0.03139126]]\n",
      "[[ -0.0418062   -7.81261533  -2.99537544 -12.09935335  -8.31612631\n",
      "   -5.89637263]\n",
      " [ -5.87076454  -0.06279971  -4.60938851 -10.8437171   -3.44226665\n",
      "   -6.16112401]\n",
      " [ -5.48595785  -3.21253275  -0.06482923 -10.46997093  -6.3174197\n",
      "   -7.16918736]\n",
      " [ -7.80561011  -6.46602867  -6.11347767  -0.07136139  -4.81505057\n",
      "   -3.43292002]\n",
      " [ -9.34441109  -4.2486709   -8.49497209  -3.07448421  -0.04684031\n",
      "   -4.32094817]\n",
      " [ -3.39668156  -5.43282669  -7.87687275  -3.78946289  -5.623438\n",
      "   -0.05256675]]\n",
      "[[-0.04182487 -4.13277784 -3.924197   -5.64038402 -5.60650865 -9.65106239]\n",
      " [-6.69889474 -0.09989069 -3.68346623 -8.24516918 -3.8937193  -8.75127467]\n",
      " [-3.83956174 -3.87838317 -0.15872057 -3.27403894 -5.45204834 -3.97901487]\n",
      " [-5.28991793 -7.56322701 -3.35124516 -0.07644493 -3.18635627 -2.9981427 ]\n",
      " [-4.75126277 -2.87558563 -2.92218473 -3.61599857 -0.07698569 -4.20858421]\n",
      " [-5.3939413  -6.54390732 -4.3416618  -5.29059774 -5.41622218 -0.08738275]]\n"
     ]
    }
   ],
   "source": [
    "print log_transition_train\n",
    "print log_transition_train2\n",
    "print log_transition_train3"
   ]
  },
  {
   "cell_type": "code",
   "execution_count": 99,
   "metadata": {
    "collapsed": false
   },
   "outputs": [
    {
     "name": "stderr",
     "output_type": "stream",
     "text": [
      "/Users/nicolasdrizard/anaconda/envs/python2/lib/python2.7/site-packages/ipykernel/__main__.py:59: RuntimeWarning: divide by zero encountered in log\n",
      "/Users/nicolasdrizard/anaconda/envs/python2/lib/python2.7/site-packages/ipykernel/__main__.py:89: DeprecationWarning: using a non-integer number instead of an integer will result in an error in the future\n"
     ]
    },
    {
     "name": "stdout",
     "output_type": "stream",
     "text": [
      "ACCURACY train: 0.319666666667\n",
      "CPU times: user 6.95 s, sys: 43.7 ms, total: 6.99 s\n",
      "Wall time: 7.12 s\n"
     ]
    }
   ],
   "source": [
    "%%time\n",
    "# Sequence prediction after 1 iteration\n",
    "C = 6\n",
    "sample_size = 3000\n",
    "seq_pred = viterbi(x_standard[:sample_size,:], 4, log_transition_train3, mu3, sigma_diag3, C)\n",
    "# Shifting the index of 1\n",
    "seq_pred += 1\n",
    "print 'ACCURACY train: {}'.format(compute_accuracy(seq_pred, y_train[:sample_size]))"
   ]
  },
  {
   "cell_type": "code",
   "execution_count": 71,
   "metadata": {
    "collapsed": false
   },
   "outputs": [
    {
     "data": {
      "text/plain": [
       "array([ 1.00833793,  0.99308764,  0.99492882,  0.99715832,  1.00215098,\n",
       "        1.00454116])"
      ]
     },
     "execution_count": 71,
     "metadata": {},
     "output_type": "execute_result"
    }
   ],
   "source": [
    "np.sum(np.exp(log_transition_train), axis=0)"
   ]
  },
  {
   "cell_type": "code",
   "execution_count": 69,
   "metadata": {
    "collapsed": false
   },
   "outputs": [
    {
     "data": {
      "text/plain": [
       "array([6, 6])"
      ]
     },
     "execution_count": 69,
     "metadata": {},
     "output_type": "execute_result"
    }
   ],
   "source": [
    "np.sum(np.array([[1, 2, 3], [1, 2, 3]]), axis=1)"
   ]
  },
  {
   "cell_type": "code",
   "execution_count": null,
   "metadata": {
    "collapsed": true
   },
   "outputs": [],
   "source": []
  }
 ],
 "metadata": {
  "kernelspec": {
   "display_name": "Python 2",
   "language": "python",
   "name": "python2"
  },
  "language_info": {
   "codemirror_mode": {
    "name": "ipython",
    "version": 2
   },
   "file_extension": ".py",
   "mimetype": "text/x-python",
   "name": "python",
   "nbconvert_exporter": "python",
   "pygments_lexer": "ipython2",
   "version": "2.7.11"
  }
 },
 "nbformat": 4,
 "nbformat_minor": 0
}
